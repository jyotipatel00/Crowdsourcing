{
 "cells": [
  {
   "cell_type": "code",
   "execution_count": 1,
   "id": "54d66bc8",
   "metadata": {},
   "outputs": [],
   "source": [
    "import numpy as np\n",
    "import pandas as pd"
   ]
  },
  {
   "cell_type": "code",
   "execution_count": 2,
   "id": "142ca8ad",
   "metadata": {},
   "outputs": [
    {
     "data": {
      "text/html": [
       "<div>\n",
       "<style scoped>\n",
       "    .dataframe tbody tr th:only-of-type {\n",
       "        vertical-align: middle;\n",
       "    }\n",
       "\n",
       "    .dataframe tbody tr th {\n",
       "        vertical-align: top;\n",
       "    }\n",
       "\n",
       "    .dataframe thead th {\n",
       "        text-align: right;\n",
       "    }\n",
       "</style>\n",
       "<table border=\"1\" class=\"dataframe\">\n",
       "  <thead>\n",
       "    <tr style=\"text-align: right;\">\n",
       "      <th></th>\n",
       "      <th>question</th>\n",
       "      <th>rater</th>\n",
       "      <th>judgment</th>\n",
       "    </tr>\n",
       "  </thead>\n",
       "  <tbody>\n",
       "    <tr>\n",
       "      <th>0</th>\n",
       "      <td>81988805</td>\n",
       "      <td>df4efb63-1273-49f9-8ad1-bbe823db7e1c</td>\n",
       "      <td>3</td>\n",
       "    </tr>\n",
       "    <tr>\n",
       "      <th>1</th>\n",
       "      <td>81988805</td>\n",
       "      <td>297b9a2d-ba91-4611-b0ad-bf96d4e9e76d</td>\n",
       "      <td>3</td>\n",
       "    </tr>\n",
       "    <tr>\n",
       "      <th>2</th>\n",
       "      <td>81988805</td>\n",
       "      <td>b162cdcb-4d3e-48da-ba9e-f29a0ac8dd6e</td>\n",
       "      <td>3</td>\n",
       "    </tr>\n",
       "    <tr>\n",
       "      <th>3</th>\n",
       "      <td>81988805</td>\n",
       "      <td>e99c283f-ede0-40c4-9914-87a2a11e6f2c</td>\n",
       "      <td>3</td>\n",
       "    </tr>\n",
       "    <tr>\n",
       "      <th>4</th>\n",
       "      <td>81988805</td>\n",
       "      <td>42a4a1c9-4e4c-44ac-a20a-d9870532867d</td>\n",
       "      <td>3</td>\n",
       "    </tr>\n",
       "  </tbody>\n",
       "</table>\n",
       "</div>"
      ],
      "text/plain": [
       "   question                                 rater  judgment\n",
       "0  81988805  df4efb63-1273-49f9-8ad1-bbe823db7e1c         3\n",
       "1  81988805  297b9a2d-ba91-4611-b0ad-bf96d4e9e76d         3\n",
       "2  81988805  b162cdcb-4d3e-48da-ba9e-f29a0ac8dd6e         3\n",
       "3  81988805  e99c283f-ede0-40c4-9914-87a2a11e6f2c         3\n",
       "4  81988805  42a4a1c9-4e4c-44ac-a20a-d9870532867d         3"
      ]
     },
     "execution_count": 2,
     "metadata": {},
     "output_type": "execute_result"
    }
   ],
   "source": [
    "data = pd.read_csv('D:\\\\decertation\\\\data\\sentiment analysis dataset\\\\full_code\\\\cf-sentiment-basic.csv')\n",
    "data.head()"
   ]
  },
  {
   "cell_type": "code",
   "execution_count": 3,
   "id": "a287963a",
   "metadata": {},
   "outputs": [
    {
     "name": "stdout",
     "output_type": "stream",
     "text": [
      "No of question is 98980\n",
      "No of rater is 1960\n"
     ]
    }
   ],
   "source": [
    "print(f'No of {data.columns[0]} is {len(pd.unique(data[data.columns[0]]))}')\n",
    "print(f'No of {data.columns[1]} is {len(pd.unique(data[data.columns[1]]))}')"
   ]
  },
  {
   "cell_type": "code",
   "execution_count": 4,
   "id": "13c85062",
   "metadata": {},
   "outputs": [],
   "source": [
    "A = list(pd.unique(data[data.columns[1]]))\n",
    "\n",
    "annotator, rater = [], []\n",
    "for row in data[data.columns[1]]:\n",
    "    annotator.append(A.index(row))\n",
    "    rater.append(row)"
   ]
  },
  {
   "cell_type": "code",
   "execution_count": 5,
   "id": "13de6eaa",
   "metadata": {},
   "outputs": [],
   "source": [
    "B = list(pd.unique(data[data.columns[0]]))\n",
    "\n",
    "ques, question = [], []\n",
    "for row in data[data.columns[0]]:\n",
    "    ques.append(B.index(row))\n",
    "    question.append(row)"
   ]
  },
  {
   "cell_type": "code",
   "execution_count": 6,
   "id": "614f7f2f",
   "metadata": {},
   "outputs": [],
   "source": [
    "opinion = []\n",
    "for i in range(len(data[data.columns[2]])):\n",
    "    opinion.append(data[data.columns[2]][i])"
   ]
  },
  {
   "cell_type": "code",
   "execution_count": 7,
   "id": "4374849b",
   "metadata": {},
   "outputs": [],
   "source": [
    "df = {'Question' : question, 'rater': rater, 'Question_Reduced_Id': ques, 'annotator': annotator, 'opinion':opinion}\n",
    "df = pd.DataFrame(df)"
   ]
  },
  {
   "cell_type": "code",
   "execution_count": 8,
   "id": "40cc7da7",
   "metadata": {},
   "outputs": [],
   "source": [
    "df.to_csv('new_response.csv')"
   ]
  },
  {
   "cell_type": "markdown",
   "id": "353cac3b",
   "metadata": {},
   "source": [
    "# Response Matrix"
   ]
  },
  {
   "cell_type": "code",
   "execution_count": 9,
   "id": "67c5d304",
   "metadata": {},
   "outputs": [],
   "source": [
    "m, n = len(pd.unique(df[df.columns[3]])), len(pd.unique(df[df.columns[2]]))\n",
    "response = -np.ones((m,n), dtype = 'int')"
   ]
  },
  {
   "cell_type": "code",
   "execution_count": 10,
   "id": "1e76565c",
   "metadata": {},
   "outputs": [],
   "source": [
    "for i in range(len(data[data.columns[0]])):\n",
    "    response[df[df.columns[3]][i]][df[df.columns[2]][i]] = df[df.columns[4]][i]"
   ]
  },
  {
   "cell_type": "code",
   "execution_count": 11,
   "id": "e781226c",
   "metadata": {},
   "outputs": [],
   "source": [
    "with open('response_matrix.npy', 'wb') as f:\n",
    "    np.save(f, response)"
   ]
  },
  {
   "cell_type": "code",
   "execution_count": null,
   "id": "db538e90",
   "metadata": {},
   "outputs": [],
   "source": []
  }
 ],
 "metadata": {
  "kernelspec": {
   "display_name": "Python 3 (ipykernel)",
   "language": "python",
   "name": "python3"
  },
  "language_info": {
   "codemirror_mode": {
    "name": "ipython",
    "version": 3
   },
   "file_extension": ".py",
   "mimetype": "text/x-python",
   "name": "python",
   "nbconvert_exporter": "python",
   "pygments_lexer": "ipython3",
   "version": "3.9.7"
  }
 },
 "nbformat": 4,
 "nbformat_minor": 5
}
