{
 "cells": [
  {
   "attachments": {},
   "cell_type": "markdown",
   "id": "2e10809b",
   "metadata": {},
   "source": [
    "Include the effect of skip in our approach and as a opinion"
   ]
  },
  {
   "cell_type": "code",
   "execution_count": 1,
   "id": "9f67f9fb",
   "metadata": {},
   "outputs": [],
   "source": [
    "import numpy as np\n",
    "import pandas as pd\n",
    "import copy #Use for Deep copy\n",
    "import math\n",
    "from datetime import datetime\n",
    "\n",
    "import seaborn as sns\n",
    "import matplotlib.pyplot as plt"
   ]
  },
  {
   "cell_type": "code",
   "execution_count": null,
   "id": "b0cb20a0",
   "metadata": {},
   "outputs": [],
   "source": []
  },
  {
   "cell_type": "code",
   "execution_count": 4,
   "id": "7869d904",
   "metadata": {},
   "outputs": [
    {
     "name": "stdout",
     "output_type": "stream",
     "text": [
      "[[ 3 -1 -1 ... -1 -1 -1]\n",
      " [ 3 -1 -1 ... -1 -1 -1]\n",
      " [ 3 -1  1 ... -1 -1  2]\n",
      " ...\n",
      " [-1 -1 -1 ... -1 -1 -1]\n",
      " [-1 -1 -1 ... -1 -1 -1]\n",
      " [-1 -1 -1 ... -1 -1 -1]]\n"
     ]
    }
   ],
   "source": [
    "with open('D:\\\\decertation\\\\data\\sentiment analysis dataset\\\\full_code\\\\response_matrix.npy', 'rb') as f:\n",
    "    response_matrix = np.load(f)\n",
    "print(response_matrix)"
   ]
  },
  {
   "cell_type": "code",
   "execution_count": null,
   "id": "ab4d86c1",
   "metadata": {},
   "outputs": [],
   "source": []
  },
  {
   "cell_type": "code",
   "execution_count": 5,
   "id": "80d68416",
   "metadata": {},
   "outputs": [
    {
     "name": "stdout",
     "output_type": "stream",
     "text": [
      "   Unnamed: 0  original_question   ques  new_judgement\n",
      "0           0           79185724  72701              1\n",
      "1           1           79185900  72868              1\n",
      "2           2           79186190  73151              2\n",
      "3           3           79186569  73515              2\n",
      "4           4           79186651  73592              0\n"
     ]
    }
   ],
   "source": [
    "train = pd.read_csv('D:\\\\decertation\\\\data\\sentiment analysis dataset\\\\full_code\\\\new_gold.csv')\n",
    "print(train.head())"
   ]
  },
  {
   "cell_type": "code",
   "execution_count": 6,
   "id": "1679eedc",
   "metadata": {},
   "outputs": [
    {
     "name": "stdout",
     "output_type": "stream",
     "text": [
      "In gold data Positive : 190, Neutral : 250, Negetive : 228,        Not Related : 307, Can not tell: 25\n"
     ]
    }
   ],
   "source": [
    "judgement_counts = np.bincount(train['new_judgement'])\n",
    "Negetive = judgement_counts[0]\n",
    "Neutral = judgement_counts[1]\n",
    "Positive = judgement_counts[2]\n",
    "not_related = judgement_counts[3]\n",
    "cant_tell = judgement_counts[4]\n",
    "\n",
    "print(f'In gold data Positive : {Positive}, Neutral : {Neutral}, Negetive : {Negetive},\\\n",
    "        Not Related : {not_related}, Can not tell: {cant_tell}')"
   ]
  },
  {
   "cell_type": "code",
   "execution_count": 7,
   "id": "9a579c4f",
   "metadata": {},
   "outputs": [],
   "source": [
    "c, r = len(np.unique(response_matrix))-1, response_matrix.shape[1]\n",
    "p = r * c"
   ]
  },
  {
   "cell_type": "code",
   "execution_count": 8,
   "id": "e0d80e57",
   "metadata": {},
   "outputs": [
    {
     "name": "stdout",
     "output_type": "stream",
     "text": [
      "Total question 98980\n"
     ]
    }
   ],
   "source": [
    "Tot_ques = r\n",
    "print(f\"Total question {Tot_ques}\")"
   ]
  },
  {
   "attachments": {},
   "cell_type": "markdown",
   "id": "b3daa346",
   "metadata": {},
   "source": [
    "# Proposed approach for streaming data"
   ]
  },
  {
   "attachments": {},
   "cell_type": "markdown",
   "id": "b5abd779",
   "metadata": {},
   "source": [
    "Calculating initial accuracy of annotators"
   ]
  },
  {
   "cell_type": "code",
   "execution_count": 9,
   "id": "30210074",
   "metadata": {},
   "outputs": [
    {
     "name": "stdout",
     "output_type": "stream",
     "text": [
      "[0.         0.66666667 0.85714286 0.86363636 0.5       ]\n"
     ]
    }
   ],
   "source": [
    "s1 = int(len(train)* 0.3)\n",
    "train2 = train[ : s1]\n",
    "\n",
    "accuracy = [1 / len(train2)]*response_matrix.shape[0]\n",
    "for i in range (response_matrix.shape[0]):\n",
    "    tot, corr = 0.0, 0.0\n",
    "    for j in range(len(train2)):\n",
    "        if -1 != response_matrix[i][train2[train2.columns[2]][j]]:\n",
    "            tot += 1\n",
    "            if train2[train2.columns[3]][j] == response_matrix[i][train2[train2.columns[2]][j]]:\n",
    "                corr += 1\n",
    "    if tot != 0:\n",
    "        accuracy[i] += corr / tot\n",
    "minacc = np.min(accuracy)\n",
    "maxacc = np.max(accuracy)\n",
    "accuracy = (accuracy - minacc)/ (maxacc-minacc)\n",
    "print(accuracy[ : 5])"
   ]
  },
  {
   "attachments": {},
   "cell_type": "markdown",
   "id": "8050c87a",
   "metadata": {},
   "source": [
    "Required function"
   ]
  },
  {
   "cell_type": "code",
   "execution_count": 10,
   "id": "eb0e672e",
   "metadata": {},
   "outputs": [],
   "source": [
    "vector_mapping = {\n",
    "        0: np.array((1, 0, 0, 0)),\n",
    "        1: np.array((1, 1, 0, 0)),\n",
    "        2: np.array((-1, 0, 0, 0)),\n",
    "        3: np.array((1, 1, 1, 0)),\n",
    "        4: np.array((1, 1, 1, 1))\n",
    "    }\n",
    "\n",
    "def vectorised(a):\n",
    "    return vector_mapping.get(a, np.array((0, 0, 0, 0)))"
   ]
  },
  {
   "cell_type": "code",
   "execution_count": 11,
   "id": "b7030076",
   "metadata": {},
   "outputs": [],
   "source": [
    "def dist(a,b):\n",
    "    s = 0\n",
    "    for j in range(len(a)):\n",
    "        p, q = vectorised(a[j]), vectorised(b[j])\n",
    "        s += math.dist(p, q)\n",
    "    return s"
   ]
  },
  {
   "cell_type": "code",
   "execution_count": null,
   "id": "f192e5b1",
   "metadata": {},
   "outputs": [],
   "source": []
  },
  {
   "cell_type": "code",
   "execution_count": 12,
   "id": "f71629a4",
   "metadata": {},
   "outputs": [],
   "source": [
    "# def difficulty(block, difficulty_list, total):\n",
    "#     total += block.shape[0]\n",
    "#     for j in range(block.shape[1]):\n",
    "#         for i in range(block.shape[0]):\n",
    "#             if block[i][j] == 4:  #block[i][j] == 4 means corresponding response is \"I can't tell\"\n",
    "#                 difficulty_list[j] += 1\n",
    "#     return difficulty_list, total"
   ]
  },
  {
   "cell_type": "code",
   "execution_count": 13,
   "id": "6e1a0c6a",
   "metadata": {},
   "outputs": [],
   "source": [
    "def difficulty(block, difficulty_list, total):\n",
    "    total += block.shape[0]\n",
    "    A = block.T\n",
    "    for j in range(block.shape[1]):\n",
    "        unique, counts = np.unique(A[j], return_counts=True)\n",
    "        \n",
    "        difficulty_list[j] += 0 if np.any(counts[np.where(unique == 4)])==False else counts[np.where(unique == 4)][0]\n",
    "    return difficulty_list, total"
   ]
  },
  {
   "cell_type": "code",
   "execution_count": 14,
   "id": "f2960573",
   "metadata": {},
   "outputs": [],
   "source": [
    "# def local_directory(row):\n",
    "#     local_dict = {}\n",
    "#     local_dict['vector'] = row\n",
    "#     local_dict['frequency'] = 1\n",
    "    \n",
    "#     unique, counts = np.unique(row, return_counts=True)\n",
    "#     s = 0 if np.any(counts[np.where(unique == -1)]) == False else counts[np.where(unique == -1)][0]\n",
    "#     local_dict['response_number'] = Tot_ques - s\n",
    "    \n",
    "#     return local_dict"
   ]
  },
  {
   "cell_type": "code",
   "execution_count": 15,
   "id": "4447efb8",
   "metadata": {},
   "outputs": [],
   "source": [
    "def local_directory(row):\n",
    "    local_dict = {\n",
    "        'vector': row,\n",
    "        'frequency': 1,\n",
    "        'response_number': np.count_nonzero(row != -1)\n",
    "    }\n",
    "    return local_dict"
   ]
  },
  {
   "cell_type": "code",
   "execution_count": 16,
   "id": "5c078e50",
   "metadata": {},
   "outputs": [],
   "source": [
    "#Cluster with distance = hyp\n",
    "def cluster(cluster_dict, block, hyp):\n",
    "    cluster_id = []\n",
    "    distance, i = 0, len(cluster_dict)\n",
    "    for j in range(len(block)):\n",
    "        if not bool(cluster_dict):  #Check if cluster_dict is empty\n",
    "            i += 1\n",
    "            cluster_dict[i] = local_directory(block[j])\n",
    "            cluster_id.append(i)\n",
    "#             distance += 0\n",
    "\n",
    "        else:\n",
    "            l, k = 1, i\n",
    "            while l <= k:\n",
    "                d = dist(block[j], cluster_dict[l]['vector'])\n",
    "                if d <= hyp:\n",
    "                    cluster_dict[l]['frequency'] += 1\n",
    "                    cluster_id.append(l)\n",
    "                    distance += d\n",
    "\n",
    "                    break\n",
    "                else:\n",
    "                    l += 1\n",
    "                if l == k+1:\n",
    "                    i += 1\n",
    "                    cluster_dict[i] = local_directory(block[j])\n",
    "                    cluster_id.append(i)\n",
    "#                     distance += 0\n",
    "\n",
    "    return cluster_dict, cluster_id, distance"
   ]
  },
  {
   "cell_type": "code",
   "execution_count": 17,
   "id": "76a58286",
   "metadata": {},
   "outputs": [],
   "source": [
    "#Clustering with finding the distance\n",
    "def clustering(cluster_dict, block, d):\n",
    "    # Use ELBOW Method to find the threshold of the distance\n",
    "    distance_list = []\n",
    "    \n",
    "    for it in range (1,100):\n",
    "        k = it * 100\n",
    "        cluster_dictionary = copy.deepcopy(cluster_dict)\n",
    "        _, _, distance = cluster(cluster_dictionary, block, k)\n",
    "        distance_list.append(distance)\n",
    "\n",
    "\n",
    "    ratio = [(distance_list[i] - distance_list[i-1]) * 0.001 for i in range(1, len(distance_list))]\n",
    "    ratio1 = [a for a in ratio if a != 0]\n",
    "    index = [i for i, a in enumerate(ratio) if a != 0]\n",
    "\n",
    "    ind_ch = [(ratio1[i] - ratio1[i-1]) / (index[i] - index[i-1]) for i in range(1, len(index))]\n",
    "\n",
    "    # dis = d    \n",
    "    # for index in range(1, len(ind_ch)):\n",
    "    #     if ind_ch[index] >= 1:\n",
    "    #         a = ind_ch.index(ind_ch[index]) + 1\n",
    "    #         dis = ratio.index(ratio1[a])*100\n",
    "    #         break\n",
    "\n",
    "    dis = d\n",
    "    index = next((i for i, val in enumerate(ind_ch[1:], start=1) if val >= 1), None)\n",
    "    if index is not None:\n",
    "        a = ind_ch.index(ind_ch[index]) + 1\n",
    "        dis = ratio.index(ratio1[a]) * 100\n",
    "                \n",
    "\n",
    "#     cluster_dict,cluster_id, _ = cluster(cluster_dict, block, dis)   \n",
    "    return cluster_dict, dis"
   ]
  },
  {
   "cell_type": "code",
   "execution_count": 18,
   "id": "935da581",
   "metadata": {},
   "outputs": [],
   "source": [
    "def judge(J, block, cluster_dict, a, dis, accuracy_list):    \n",
    "    cluster_dict, cluster_id, _ = cluster(cluster_dict, block, dis)\n",
    "    \n",
    "    weight = []\n",
    "    for k in range(block.shape[0]):\n",
    "        w = accuracy_list[a + k] + const * cluster_dict[cluster_id[k]]['response_number']/cluster_dict[cluster_id[k]]['frequency']\n",
    "        weight.append(w)\n",
    "    \n",
    "    for j in range(block.shape[1]):\n",
    "        for k in range(block.shape[0]):\n",
    "            if block[k][j] != -1:\n",
    "                J[j][block[k][j]] += weight[k]\n",
    "\n",
    "    return J, cluster_dict"
   ]
  },
  {
   "attachments": {},
   "cell_type": "markdown",
   "id": "b5796fd8",
   "metadata": {},
   "source": [
    "Main function for Proposed approach"
   ]
  },
  {
   "cell_type": "code",
   "execution_count": 19,
   "id": "f90d48cf",
   "metadata": {},
   "outputs": [],
   "source": [
    "const = 1 / Tot_ques\n",
    "dis = 1000\n",
    "cluster_dict = {}\n",
    "J = np.array([0.]*p).reshape(r, c)\n",
    "Result = np.array([-1]*r)\n",
    "difficulty_list = [0]*response_matrix.shape[1]\n",
    "total = 0"
   ]
  },
  {
   "cell_type": "code",
   "execution_count": 20,
   "id": "146ee1ac",
   "metadata": {},
   "outputs": [],
   "source": [
    "# total = 10\n",
    "# a = 0\n",
    "# accuracy_list = [1, 2, 3, 4, 5]\n",
    "# difficulty_list = [1]\n",
    "# for j in range(3):\n",
    "#     accuracy_list[a:a + 4] += difficulty_list[j] / total"
   ]
  },
  {
   "cell_type": "code",
   "execution_count": 21,
   "id": "f6845267",
   "metadata": {},
   "outputs": [
    {
     "name": "stdout",
     "output_type": "stream",
     "text": [
      "start time : 2023-05-31 14:57:35.382442  end time : 2023-05-31 20:45:04.034061  required time : 5:47:28.651619\n",
      "start time : 2023-05-31 20:45:04.047038  end time : 2023-05-31 20:59:12.355163  required time : 0:14:08.308125\n",
      "Accuracy after 50 annotators' response is 55.1000 %\n",
      "start time : 2023-05-31 20:59:12.355163  end time : 2023-05-31 21:35:44.715879  required time : 0:36:32.360716\n",
      "Accuracy after 100 annotators' response is 71.7000 %\n",
      "start time : 2023-05-31 21:35:44.715879  end time : 2023-05-31 22:31:52.721539  required time : 0:56:08.005660\n",
      "Accuracy after 150 annotators' response is 77.5000 %\n",
      "start time : 2023-05-31 22:31:52.723533  end time : 2023-06-01 00:26:00.819229  required time : 1:54:08.095696\n",
      "Accuracy after 200 annotators' response is 81.4000 %\n",
      "start time : 2023-06-01 00:26:00.819229  end time : 2023-06-01 01:55:31.031095  required time : 1:29:30.211866\n",
      "Accuracy after 250 annotators' response is 84.0000 %\n",
      "start time : 2023-06-01 01:55:31.031095  end time : 2023-06-01 03:22:39.638514  required time : 1:27:08.607419\n",
      "Accuracy after 300 annotators' response is 84.9000 %\n",
      "start time : 2023-06-01 03:22:39.638514  end time : 2023-06-01 04:59:30.016774  required time : 1:36:50.378260\n",
      "Accuracy after 350 annotators' response is 85.4000 %\n",
      "start time : 2023-06-01 04:59:30.016774  end time : 2023-06-01 06:25:31.692283  required time : 1:26:01.675509\n",
      "Accuracy after 400 annotators' response is 86.0000 %\n",
      "start time : 2023-06-01 06:25:31.692283  end time : 2023-06-01 08:21:29.530117  required time : 1:55:57.837834\n",
      "Accuracy after 450 annotators' response is 86.3000 %\n",
      "start time : 2023-06-01 08:21:29.530117  end time : 2023-06-01 09:47:53.314266  required time : 1:26:23.784149\n",
      "Accuracy after 500 annotators' response is 86.6000 %\n",
      "start time : 2023-06-01 09:47:53.314266  end time : 2023-06-01 11:11:04.320978  required time : 1:23:11.006712\n",
      "Accuracy after 550 annotators' response is 87.3000 %\n",
      "start time : 2023-06-01 11:11:04.320978  end time : 2023-06-01 13:02:27.750304  required time : 1:51:23.429326\n",
      "Accuracy after 600 annotators' response is 87.3000 %\n",
      "start time : 2023-06-01 13:02:27.750304  end time : 2023-06-01 14:47:32.720149  required time : 1:45:04.969845\n",
      "Accuracy after 650 annotators' response is 87.3000 %\n",
      "start time : 2023-06-01 14:47:32.728159  end time : 2023-06-01 15:56:50.480278  required time : 1:09:17.752119\n",
      "Accuracy after 700 annotators' response is 87.3000 %\n",
      "start time : 2023-06-01 15:56:50.480278  end time : 2023-06-01 16:58:49.336841  required time : 1:01:58.856563\n",
      "Accuracy after 750 annotators' response is 87.2000 %\n",
      "start time : 2023-06-01 16:58:49.336841  end time : 2023-06-01 18:04:04.720563  required time : 1:05:15.383722\n",
      "Accuracy after 800 annotators' response is 87.5000 %\n",
      "start time : 2023-06-01 18:04:04.749465  end time : 2023-06-01 19:46:29.130626  required time : 1:42:24.381161\n",
      "Accuracy after 850 annotators' response is 87.6000 %\n",
      "start time : 2023-06-01 19:46:29.130626  end time : 2023-06-01 20:58:25.115124  required time : 1:11:55.984498\n",
      "Accuracy after 900 annotators' response is 87.3000 %\n",
      "start time : 2023-06-01 20:58:25.115124  end time : 2023-06-01 21:15:51.544206  required time : 0:17:26.429082\n",
      "Accuracy after 950 annotators' response is 87.3000 %\n",
      "start time : 2023-06-01 21:15:51.544206  end time : 2023-06-01 22:05:10.213025  required time : 0:49:18.668819\n",
      "Accuracy after 1000 annotators' response is 87.3000 %\n",
      "start time : 2023-06-01 22:05:10.213025  end time : 2023-06-01 23:14:20.294907  required time : 1:09:10.081882\n",
      "Accuracy after 1050 annotators' response is 87.4000 %\n",
      "start time : 2023-06-01 23:14:20.310750  end time : 2023-06-01 23:30:20.002511  required time : 0:15:59.691761\n",
      "Accuracy after 1100 annotators' response is 87.4000 %\n",
      "start time : 2023-06-01 23:30:20.002511  end time : 2023-06-02 01:03:56.709186  required time : 1:33:36.706675\n",
      "Accuracy after 1150 annotators' response is 87.5000 %\n",
      "start time : 2023-06-02 01:03:56.709186  end time : 2023-06-02 04:38:40.959058  required time : 3:34:44.249872\n",
      "Accuracy after 1200 annotators' response is 87.7000 %\n",
      "start time : 2023-06-02 04:38:40.959058  end time : 2023-06-02 07:36:04.143320  required time : 2:57:23.184262\n",
      "Accuracy after 1250 annotators' response is 87.8000 %\n",
      "start time : 2023-06-02 07:36:04.143320  end time : 2023-06-02 10:25:45.334741  required time : 2:49:41.191421\n",
      "Accuracy after 1300 annotators' response is 87.8000 %\n",
      "start time : 2023-06-02 10:25:45.334741  end time : 2023-06-02 12:42:39.879206  required time : 2:16:54.544465\n",
      "Accuracy after 1350 annotators' response is 87.8000 %\n",
      "start time : 2023-06-02 12:42:39.901281  end time : 2023-06-02 13:09:45.234746  required time : 0:27:05.333465\n",
      "Accuracy after 1400 annotators' response is 87.9000 %\n",
      "start time : 2023-06-02 13:09:45.234746  end time : 2023-06-02 13:18:45.664234  required time : 0:09:00.429488\n",
      "Accuracy after 1450 annotators' response is 87.9000 %\n",
      "start time : 2023-06-02 13:18:45.664234  end time : 2023-06-02 13:44:31.332228  required time : 0:25:45.667994\n",
      "Accuracy after 1500 annotators' response is 87.9000 %\n",
      "start time : 2023-06-02 13:44:31.332228  end time : 2023-06-02 17:17:18.452189  required time : 3:32:47.119961\n",
      "Accuracy after 1550 annotators' response is 88.0000 %\n",
      "start time : 2023-06-02 17:17:18.461854  end time : 2023-06-02 20:09:20.348898  required time : 2:52:01.887044\n",
      "Accuracy after 1600 annotators' response is 88.1000 %\n",
      "start time : 2023-06-02 20:09:20.348898  end time : 2023-06-02 22:24:16.051175  required time : 2:14:55.702277\n",
      "Accuracy after 1650 annotators' response is 88.1000 %\n",
      "start time : 2023-06-02 22:24:16.079483  end time : 2023-06-02 23:51:15.504509  required time : 1:26:59.425026\n",
      "Accuracy after 1700 annotators' response is 88.1000 %\n",
      "start time : 2023-06-02 23:51:15.547811  end time : 2023-06-03 00:28:52.594337  required time : 0:37:37.046526\n",
      "Accuracy after 1750 annotators' response is 88.1000 %\n",
      "start time : 2023-06-03 00:28:52.594337  end time : 2023-06-03 00:53:59.661862  required time : 0:25:07.067525\n",
      "Accuracy after 1800 annotators' response is 88.1000 %\n",
      "start time : 2023-06-03 00:53:59.661862  end time : 2023-06-03 01:03:57.028906  required time : 0:09:57.367044\n",
      "Accuracy after 1850 annotators' response is 88.1000 %\n",
      "start time : 2023-06-03 01:03:57.032223  end time : 2023-06-03 01:05:50.596600  required time : 0:01:53.564377\n",
      "Accuracy after 1900 annotators' response is 88.1000 %\n",
      "start time : 2023-06-03 01:05:50.613235  end time : 2023-06-03 01:06:35.753874  required time : 0:00:45.140639\n",
      "Accuracy after 1950 annotators' response is 88.2000 %\n"
     ]
    }
   ],
   "source": [
    "a, b = 0, 50\n",
    "\n",
    "time1 = datetime.now()\n",
    "A = response_matrix[a : b]\n",
    "_, dis = clustering(cluster_dict, A, dis)\n",
    "time2 = datetime.now()\n",
    "print(f\"start time : {time1}  end time : {time2}  required time : {(time2 - time1)}\")\n",
    "\n",
    "while b <= response_matrix.shape[0]:\n",
    "    \n",
    "    time1 = datetime.now()\n",
    "    A = response_matrix[a : b]\n",
    "    \n",
    "    #Update the accuracy of the annotators\n",
    "    difficulty_list, total = difficulty(A, difficulty_list, total)\n",
    "    \n",
    "    accuracy_list = copy.deepcopy(accuracy)\n",
    "    for i in range(A.shape[0]):\n",
    "        for j in range(A.shape[1]):\n",
    "            accuracy_list[a + i] +=  difficulty_list[j] / total \n",
    "#     for j in range(A.shape[1]):\n",
    "#         accuracy_list[a:a + A.shape[0]] += difficulty_list[j] / total\n",
    "        \n",
    "    \n",
    "    #Judgement\n",
    "    J, cluster_dict = judge(J, A, cluster_dict, a, dis, accuracy_list)\n",
    "    \n",
    "    # Calculate final result\n",
    "    # for j in range(J.shape[0]):\n",
    "    #     Result[j] = np.argmax(J[j])\n",
    "    Result = np.argmax(J, axis=1)\n",
    "    \n",
    "    #Calculate accuracy\n",
    "    # right = 0\n",
    "    # for j in range(len(train)):\n",
    "    #     if train[train.columns[3]][j] == Result[train[train.columns[2]][j]]:\n",
    "    #         right += 1\n",
    "    right = np.sum(train[train.columns[3]].values == Result[train[train.columns[2]].values])\n",
    "    \n",
    "    time2 = datetime.now()\n",
    "    print(f\"start time : {time1}  end time : {time2}  required time : {(time2 - time1)}\")\n",
    "    print(f'Accuracy after {b} annotators\\' response is {right / len(train) * 100 :.4f} %')\n",
    "    \n",
    "    \n",
    "    a = b\n",
    "    b += 50"
   ]
  },
  {
   "attachments": {},
   "cell_type": "markdown",
   "id": "41bb368d",
   "metadata": {},
   "source": [
    "Confusion matrix"
   ]
  },
  {
   "cell_type": "code",
   "execution_count": 22,
   "id": "128565f9",
   "metadata": {},
   "outputs": [
    {
     "name": "stdout",
     "output_type": "stream",
     "text": [
      "[[194  20   2   8   4]\n",
      " [  3 217   1  21   8]\n",
      " [  1  15 167   7   0]\n",
      " [  1   7   2 297   0]\n",
      " [  1   9   2   6   7]]\n"
     ]
    }
   ],
   "source": [
    "Confusion_matrix = np.zeros((5, 5), dtype = 'int64')\n",
    "for j in range(len(train)):\n",
    "    if train[train.columns[3]][j] == 0:\n",
    "        if train[train.columns[3]][j] == Result[train[train.columns[2]][j]]:\n",
    "            Confusion_matrix[0][0] += 1\n",
    "        elif Result[train[train.columns[2]][j]] == 1:\n",
    "            Confusion_matrix[0][1] += 1\n",
    "        elif Result[train[train.columns[2]][j]] == 2:\n",
    "            Confusion_matrix[0][2] += 1\n",
    "        elif Result[train[train.columns[2]][j]] == 3:\n",
    "            Confusion_matrix[0][3] += 1\n",
    "        elif Result[train[train.columns[2]][j]] == 4:\n",
    "            Confusion_matrix[0][4] += 1\n",
    "            \n",
    "    if train[train.columns[3]][j] == 1:\n",
    "        if train[train.columns[3]][j] == Result[train[train.columns[2]][j]]:\n",
    "            Confusion_matrix[1][1] += 1\n",
    "        elif Result[train[train.columns[2]][j]] == 0:\n",
    "            Confusion_matrix[1][0] += 1\n",
    "        elif Result[train[train.columns[2]][j]] == 2:\n",
    "            Confusion_matrix[1][2] += 1\n",
    "        elif Result[train[train.columns[2]][j]] == 3:\n",
    "            Confusion_matrix[1][3] += 1\n",
    "        elif Result[train[train.columns[2]][j]] == 4:\n",
    "            Confusion_matrix[1][4] += 1\n",
    "            \n",
    "    if train[train.columns[3]][j] == 2:\n",
    "        if train[train.columns[3]][j] == Result[train[train.columns[2]][j]]:\n",
    "            Confusion_matrix[2][2] += 1\n",
    "        elif Result[train[train.columns[2]][j]] == 0:\n",
    "            Confusion_matrix[2][0] += 1\n",
    "        elif Result[train[train.columns[2]][j]] == 1:\n",
    "            Confusion_matrix[2][1] += 1\n",
    "        elif Result[train[train.columns[2]][j]] == 3:\n",
    "            Confusion_matrix[2][3] += 1\n",
    "        elif Result[train[train.columns[2]][j]] == 4:\n",
    "            Confusion_matrix[2][4] += 1\n",
    "    \n",
    "    if train[train.columns[3]][j] == 3:\n",
    "        if train[train.columns[3]][j] == Result[train[train.columns[2]][j]]:\n",
    "            Confusion_matrix[3][3] += 1\n",
    "        elif Result[train[train.columns[2]][j]] == 0:\n",
    "            Confusion_matrix[3][0] += 1\n",
    "        elif Result[train[train.columns[2]][j]] == 1:\n",
    "            Confusion_matrix[3][1] += 1\n",
    "        elif Result[train[train.columns[2]][j]] == 2:\n",
    "            Confusion_matrix[3][2] += 1\n",
    "        elif Result[train[train.columns[2]][j]] == 4:\n",
    "            Confusion_matrix[3][4] += 1\n",
    "    \n",
    "    if train[train.columns[3]][j] == 4:\n",
    "        if train[train.columns[3]][j] == Result[train[train.columns[2]][j]]:\n",
    "            Confusion_matrix[4][4] += 1\n",
    "        elif Result[train[train.columns[2]][j]] == 0:\n",
    "            Confusion_matrix[4][0] += 1\n",
    "        elif Result[train[train.columns[2]][j]] == 1:\n",
    "            Confusion_matrix[4][1] += 1\n",
    "        elif Result[train[train.columns[2]][j]] == 2:\n",
    "            Confusion_matrix[4][2] += 1\n",
    "        elif Result[train[train.columns[2]][j]] == 3:\n",
    "            Confusion_matrix[4][3] += 1\n",
    "    \n",
    "print(Confusion_matrix)"
   ]
  },
  {
   "cell_type": "code",
   "execution_count": 23,
   "id": "35824136",
   "metadata": {},
   "outputs": [
    {
     "data": {
      "image/png": "[encoded data removed]",
      "text/plain": [
       "<Figure size 720x432 with 2 Axes>"
      ]
     },
     "metadata": {
      "needs_background": "light"
     },
     "output_type": "display_data"
    }
   ],
   "source": [
    "plt.figure(figsize=(10,6))\n",
    "ax = sns.heatmap(Confusion_matrix, annot=True, cmap = plt.cm.magma)\n",
    "\n",
    "ax.set_title('Confusion Matrix\\n');\n",
    "ax.set_xlabel('\\nPredicted Values')\n",
    "ax.set_ylabel('Actual Values ');\n",
    "\n",
    "ax.xaxis.set_ticklabels(i for i in ('Negetive', 'Neutral', 'Positive', 'Not related', 'Cant tell'))\n",
    "ax.yaxis.set_ticklabels(i for i in ('Negetive', 'Neutral', 'Positive', 'Not related', 'Cant tell'))\n",
    "plt.show()"
   ]
  },
  {
   "cell_type": "code",
   "execution_count": null,
   "id": "b3b5436f",
   "metadata": {},
   "outputs": [],
   "source": []
  },
  {
   "attachments": {},
   "cell_type": "markdown",
   "id": "056bcb0e",
   "metadata": {},
   "source": [
    "# Majority voting"
   ]
  },
  {
   "cell_type": "code",
   "execution_count": 24,
   "id": "1462b98b",
   "metadata": {},
   "outputs": [],
   "source": [
    "def majority(J, block, a):\n",
    "    for j in range(block.shape[1]):\n",
    "        for k in range(block.shape[0]):\n",
    "            if response_matrix[a + k][j] != -1:\n",
    "                M[j][response_matrix[a + k][j]] += 1  \n",
    "        \n",
    "    return M"
   ]
  },
  {
   "cell_type": "code",
   "execution_count": 25,
   "id": "1476c5cd",
   "metadata": {},
   "outputs": [
    {
     "name": "stdout",
     "output_type": "stream",
     "text": [
      "Accuracy after 50 annotators' response is 55.0000 %\n",
      "Accuracy after 100 annotators' response is 71.8000 %\n",
      "Accuracy after 150 annotators' response is 77.5000 %\n",
      "Accuracy after 200 annotators' response is 81.3000 %\n",
      "Accuracy after 250 annotators' response is 84.0000 %\n",
      "Accuracy after 300 annotators' response is 85.2000 %\n",
      "Accuracy after 350 annotators' response is 85.7000 %\n",
      "Accuracy after 400 annotators' response is 86.3000 %\n",
      "Accuracy after 450 annotators' response is 86.7000 %\n",
      "Accuracy after 500 annotators' response is 87.4000 %\n",
      "Accuracy after 550 annotators' response is 87.6000 %\n"
     ]
    }
   ],
   "source": [
    "a, b = 0, 50\n",
    "\n",
    "M = np.array([-1]*p).reshape(r, c)\n",
    "Majority_Result = np.array([-1.]*r)\n",
    "\n",
    "# while b <= response_matrix.shape[0]:\n",
    "while b <= 550:\n",
    "    A = response_matrix[a : b]\n",
    "    M = majority(M, A, a)\n",
    "    \n",
    "    for j in range(M.shape[0]):\n",
    "        Majority_Result[j] = np.argmax(M[j])\n",
    "    \n",
    "    right = 0\n",
    "    for j in range(len(train)):\n",
    "        if train[train.columns[3]][j] == Majority_Result[train[train.columns[2]][j]]:\n",
    "            right += 1\n",
    "\n",
    "    print(f'Accuracy after {b} annotators\\' response is {right / len(train) * 100 :.4f} %')\n",
    "    \n",
    "    a = b\n",
    "    b += 50"
   ]
  },
  {
   "attachments": {},
   "cell_type": "markdown",
   "id": "2a4b7275",
   "metadata": {},
   "source": [
    "Confusion matrix"
   ]
  },
  {
   "cell_type": "code",
   "execution_count": 26,
   "id": "8777a21c",
   "metadata": {},
   "outputs": [
    {
     "name": "stdout",
     "output_type": "stream",
     "text": [
      "[[202  18   2   4   2]\n",
      " [  4 219   2  18   7]\n",
      " [  3  22 161   4   0]\n",
      " [  7  10   0 288   0]\n",
      " [  4   7   2   6   6]]\n"
     ]
    }
   ],
   "source": [
    "Confusion_matrix = np.zeros((5, 5), dtype = 'int64')\n",
    "for j in range(len(train)):\n",
    "    if train[train.columns[3]][j] == 0:\n",
    "        if train[train.columns[3]][j] == Majority_Result[train[train.columns[2]][j]]:\n",
    "            Confusion_matrix[0][0] += 1\n",
    "        elif Majority_Result[train[train.columns[2]][j]] == 1:\n",
    "            Confusion_matrix[0][1] += 1\n",
    "        elif Majority_Result[train[train.columns[2]][j]] == 2:\n",
    "            Confusion_matrix[0][2] += 1\n",
    "        elif Majority_Result[train[train.columns[2]][j]] == 3:\n",
    "            Confusion_matrix[0][3] += 1\n",
    "        elif Majority_Result[train[train.columns[2]][j]] == 4:\n",
    "            Confusion_matrix[0][4] += 1\n",
    "            \n",
    "    if train[train.columns[3]][j] == 1:\n",
    "        if train[train.columns[3]][j] == Majority_Result[train[train.columns[2]][j]]:\n",
    "            Confusion_matrix[1][1] += 1\n",
    "        elif Majority_Result[train[train.columns[2]][j]] == 0:\n",
    "            Confusion_matrix[1][0] += 1\n",
    "        elif Majority_Result[train[train.columns[2]][j]] == 2:\n",
    "            Confusion_matrix[1][2] += 1\n",
    "        elif Majority_Result[train[train.columns[2]][j]] == 3:\n",
    "            Confusion_matrix[1][3] += 1\n",
    "        elif Majority_Result[train[train.columns[2]][j]] == 4:\n",
    "            Confusion_matrix[1][4] += 1\n",
    "    \n",
    "    if train[train.columns[3]][j] == 2:\n",
    "        if train[train.columns[3]][j] == Majority_Result[train[train.columns[2]][j]]:\n",
    "            Confusion_matrix[2][2] += 1\n",
    "        elif Majority_Result[train[train.columns[2]][j]] == 0:\n",
    "            Confusion_matrix[2][0] += 1\n",
    "        elif Majority_Result[train[train.columns[2]][j]] == 1:\n",
    "            Confusion_matrix[2][1] += 1\n",
    "        elif Majority_Result[train[train.columns[2]][j]] == 3:\n",
    "            Confusion_matrix[2][3] += 1\n",
    "        elif Majority_Result[train[train.columns[2]][j]] == 4:\n",
    "            Confusion_matrix[2][4] += 1\n",
    "    \n",
    "    if train[train.columns[3]][j] == 3:\n",
    "        if train[train.columns[3]][j] == Majority_Result[train[train.columns[2]][j]]:\n",
    "            Confusion_matrix[3][3] += 1\n",
    "        elif Majority_Result[train[train.columns[2]][j]] == 0:\n",
    "            Confusion_matrix[3][0] += 1\n",
    "        elif Majority_Result[train[train.columns[2]][j]] == 1:\n",
    "            Confusion_matrix[3][1] += 1\n",
    "        elif Majority_Result[train[train.columns[2]][j]] == 2:\n",
    "            Confusion_matrix[3][2] += 0\n",
    "        elif Majority_Result[train[train.columns[2]][j]] == 4:\n",
    "            Confusion_matrix[3][4] += 1\n",
    "    \n",
    "    if train[train.columns[3]][j] == 4:\n",
    "        if train[train.columns[3]][j] == Majority_Result[train[train.columns[2]][j]]:\n",
    "            Confusion_matrix[4][4] += 1\n",
    "        elif Majority_Result[train[train.columns[2]][j]] == 0:\n",
    "            Confusion_matrix[4][0] += 1\n",
    "        elif Majority_Result[train[train.columns[2]][j]] == 1:\n",
    "            Confusion_matrix[4][1] += 1\n",
    "        elif Majority_Result[train[train.columns[2]][j]] == 2:\n",
    "            Confusion_matrix[4][2] += 1\n",
    "        elif Majority_Result[train[train.columns[2]][j]] == 3:\n",
    "            Confusion_matrix[4][3] += 1\n",
    "    \n",
    "print(Confusion_matrix)"
   ]
  },
  {
   "cell_type": "code",
   "execution_count": 27,
   "id": "aacc2d74",
   "metadata": {},
   "outputs": [
    {
     "data": {
      "image/png": "[encoded data removed]",
      "text/plain": [
       "<Figure size 720x432 with 2 Axes>"
      ]
     },
     "metadata": {
      "needs_background": "light"
     },
     "output_type": "display_data"
    }
   ],
   "source": [
    "plt.figure(figsize=(10,6))\n",
    "ax = sns.heatmap(Confusion_matrix, annot=True, cmap = plt.cm.magma)\n",
    "\n",
    "ax.set_title('Confusion Matrix\\n');\n",
    "ax.set_xlabel('\\nPredicted Values')\n",
    "ax.set_ylabel('Actual Values ');\n",
    "\n",
    "ax.xaxis.set_ticklabels(i for i in ('Negetive', 'Neutral', 'Positive', 'Not related', 'Cant tell'))\n",
    "ax.yaxis.set_ticklabels(i for i in ('Negetive', 'Neutral', 'Positive', 'Not related', 'Cant tell'))\n",
    "plt.show()"
   ]
  },
  {
   "cell_type": "code",
   "execution_count": null,
   "id": "727750b8",
   "metadata": {},
   "outputs": [],
   "source": []
  },
  {
   "attachments": {},
   "cell_type": "markdown",
   "id": "52ab8a8e",
   "metadata": {},
   "source": [
    "# Weighted Majority Voting"
   ]
  },
  {
   "cell_type": "code",
   "execution_count": 28,
   "id": "06e969f2",
   "metadata": {},
   "outputs": [],
   "source": [
    "def weighted_majority(J, block, a):\n",
    "    for j in range(block.shape[1]):\n",
    "        for k in range(block.shape[0]):\n",
    "            if response_matrix[a + k][j] != -1:\n",
    "                M[j][response_matrix[a + k][j]] += accuracy[a + k]\n",
    "        \n",
    "    return M"
   ]
  },
  {
   "cell_type": "code",
   "execution_count": 29,
   "id": "de6d7071",
   "metadata": {},
   "outputs": [
    {
     "name": "stdout",
     "output_type": "stream",
     "text": [
      "Accuracy after 50 annotators' response is 52.2000 %\n",
      "Accuracy after 100 annotators' response is 68.8000 %\n",
      "Accuracy after 150 annotators' response is 73.4000 %\n",
      "Accuracy after 200 annotators' response is 76.4000 %\n",
      "Accuracy after 250 annotators' response is 77.7000 %\n",
      "Accuracy after 300 annotators' response is 78.5000 %\n",
      "Accuracy after 350 annotators' response is 78.9000 %\n",
      "Accuracy after 400 annotators' response is 79.4000 %\n",
      "Accuracy after 450 annotators' response is 79.6000 %\n",
      "Accuracy after 500 annotators' response is 80.1000 %\n",
      "Accuracy after 550 annotators' response is 80.0000 %\n"
     ]
    }
   ],
   "source": [
    "a, b = 0, 50\n",
    "\n",
    "M = np.array([-1]*p).reshape(r, c)\n",
    "Weighted_Majority_Result = np.array([-1.]*r)\n",
    "\n",
    "# while b <= response_matrix.shape[0]:\n",
    "while b <= 550:\n",
    "    A = response_matrix[a : b]\n",
    "    M = weighted_majority(M, A, a)\n",
    "    \n",
    "    for j in range(M.shape[0]):\n",
    "        Weighted_Majority_Result[j] = np.argmax(M[j])\n",
    "    \n",
    "    right = 0\n",
    "    for j in range(len(train)):\n",
    "        if train[train.columns[3]][j] == Weighted_Majority_Result[train[train.columns[2]][j]]:\n",
    "            right += 1\n",
    "\n",
    "    print(f'Accuracy after {b} annotators\\' response is {right / len(train) * 100 :.4f} %')\n",
    "    \n",
    "    a = b\n",
    "    b += 50"
   ]
  },
  {
   "cell_type": "code",
   "execution_count": 30,
   "id": "f4420225",
   "metadata": {},
   "outputs": [
    {
     "name": "stdout",
     "output_type": "stream",
     "text": [
      "[[199  18   2   7   2]\n",
      " [ 23 200   8  16   3]\n",
      " [  8  32 148   2   0]\n",
      " [ 21  31   0 247   0]\n",
      " [  9   6   0   4   6]]\n"
     ]
    }
   ],
   "source": [
    "Confusion_matrix = np.zeros((5, 5), dtype = 'int64')\n",
    "for j in range(len(train)):\n",
    "    if train[train.columns[3]][j] == 0:\n",
    "        if train[train.columns[3]][j] == Weighted_Majority_Result[train[train.columns[2]][j]]:\n",
    "            Confusion_matrix[0][0] += 1\n",
    "        elif Weighted_Majority_Result[train[train.columns[2]][j]] == 1:\n",
    "            Confusion_matrix[0][1] += 1\n",
    "        elif Weighted_Majority_Result[train[train.columns[2]][j]] == 2:\n",
    "            Confusion_matrix[0][2] += 1\n",
    "        elif Weighted_Majority_Result[train[train.columns[2]][j]] == 3:\n",
    "            Confusion_matrix[0][3] += 1\n",
    "        elif Weighted_Majority_Result[train[train.columns[2]][j]] == 4:\n",
    "            Confusion_matrix[0][4] += 1\n",
    "            \n",
    "    if train[train.columns[3]][j] == 1:\n",
    "        if train[train.columns[3]][j] == Weighted_Majority_Result[train[train.columns[2]][j]]:\n",
    "            Confusion_matrix[1][1] += 1\n",
    "        elif Weighted_Majority_Result[train[train.columns[2]][j]] == 0:\n",
    "            Confusion_matrix[1][0] += 1\n",
    "        elif Weighted_Majority_Result[train[train.columns[2]][j]] == 2:\n",
    "            Confusion_matrix[1][2] += 1\n",
    "        elif Weighted_Majority_Result[train[train.columns[2]][j]] == 3:\n",
    "            Confusion_matrix[1][3] += 1\n",
    "        elif Weighted_Majority_Result[train[train.columns[2]][j]] == 4:\n",
    "            Confusion_matrix[1][4] += 1\n",
    "    \n",
    "    if train[train.columns[3]][j] == 2:\n",
    "        if train[train.columns[3]][j] == Weighted_Majority_Result[train[train.columns[2]][j]]:\n",
    "            Confusion_matrix[2][2] += 1\n",
    "        elif Weighted_Majority_Result[train[train.columns[2]][j]] == 0:\n",
    "            Confusion_matrix[2][0] += 1\n",
    "        elif Weighted_Majority_Result[train[train.columns[2]][j]] == 1:\n",
    "            Confusion_matrix[2][1] += 1\n",
    "        elif Weighted_Majority_Result[train[train.columns[2]][j]] == 3:\n",
    "            Confusion_matrix[2][3] += 1\n",
    "        elif Weighted_Majority_Result[train[train.columns[2]][j]] == 4:\n",
    "            Confusion_matrix[2][4] += 1\n",
    "    \n",
    "    if train[train.columns[3]][j] == 3:\n",
    "        if train[train.columns[3]][j] == Weighted_Majority_Result[train[train.columns[2]][j]]:\n",
    "            Confusion_matrix[3][3] += 1\n",
    "        elif Weighted_Majority_Result[train[train.columns[2]][j]] == 0:\n",
    "            Confusion_matrix[3][0] += 1\n",
    "        elif Weighted_Majority_Result[train[train.columns[2]][j]] == 1:\n",
    "            Confusion_matrix[3][1] += 1\n",
    "        elif Weighted_Majority_Result[train[train.columns[2]][j]] == 2:\n",
    "            Confusion_matrix[3][2] += 0\n",
    "        elif Weighted_Majority_Result[train[train.columns[2]][j]] == 4:\n",
    "            Confusion_matrix[3][4] += 1\n",
    "    \n",
    "    if train[train.columns[3]][j] == 4:\n",
    "        if train[train.columns[3]][j] == Weighted_Majority_Result[train[train.columns[2]][j]]:\n",
    "            Confusion_matrix[4][4] += 1\n",
    "        elif Weighted_Majority_Result[train[train.columns[2]][j]] == 0:\n",
    "            Confusion_matrix[4][0] += 1\n",
    "        elif Weighted_Majority_Result[train[train.columns[2]][j]] == 1:\n",
    "            Confusion_matrix[4][1] += 1\n",
    "        elif Weighted_Majority_Result[train[train.columns[2]][j]] == 2:\n",
    "            Confusion_matrix[4][2] += 1\n",
    "        elif Weighted_Majority_Result[train[train.columns[2]][j]] == 3:\n",
    "            Confusion_matrix[4][3] += 1\n",
    "    \n",
    "print(Confusion_matrix)"
   ]
  },
  {
   "cell_type": "code",
   "execution_count": 31,
   "id": "d41ce554",
   "metadata": {},
   "outputs": [
    {
     "data": {
      "image/png": "[encoded data removed]",
      "text/plain": [
       "<Figure size 720x432 with 2 Axes>"
      ]
     },
     "metadata": {
      "needs_background": "light"
     },
     "output_type": "display_data"
    }
   ],
   "source": [
    "plt.figure(figsize=(10,6))\n",
    "ax = sns.heatmap(Confusion_matrix, annot=True, cmap = plt.cm.magma)\n",
    "\n",
    "ax.set_title('Confusion Matrix\\n');\n",
    "ax.set_xlabel('\\nPredicted Values')\n",
    "ax.set_ylabel('Actual Values ');\n",
    "\n",
    "ax.xaxis.set_ticklabels(i for i in ('Negetive', 'Neutral', 'Positive', 'Not related', 'Cant tell'))\n",
    "ax.yaxis.set_ticklabels(i for i in ('Negetive', 'Neutral', 'Positive', 'Not related', 'Cant tell'))\n",
    "plt.show()"
   ]
  },
  {
   "cell_type": "code",
   "execution_count": null,
   "id": "8b3cb176",
   "metadata": {},
   "outputs": [],
   "source": []
  }
 ],
 "metadata": {
  "kernelspec": {
   "display_name": "Python 3 (ipykernel)",
   "language": "python",
   "name": "python3"
  },
  "language_info": {
   "codemirror_mode": {
    "name": "ipython",
    "version": 3
   },
   "file_extension": ".py",
   "mimetype": "text/x-python",
   "name": "python",
   "nbconvert_exporter": "python",
   "pygments_lexer": "ipython3",
   "version": "3.9.7"
  }
 },
 "nbformat": 4,
 "nbformat_minor": 5
}
