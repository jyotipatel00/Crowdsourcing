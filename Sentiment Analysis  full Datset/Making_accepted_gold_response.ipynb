{
 "cells": [
  {
   "cell_type": "code",
   "execution_count": 1,
   "id": "29fe99c3",
   "metadata": {},
   "outputs": [],
   "source": [
    "import numpy as np\n",
    "import pandas as pd"
   ]
  },
  {
   "cell_type": "code",
   "execution_count": 2,
   "id": "24f6650c",
   "metadata": {},
   "outputs": [],
   "source": [
    "data = pd.read_csv('D:\\\\decertation\\\\data\\sentiment analysis dataset\\\\full_code\\\\cf-sentiment-basic.csv')"
   ]
  },
  {
   "cell_type": "code",
   "execution_count": 3,
   "id": "cfdf5754",
   "metadata": {},
   "outputs": [],
   "source": [
    "B = list(pd.unique(data[data.columns[0]]))"
   ]
  },
  {
   "cell_type": "code",
   "execution_count": 4,
   "id": "7527e08c",
   "metadata": {},
   "outputs": [],
   "source": [
    "gold = pd.read_csv('D:\\\\decertation\\\\data\\\\sentiment analysis dataset\\\\full_code\\\\reference_100.csv')"
   ]
  },
  {
   "cell_type": "code",
   "execution_count": 5,
   "id": "8618fa21",
   "metadata": {},
   "outputs": [],
   "source": [
    "ques, ques1, original_question,original_question1, new_judgement, new_judgement1 = [], [], [], [], [], []\n",
    "for row in range(len(gold)):\n",
    "    original_question.append(gold[gold.columns[0]][row])\n",
    "    ques.append(B.index(gold[gold.columns[0]][row]))\n",
    "    new_judgement.append(gold[gold.columns[1]][row])\n",
    "    if gold[gold.columns[1]][row] != 4:\n",
    "        original_question1.append(gold[gold.columns[0]][row])\n",
    "        ques1.append(B.index(gold[gold.columns[0]][row]))\n",
    "        new_judgement1.append(gold[gold.columns[1]][row])\n",
    "    "
   ]
  },
  {
   "cell_type": "code",
   "execution_count": 6,
   "id": "1e522d3d",
   "metadata": {},
   "outputs": [],
   "source": [
    "df = {'original_question' : original_question, 'ques' : ques, 'new_judgement' : new_judgement}     \n",
    "df = pd.DataFrame(df)"
   ]
  },
  {
   "cell_type": "code",
   "execution_count": 7,
   "id": "09d30f70",
   "metadata": {},
   "outputs": [],
   "source": [
    "df.to_csv('new_gold.csv')"
   ]
  },
  {
   "cell_type": "code",
   "execution_count": null,
   "id": "5ef62165",
   "metadata": {},
   "outputs": [],
   "source": []
  },
  {
   "cell_type": "code",
   "execution_count": 8,
   "id": "865edbf2",
   "metadata": {},
   "outputs": [],
   "source": [
    "df1 = {'original_question' : original_question1, 'ques' : ques1, 'new_judgement' : new_judgement1}     \n",
    "df1 = pd.DataFrame(df1)"
   ]
  },
  {
   "cell_type": "code",
   "execution_count": 9,
   "id": "ab43b8bf",
   "metadata": {},
   "outputs": [],
   "source": [
    "df1.to_csv('new_gold_without_skip.csv')"
   ]
  }
 ],
 "metadata": {
  "kernelspec": {
   "display_name": "Python 3 (ipykernel)",
   "language": "python",
   "name": "python3"
  },
  "language_info": {
   "codemirror_mode": {
    "name": "ipython",
    "version": 3
   },
   "file_extension": ".py",
   "mimetype": "text/x-python",
   "name": "python",
   "nbconvert_exporter": "python",
   "pygments_lexer": "ipython3",
   "version": "3.9.7"
  }
 },
 "nbformat": 4,
 "nbformat_minor": 5
}
