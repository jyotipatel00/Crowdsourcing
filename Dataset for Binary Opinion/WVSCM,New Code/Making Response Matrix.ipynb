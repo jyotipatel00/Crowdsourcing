{
 "cells": [
  {
   "cell_type": "code",
   "execution_count": 1,
   "id": "b8d7b84d",
   "metadata": {},
   "outputs": [],
   "source": [
    "import numpy as np\n",
    "import pandas as pd"
   ]
  },
  {
   "cell_type": "code",
   "execution_count": 2,
   "id": "5c79a609",
   "metadata": {},
   "outputs": [],
   "source": [
    "data = pd.read_csv('D:\\\\decertation\\\\data\\\\WVSCM\\\\new code\\\\Response_sheet.csv')\n",
    "gold = pd.read_csv('D:\\\\decertation\\\\data\\\\WVSCM\\\\new code\\\\new_gold.csv')"
   ]
  },
  {
   "cell_type": "code",
   "execution_count": null,
   "id": "0020004a",
   "metadata": {},
   "outputs": [],
   "source": []
  },
  {
   "cell_type": "code",
   "execution_count": 3,
   "id": "f04daabf",
   "metadata": {},
   "outputs": [
    {
     "data": {
      "text/plain": [
       "(Index(['Unnamed: 0', 'Question', 'rater', 'Question_Reduced_Id', 'annotator',\n",
       "        'opinion'],\n",
       "       dtype='object'),\n",
       " Index(['Unnamed: 0', 'Question_id', 'Question_Reduced_Id', 'Gold_level'], dtype='object'))"
      ]
     },
     "execution_count": 3,
     "metadata": {},
     "output_type": "execute_result"
    }
   ],
   "source": [
    "data.columns, gold.columns"
   ]
  },
  {
   "cell_type": "code",
   "execution_count": 4,
   "id": "446455b8",
   "metadata": {},
   "outputs": [],
   "source": [
    "row = len(pd.unique(data[data.columns[4]]))\n",
    "column = max(max(gold['Question_Reduced_Id']) + 1, max(data['Question_Reduced_Id']) + 1)"
   ]
  },
  {
   "cell_type": "code",
   "execution_count": 5,
   "id": "3202070a",
   "metadata": {},
   "outputs": [
    {
     "name": "stdout",
     "output_type": "stream",
     "text": [
      "No of Question is 2135\n",
      "No of annotators is 64\n"
     ]
    }
   ],
   "source": [
    "print(f'No of Question is {column}')\n",
    "print(f'No of annotators is {row}')"
   ]
  },
  {
   "cell_type": "code",
   "execution_count": 6,
   "id": "2470eb62",
   "metadata": {},
   "outputs": [
    {
     "data": {
      "text/plain": [
       "(64, 2135)"
      ]
     },
     "execution_count": 6,
     "metadata": {},
     "output_type": "execute_result"
    }
   ],
   "source": [
    "response = -np.ones((row,column), dtype = 'int')\n",
    "response.shape"
   ]
  },
  {
   "cell_type": "code",
   "execution_count": null,
   "id": "69edc94c",
   "metadata": {},
   "outputs": [],
   "source": []
  },
  {
   "cell_type": "code",
   "execution_count": 7,
   "id": "dd4d004c",
   "metadata": {},
   "outputs": [
    {
     "data": {
      "text/plain": [
       "array([[-1, -1, -1, ..., -1, -1, -1],\n",
       "       [-1, -1, -1, ..., -1, -1, -1],\n",
       "       [-1, -1, -1, ..., -1, -1, -1],\n",
       "       ...,\n",
       "       [-1, -1, -1, ..., -1, -1, -1],\n",
       "       [-1, -1, -1, ..., -1, -1, -1],\n",
       "       [-1, -1, -1, ..., -1, -1, -1]])"
      ]
     },
     "execution_count": 7,
     "metadata": {},
     "output_type": "execute_result"
    }
   ],
   "source": [
    "response"
   ]
  },
  {
   "cell_type": "code",
   "execution_count": null,
   "id": "8176c0f4",
   "metadata": {},
   "outputs": [],
   "source": []
  },
  {
   "cell_type": "code",
   "execution_count": 8,
   "id": "5f0e5d26",
   "metadata": {},
   "outputs": [],
   "source": [
    "for i in range(len(data[data.columns[0]])):\n",
    "    response[data[data.columns[4]][i]][data[data.columns[3]][i]] = data[data.columns[5]][i]"
   ]
  },
  {
   "cell_type": "code",
   "execution_count": null,
   "id": "7020a68e",
   "metadata": {},
   "outputs": [],
   "source": []
  },
  {
   "cell_type": "code",
   "execution_count": 9,
   "id": "ef0c8c45",
   "metadata": {},
   "outputs": [
    {
     "name": "stdout",
     "output_type": "stream",
     "text": [
      "The response matrix is :\n"
     ]
    },
    {
     "data": {
      "text/plain": [
       "array([[ 1,  0,  0, ..., -1, -1, -1],\n",
       "       [ 0,  0,  0, ...,  1,  1, -1],\n",
       "       [ 0,  0,  1, ..., -1, -1, -1],\n",
       "       ...,\n",
       "       [-1, -1, -1, ..., -1, -1, -1],\n",
       "       [-1, -1, -1, ..., -1, -1, -1],\n",
       "       [-1, -1, -1, ..., -1, -1, -1]])"
      ]
     },
     "execution_count": 9,
     "metadata": {},
     "output_type": "execute_result"
    }
   ],
   "source": [
    "print(\"The response matrix is :\")\n",
    "response"
   ]
  },
  {
   "cell_type": "code",
   "execution_count": 10,
   "id": "7fb5e388",
   "metadata": {},
   "outputs": [],
   "source": [
    "with open('response_matrix.npy', 'wb') as f:\n",
    "    np.save(f, response)"
   ]
  },
  {
   "cell_type": "code",
   "execution_count": 11,
   "id": "30ea7f27",
   "metadata": {},
   "outputs": [],
   "source": [
    "# s = 0\n",
    "# for i in range(len(response)):\n",
    "#     if response[column][i] == -1:\n",
    "#         s+=1\n",
    "        \n",
    "# print(s)"
   ]
  },
  {
   "cell_type": "code",
   "execution_count": null,
   "id": "161a59ab",
   "metadata": {},
   "outputs": [],
   "source": []
  }
 ],
 "metadata": {
  "kernelspec": {
   "display_name": "Python 3 (ipykernel)",
   "language": "python",
   "name": "python3"
  },
  "language_info": {
   "codemirror_mode": {
    "name": "ipython",
    "version": 3
   },
   "file_extension": ".py",
   "mimetype": "text/x-python",
   "name": "python",
   "nbconvert_exporter": "python",
   "pygments_lexer": "ipython3",
   "version": "3.9.7"
  }
 },
 "nbformat": 4,
 "nbformat_minor": 5
}
