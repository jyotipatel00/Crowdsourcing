{
 "cells": [
  {
   "cell_type": "code",
   "execution_count": 1,
   "id": "69fbd264",
   "metadata": {},
   "outputs": [],
   "source": [
    "import numpy as np\n",
    "import pandas as pd\n",
    "import copy #Use for Deep copy\n",
    "\n",
    "import seaborn as sns\n",
    "import matplotlib.pyplot as plt"
   ]
  },
  {
   "cell_type": "markdown",
   "id": "3d22233f",
   "metadata": {},
   "source": [
    "# Open the response matrix saved previously"
   ]
  },
  {
   "cell_type": "code",
   "execution_count": 2,
   "id": "2fbe0a9c",
   "metadata": {
    "scrolled": true
   },
   "outputs": [
    {
     "name": "stdout",
     "output_type": "stream",
     "text": [
      "[[ 1  0  0 ... -1 -1 -1]\n",
      " [ 0  0  0 ...  1  1 -1]\n",
      " [ 0  0  1 ... -1 -1 -1]\n",
      " ...\n",
      " [-1 -1 -1 ... -1 -1 -1]\n",
      " [-1 -1 -1 ... -1 -1 -1]\n",
      " [-1 -1 -1 ... -1 -1 -1]]\n"
     ]
    }
   ],
   "source": [
    "with open('D:\\\\decertation\\\\data\\\\WVSCM\\\\new code\\\\response_matrix.npy', 'rb') as f:\n",
    "    response_matrix = np.load(f)\n",
    "print(response_matrix)"
   ]
  },
  {
   "cell_type": "markdown",
   "id": "7c2ec6a8",
   "metadata": {},
   "source": [
    "# Open the gold result"
   ]
  },
  {
   "cell_type": "code",
   "execution_count": 3,
   "id": "3fb0ab0d",
   "metadata": {
    "scrolled": true
   },
   "outputs": [
    {
     "name": "stdout",
     "output_type": "stream",
     "text": [
      "   Unnamed: 0  Question_id  Question_Reduced_Id  Gold_level\n",
      "0           0         2001                 1973           1\n",
      "1           1         2002                 1974           0\n",
      "2           2         2003                 1975           0\n",
      "3           3         2004                 1976           1\n",
      "4           4         2005                 1977           0\n"
     ]
    }
   ],
   "source": [
    "train = pd.read_csv('D:\\\\decertation\\\\data\\\\WVSCM\\\\new code\\\\new_gold.csv')\n",
    "print(train.head())"
   ]
  },
  {
   "cell_type": "code",
   "execution_count": null,
   "id": "e9421ca9",
   "metadata": {},
   "outputs": [],
   "source": []
  },
  {
   "cell_type": "markdown",
   "id": "bf80d5e9",
   "metadata": {},
   "source": [
    "# No of 0 and 1 in gold data"
   ]
  },
  {
   "cell_type": "code",
   "execution_count": 4,
   "id": "cad84fd6",
   "metadata": {},
   "outputs": [
    {
     "name": "stdout",
     "output_type": "stream",
     "text": [
      "In gold data Positive : 58, Negetive : 102\n"
     ]
    }
   ],
   "source": [
    "po, ne, gold_total = 0, 0, 0\n",
    "for i in range(len(train['Gold_level'])):\n",
    "    if train['Gold_level'][i] == 0:\n",
    "        ne += 1\n",
    "\n",
    "    elif train['Gold_level'][i] == 1:\n",
    "        po += 1\n",
    "    \n",
    "    gold_total += 1\n",
    "        \n",
    "print(f'In gold data Positive : {po}, Negetive : {ne}')"
   ]
  },
  {
   "cell_type": "code",
   "execution_count": 5,
   "id": "528bf2b7",
   "metadata": {},
   "outputs": [],
   "source": [
    "c, r = len(np.unique(response_matrix))-1, response_matrix.shape[1]\n",
    "p = r * c"
   ]
  },
  {
   "cell_type": "code",
   "execution_count": 6,
   "id": "16901502",
   "metadata": {},
   "outputs": [
    {
     "name": "stdout",
     "output_type": "stream",
     "text": [
      "Total question : 2135\n"
     ]
    }
   ],
   "source": [
    "tot_ques = r\n",
    "print(f'Total question : {tot_ques}')"
   ]
  },
  {
   "cell_type": "markdown",
   "id": "23ef7691",
   "metadata": {},
   "source": [
    "# Work with response matrix"
   ]
  },
  {
   "cell_type": "markdown",
   "id": "be2e2fb5",
   "metadata": {},
   "source": [
    "# Calculating accuracy of annotators using train set"
   ]
  },
  {
   "cell_type": "code",
   "execution_count": 7,
   "id": "a1aa33c3",
   "metadata": {},
   "outputs": [],
   "source": [
    "s1 = int(len(train)* 0.3)\n",
    "train2 = train[:s1]"
   ]
  },
  {
   "cell_type": "code",
   "execution_count": 8,
   "id": "5930f05e",
   "metadata": {},
   "outputs": [],
   "source": [
    "accuracy = [1 / len(train2)]*response_matrix.shape[0]\n",
    "for i in range (response_matrix.shape[0]):\n",
    "    tot, corr = 0.0, 0.0\n",
    "    for j in range(len(train2)):\n",
    "        if -1 != response_matrix[i][train2[train2.columns[2]][j]]:\n",
    "            tot += 1\n",
    "            if train2[train.columns[3]][j] == response_matrix[i][train2[train2.columns[2]][j]]:\n",
    "                corr += 1\n",
    "    if tot != 0:\n",
    "        accuracy[i] += corr / tot\n",
    "        \n",
    "accuracy = ((accuracy - np.min(accuracy))/ (np.max(accuracy)-(np.min(accuracy)))) * 0.5"
   ]
  },
  {
   "cell_type": "code",
   "execution_count": 9,
   "id": "01240a6d",
   "metadata": {},
   "outputs": [
    {
     "data": {
      "text/plain": [
       "array([0.        , 0.33333333, 0.        , 0.        , 0.28571429])"
      ]
     },
     "execution_count": 9,
     "metadata": {},
     "output_type": "execute_result"
    }
   ],
   "source": [
    "accuracy[:5]"
   ]
  },
  {
   "cell_type": "markdown",
   "id": "4d993dc4",
   "metadata": {},
   "source": [
    "# Required Functions"
   ]
  },
  {
   "cell_type": "code",
   "execution_count": 10,
   "id": "e24d50e5",
   "metadata": {},
   "outputs": [],
   "source": [
    "def dist(a,b):\n",
    "    s = 0\n",
    "    for j in range(len(a)):\n",
    "        if a[j] != b[j]:\n",
    "            s += 1\n",
    "    return s"
   ]
  },
  {
   "cell_type": "code",
   "execution_count": 11,
   "id": "3a919dcd",
   "metadata": {},
   "outputs": [],
   "source": [
    "def local_directory(row):\n",
    "    local_dict = {}\n",
    "    local_dict['vector'] = row\n",
    "    local_dict['frequency'] = 1\n",
    "    \n",
    "    s = 0  \n",
    "    for j in range (len(row)):\n",
    "        if row[j] != -1:\n",
    "            s += 1\n",
    "    local_dict['response_number'] = s\n",
    "    \n",
    "    return local_dict"
   ]
  },
  {
   "cell_type": "code",
   "execution_count": null,
   "id": "13ac4474",
   "metadata": {},
   "outputs": [],
   "source": []
  },
  {
   "cell_type": "code",
   "execution_count": 12,
   "id": "e7b3c8ef",
   "metadata": {},
   "outputs": [],
   "source": [
    "#Cluster with distance = hyp\n",
    "def cluster(cluster_dict, block, hyp):\n",
    "    cluster_id = []\n",
    "    distance, i = 0, len(cluster_dict)\n",
    "    for j in range(len(block)):\n",
    "        if len(cluster_dict) == 0:\n",
    "            i += 1\n",
    "            cluster_dict[i] = local_directory(block[j])\n",
    "            cluster_id.append(i)\n",
    "            distance += 0\n",
    "\n",
    "        else:\n",
    "            l, k = 1, i\n",
    "            while l <= k:\n",
    "                d = dist(block[j], cluster_dict[l]['vector'])\n",
    "                if d <= hyp:\n",
    "                    cluster_dict[l]['frequency'] += 1\n",
    "                    cluster_id.append(l)\n",
    "                    distance += d\n",
    "\n",
    "                    break\n",
    "                else:\n",
    "                    l += 1\n",
    "                if l == k+1:\n",
    "                    i += 1\n",
    "                    cluster_dict[i] = local_directory(block[j])\n",
    "                    cluster_id.append(i)\n",
    "                    distance += 0\n",
    "\n",
    "    return cluster_dict, cluster_id, distance\n"
   ]
  },
  {
   "cell_type": "code",
   "execution_count": 13,
   "id": "f8b8dbcc",
   "metadata": {},
   "outputs": [],
   "source": [
    "#Clustering with finding the distance\n",
    "def clustering(cluster_dict, block, d):\n",
    "    # Use ELBOW Method to find the threshold of the distance\n",
    "    distance_list = []\n",
    "    \n",
    "    for it in range (1,100):\n",
    "        k = it * 100\n",
    "        cluster_dictionary = copy.deepcopy(cluster_dict)\n",
    "        _, _, distance = cluster(cluster_dictionary, block, k)\n",
    "        distance_list.append(distance)\n",
    "        \n",
    "    ratio, ratio1, index, ind_ch = [], [], [], []\n",
    "    for i in range(1, len(distance_list)):\n",
    "        a = (distance_list[i]-distance_list[i-1])/100\n",
    "        ratio.append(a)\n",
    "        if a != 0:\n",
    "            ratio1.append(a)\n",
    "            index.append(i)\n",
    "\n",
    "    for i in range(1, len(index)):\n",
    "        ind_ch.append((ratio1[i] - ratio1[i-1])/(index[i]-index[i-1]))\n",
    "\n",
    "    dis = d    \n",
    "    for index in range(1, len(ind_ch)):\n",
    "        if ind_ch[index] >= 1:\n",
    "            a = ind_ch.index(ind_ch[index]) + 1\n",
    "            dis = ratio.index(ratio1[a])*100\n",
    "            break\n",
    "                \n",
    "#     cluster_dict,cluster_id, _ = cluster(cluster_dict, block, dis)   \n",
    "    return cluster_dict, dis"
   ]
  },
  {
   "cell_type": "code",
   "execution_count": null,
   "id": "cc13788a",
   "metadata": {},
   "outputs": [],
   "source": []
  },
  {
   "cell_type": "code",
   "execution_count": null,
   "id": "a4b1a9b8",
   "metadata": {},
   "outputs": [],
   "source": []
  },
  {
   "cell_type": "code",
   "execution_count": 14,
   "id": "890593d1",
   "metadata": {},
   "outputs": [],
   "source": [
    "def judge(J, block, cluster_dict, a, dis):    \n",
    "    cluster_dict, cluster_id, dis = cluster(cluster_dict, block, dis)\n",
    "    weight = []\n",
    "\n",
    "    for k in range(block.shape[0]):\n",
    "        w = accuracy[a + k] + const * cluster_dict[cluster_id[k]]['response_number']/cluster_dict[cluster_id[k]]['frequency']\n",
    "        weight.append(w)\n",
    "    \n",
    "    for j in range(block.shape[1]):\n",
    "        for k in range(block.shape[0]):\n",
    "            if block[k][j] != -1:\n",
    "                J[j][block[k][j]] += weight[k]\n",
    "    return J, cluster_dict"
   ]
  },
  {
   "cell_type": "markdown",
   "id": "f6191817",
   "metadata": {},
   "source": [
    "# main function"
   ]
  },
  {
   "cell_type": "code",
   "execution_count": 15,
   "id": "7a46b4d3",
   "metadata": {},
   "outputs": [],
   "source": [
    "const = 0.001\n",
    "dis = 1000\n",
    "cluster_dict = {}\n",
    "J = np.array([0.]*p).reshape(r, c)\n",
    "Result = np.array([-1]*r)"
   ]
  },
  {
   "cell_type": "code",
   "execution_count": 16,
   "id": "c6e0ae93",
   "metadata": {},
   "outputs": [
    {
     "name": "stdout",
     "output_type": "stream",
     "text": [
      "Accuracy after 16 annotators' response is 70.0000 %\n",
      "Accuracy after 32 annotators' response is 74.3750 %\n",
      "Accuracy after 48 annotators' response is 70.6250 %\n",
      "Accuracy after 64 annotators' response is 73.1250 %\n"
     ]
    }
   ],
   "source": [
    "a, b = 0, 16\n",
    "\n",
    "A = response_matrix[a : b]\n",
    "_, dis = clustering(cluster_dict, A, dis)\n",
    "\n",
    "\n",
    "# step = 1\n",
    "while b <= response_matrix.shape[0]:\n",
    "#     print(f'step = {step}')\n",
    "#     step += 1\n",
    "    A = response_matrix[a : b]\n",
    "    J, cluster_dict = judge(J, A, cluster_dict, a, dis)\n",
    "    \n",
    "    # Calculate final result\n",
    "    for j in range(J.shape[0]):\n",
    "        Result[j] = np.argmax(J[j])\n",
    "    \n",
    "    #Calculate accuracy\n",
    "    right = 0\n",
    "    for j in range(len(train)):\n",
    "        if train[train.columns[3]][j] == Result[train[train.columns[2]][j]]:\n",
    "            right += 1\n",
    "            \n",
    "    print(f'Accuracy after {b} annotators\\' response is {right / len(train) * 100 :.4f} %')\n",
    "    \n",
    "    a = b\n",
    "    b += 16"
   ]
  },
  {
   "cell_type": "markdown",
   "id": "7742b5c3",
   "metadata": {},
   "source": [
    "# Confusion matrix"
   ]
  },
  {
   "cell_type": "code",
   "execution_count": 17,
   "id": "ffa60911",
   "metadata": {},
   "outputs": [],
   "source": [
    "Conf = np.zeros((2,2), dtype = 'int64')"
   ]
  },
  {
   "cell_type": "code",
   "execution_count": 18,
   "id": "33b903c9",
   "metadata": {},
   "outputs": [
    {
     "name": "stdout",
     "output_type": "stream",
     "text": [
      "[[42 27]\n",
      " [16 75]]\n"
     ]
    }
   ],
   "source": [
    "for j in range(len(train)):\n",
    "    if train[train.columns[3]][j] == 1:\n",
    "        if train[train.columns[3]][j] == Result[train[train.columns[2]][j]]:\n",
    "            Conf[0][0] += 1\n",
    "        else:\n",
    "            Conf[1][0] += 1\n",
    "    if train[train.columns[3]][j] == 0:\n",
    "        if train[train.columns[3]][j] == Result[train[train.columns[2]][j]]:\n",
    "            Conf[1][1] += 1\n",
    "        else:\n",
    "            Conf[0][1] += 1\n",
    "print(Conf)"
   ]
  },
  {
   "cell_type": "code",
   "execution_count": 19,
   "id": "5a002844",
   "metadata": {},
   "outputs": [
    {
     "data": {
      "image/png": "[encoded data removed]",
      "text/plain": [
       "<Figure size 432x288 with 2 Axes>"
      ]
     },
     "metadata": {
      "needs_background": "light"
     },
     "output_type": "display_data"
    }
   ],
   "source": [
    "ax = sns.heatmap(Conf, annot=True, cmap = plt.cm.magma)\n",
    "\n",
    "ax.set_title('Confusion Matrix\\n');\n",
    "ax.set_xlabel('\\nPredicted Values')\n",
    "ax.set_ylabel('Actual Values ');\n",
    "\n",
    "ax.xaxis.set_ticklabels(i for i in ('positive', 'negetive'))\n",
    "ax.yaxis.set_ticklabels(i for i in ('positive', 'negetive'))\n",
    "plt.show()"
   ]
  },
  {
   "cell_type": "code",
   "execution_count": 20,
   "id": "27288a98",
   "metadata": {},
   "outputs": [],
   "source": [
    "accuracy1 = [1 / len(train)]*response_matrix.shape[0]\n",
    "for i in range (response_matrix.shape[0]):\n",
    "    tot, corr = 0.0, 0.0\n",
    "    for j in range(len(train)):\n",
    "        if -1 != response_matrix[i][train[train.columns[2]][j]]:\n",
    "            tot += 1\n",
    "            if train[train.columns[3]][j] == response_matrix[i][train[train.columns[2]][j]]:\n",
    "                corr += 1\n",
    "    if tot != 0:\n",
    "        accuracy1[i] += corr / tot\n",
    "        "
   ]
  },
  {
   "cell_type": "code",
   "execution_count": 21,
   "id": "00d972c8",
   "metadata": {},
   "outputs": [
    {
     "name": "stdout",
     "output_type": "stream",
     "text": [
      "14\n"
     ]
    }
   ],
   "source": [
    "s = 0\n",
    "for i in range (len(accuracy1)):\n",
    "    if accuracy1[i] >= 0.5:\n",
    "        s += 1\n",
    "        \n",
    "print(s)"
   ]
  },
  {
   "cell_type": "code",
   "execution_count": 22,
   "id": "91871e70",
   "metadata": {},
   "outputs": [
    {
     "data": {
      "text/plain": [
       "64"
      ]
     },
     "execution_count": 22,
     "metadata": {},
     "output_type": "execute_result"
    }
   ],
   "source": [
    "len(accuracy1)"
   ]
  },
  {
   "cell_type": "code",
   "execution_count": null,
   "id": "d4c37863",
   "metadata": {},
   "outputs": [],
   "source": []
  }
 ],
 "metadata": {
  "kernelspec": {
   "display_name": "Python 3 (ipykernel)",
   "language": "python",
   "name": "python3"
  },
  "language_info": {
   "codemirror_mode": {
    "name": "ipython",
    "version": 3
   },
   "file_extension": ".py",
   "mimetype": "text/x-python",
   "name": "python",
   "nbconvert_exporter": "python",
   "pygments_lexer": "ipython3",
   "version": "3.9.7"
  }
 },
 "nbformat": 4,
 "nbformat_minor": 5
}
