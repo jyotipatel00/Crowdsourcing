{
 "cells": [
  {
   "cell_type": "code",
   "execution_count": 1,
   "id": "f2535775",
   "metadata": {},
   "outputs": [],
   "source": [
    "import numpy as np\n",
    "import pandas as pd"
   ]
  },
  {
   "cell_type": "code",
   "execution_count": null,
   "id": "0fcd4438",
   "metadata": {},
   "outputs": [],
   "source": []
  },
  {
   "cell_type": "markdown",
   "id": "a603be64",
   "metadata": {},
   "source": [
    "# Make response sheet"
   ]
  },
  {
   "cell_type": "code",
   "execution_count": 2,
   "id": "7499c4f3",
   "metadata": {},
   "outputs": [],
   "source": [
    "data = pd.read_csv('D:\\\\decertation\\\\data\\\\WVSCM\\\\Response.csv')"
   ]
  },
  {
   "cell_type": "code",
   "execution_count": 3,
   "id": "b6c9548d",
   "metadata": {},
   "outputs": [
    {
     "data": {
      "text/plain": [
       "Index(['Image_ID', 'Rater', 'Response'], dtype='object')"
      ]
     },
     "execution_count": 3,
     "metadata": {},
     "output_type": "execute_result"
    }
   ],
   "source": [
    "data.columns"
   ]
  },
  {
   "cell_type": "code",
   "execution_count": 4,
   "id": "5577027e",
   "metadata": {},
   "outputs": [
    {
     "name": "stdout",
     "output_type": "stream",
     "text": [
      "No of Image_ID is 2134\n",
      "No of Rater is 64\n"
     ]
    }
   ],
   "source": [
    "print(f'No of {data.columns[0]} is {len(pd.unique(data[data.columns[0]]))}')\n",
    "print(f'No of {data.columns[1]} is {len(pd.unique(data[data.columns[1]]))}')"
   ]
  },
  {
   "cell_type": "code",
   "execution_count": 5,
   "id": "d6747b0d",
   "metadata": {},
   "outputs": [],
   "source": [
    "A = list(pd.unique(data[data.columns[1]]))\n",
    "\n",
    "annotator, rater = [], []\n",
    "for row in data[data.columns[1]]:\n",
    "    annotator.append(A.index(row))\n",
    "    rater.append(row)"
   ]
  },
  {
   "cell_type": "code",
   "execution_count": 6,
   "id": "f770146c",
   "metadata": {},
   "outputs": [],
   "source": [
    "B = list(pd.unique(data[data.columns[0]]))\n",
    "\n",
    "ques, question = [], []\n",
    "for row in data[data.columns[0]]:\n",
    "    ques.append(B.index(row))\n",
    "    question.append(row)"
   ]
  },
  {
   "cell_type": "code",
   "execution_count": 7,
   "id": "a2529e2b",
   "metadata": {},
   "outputs": [],
   "source": [
    "new_judgement = []\n",
    "for i in range(len(data[data.columns[2]])):\n",
    "    new_judgement.append(data[data.columns[2]][i])"
   ]
  },
  {
   "cell_type": "code",
   "execution_count": null,
   "id": "18c39891",
   "metadata": {},
   "outputs": [],
   "source": []
  },
  {
   "cell_type": "code",
   "execution_count": 8,
   "id": "5991d940",
   "metadata": {},
   "outputs": [],
   "source": [
    "df = {'Question' : question, 'rater': rater, 'Question_Reduced_Id': ques, 'annotator': annotator, 'opinion':new_judgement}\n",
    "df = pd.DataFrame(df)"
   ]
  },
  {
   "cell_type": "markdown",
   "id": "f3d4224c",
   "metadata": {},
   "source": [
    "# Save response as Response_sheet.csv"
   ]
  },
  {
   "cell_type": "code",
   "execution_count": 9,
   "id": "8da8f9e5",
   "metadata": {},
   "outputs": [],
   "source": [
    "df.to_csv('Response_sheet.csv')"
   ]
  },
  {
   "cell_type": "code",
   "execution_count": null,
   "id": "9344cc50",
   "metadata": {},
   "outputs": [],
   "source": []
  },
  {
   "cell_type": "markdown",
   "id": "c29a0709",
   "metadata": {},
   "source": [
    "# Make New Gold Result"
   ]
  },
  {
   "cell_type": "code",
   "execution_count": 10,
   "id": "4b1b931f",
   "metadata": {},
   "outputs": [],
   "source": [
    "gold = pd.read_csv('D:\\\\decertation\\\\data\\\\WVSCM\\\\\\\\gold.csv')"
   ]
  },
  {
   "cell_type": "code",
   "execution_count": 11,
   "id": "9109982e",
   "metadata": {},
   "outputs": [
    {
     "data": {
      "text/html": [
       "<div>\n",
       "<style scoped>\n",
       "    .dataframe tbody tr th:only-of-type {\n",
       "        vertical-align: middle;\n",
       "    }\n",
       "\n",
       "    .dataframe tbody tr th {\n",
       "        vertical-align: top;\n",
       "    }\n",
       "\n",
       "    .dataframe thead th {\n",
       "        text-align: right;\n",
       "    }\n",
       "</style>\n",
       "<table border=\"1\" class=\"dataframe\">\n",
       "  <thead>\n",
       "    <tr style=\"text-align: right;\">\n",
       "      <th></th>\n",
       "      <th>Image_ID</th>\n",
       "      <th>Gold_Label</th>\n",
       "    </tr>\n",
       "  </thead>\n",
       "  <tbody>\n",
       "    <tr>\n",
       "      <th>0</th>\n",
       "      <td>2001</td>\n",
       "      <td>1</td>\n",
       "    </tr>\n",
       "    <tr>\n",
       "      <th>1</th>\n",
       "      <td>2002</td>\n",
       "      <td>0</td>\n",
       "    </tr>\n",
       "    <tr>\n",
       "      <th>2</th>\n",
       "      <td>2003</td>\n",
       "      <td>0</td>\n",
       "    </tr>\n",
       "    <tr>\n",
       "      <th>3</th>\n",
       "      <td>2004</td>\n",
       "      <td>1</td>\n",
       "    </tr>\n",
       "    <tr>\n",
       "      <th>4</th>\n",
       "      <td>2005</td>\n",
       "      <td>0</td>\n",
       "    </tr>\n",
       "  </tbody>\n",
       "</table>\n",
       "</div>"
      ],
      "text/plain": [
       "   Image_ID  Gold_Label\n",
       "0      2001           1\n",
       "1      2002           0\n",
       "2      2003           0\n",
       "3      2004           1\n",
       "4      2005           0"
      ]
     },
     "execution_count": 11,
     "metadata": {},
     "output_type": "execute_result"
    }
   ],
   "source": [
    "gold.head()"
   ]
  },
  {
   "cell_type": "code",
   "execution_count": 12,
   "id": "08c4e7c2",
   "metadata": {},
   "outputs": [
    {
     "data": {
      "text/plain": [
       "Index(['Image_ID', 'Gold_Label'], dtype='object')"
      ]
     },
     "execution_count": 12,
     "metadata": {},
     "output_type": "execute_result"
    }
   ],
   "source": [
    "gold.columns"
   ]
  },
  {
   "cell_type": "code",
   "execution_count": 13,
   "id": "b0debe15",
   "metadata": {},
   "outputs": [],
   "source": [
    "Question_id, Gold_level, Question_Reduced_Id = [], [], []\n",
    "\n",
    "for i in range(len(gold)):\n",
    "    Gold_level.append(gold[gold.columns[1]][i])\n",
    "    Question_id.append(gold[gold.columns[0]][i])\n",
    "    if gold[gold.columns[0]][i] in B:\n",
    "        Question_Reduced_Id.append(B.index(gold[gold.columns[0]][i]))\n",
    "    else:\n",
    "        B.append(gold[gold.columns[0]][i])\n",
    "        Question_Reduced_Id.append(B.index(gold[gold.columns[0]][i]))\n",
    "    "
   ]
  },
  {
   "cell_type": "code",
   "execution_count": null,
   "id": "576c2e6e",
   "metadata": {},
   "outputs": [],
   "source": []
  },
  {
   "cell_type": "code",
   "execution_count": 14,
   "id": "9e9cae4b",
   "metadata": {},
   "outputs": [],
   "source": [
    "df1 = {'Question_id' : Question_id,'Question_Reduced_Id': Question_Reduced_Id, 'Gold_level' : Gold_level}     \n",
    "df1 = pd.DataFrame(df1)"
   ]
  },
  {
   "cell_type": "code",
   "execution_count": null,
   "id": "6e77f150",
   "metadata": {},
   "outputs": [],
   "source": []
  },
  {
   "cell_type": "markdown",
   "id": "112bca42",
   "metadata": {},
   "source": [
    "# Save the new gold result as new_gold.csv"
   ]
  },
  {
   "cell_type": "code",
   "execution_count": 15,
   "id": "32a02d4f",
   "metadata": {},
   "outputs": [],
   "source": [
    "df1.to_csv('new_gold.csv')"
   ]
  },
  {
   "cell_type": "code",
   "execution_count": 16,
   "id": "9738c331",
   "metadata": {},
   "outputs": [
    {
     "data": {
      "text/plain": [
       "2135"
      ]
     },
     "execution_count": 16,
     "metadata": {},
     "output_type": "execute_result"
    }
   ],
   "source": [
    "len(B)"
   ]
  },
  {
   "cell_type": "code",
   "execution_count": null,
   "id": "3cd1369b",
   "metadata": {},
   "outputs": [],
   "source": []
  }
 ],
 "metadata": {
  "kernelspec": {
   "display_name": "Python 3 (ipykernel)",
   "language": "python",
   "name": "python3"
  },
  "language_info": {
   "codemirror_mode": {
    "name": "ipython",
    "version": 3
   },
   "file_extension": ".py",
   "mimetype": "text/x-python",
   "name": "python",
   "nbconvert_exporter": "python",
   "pygments_lexer": "ipython3",
   "version": "3.9.7"
  }
 },
 "nbformat": 4,
 "nbformat_minor": 5
}
