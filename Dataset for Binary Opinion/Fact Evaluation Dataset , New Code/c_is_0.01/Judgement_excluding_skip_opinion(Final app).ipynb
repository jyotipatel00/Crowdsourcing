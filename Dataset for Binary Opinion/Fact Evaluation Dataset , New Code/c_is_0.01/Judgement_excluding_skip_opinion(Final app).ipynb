{
 "cells": [
  {
   "cell_type": "code",
   "execution_count": 1,
   "id": "69fbd264",
   "metadata": {},
   "outputs": [],
   "source": [
    "import numpy as np\n",
    "import pandas as pd\n",
    "import copy #Use for Deep copy\n",
    "\n",
    "import seaborn as sns\n",
    "import matplotlib.pyplot as plt"
   ]
  },
  {
   "cell_type": "markdown",
   "id": "3d22233f",
   "metadata": {},
   "source": [
    "# Open the response matrix saved previously"
   ]
  },
  {
   "cell_type": "code",
   "execution_count": 2,
   "id": "2fbe0a9c",
   "metadata": {
    "scrolled": true
   },
   "outputs": [
    {
     "name": "stdout",
     "output_type": "stream",
     "text": [
      "[[-1 -1 -1 ... -1 -1 -1]\n",
      " [-1 -1 -1 ... -1 -1 -1]\n",
      " [-1 -1 -1 ... -1 -1 -1]\n",
      " ...\n",
      " [-1 -1 -1 ... -1 -1 -1]\n",
      " [-1 -1 -1 ... -1 -1 -1]\n",
      " [-1 -1 -1 ... -1 -1 -1]]\n"
     ]
    }
   ],
   "source": [
    "with open('D:\\\\decertation\\\\data\\\\Fact evolution dataset\\\\new code\\\\response_matrix.npy', 'rb') as f:\n",
    "    response_matrix1 = np.load(f)\n",
    "print(response_matrix1)"
   ]
  },
  {
   "cell_type": "code",
   "execution_count": 3,
   "id": "3d25a929",
   "metadata": {},
   "outputs": [],
   "source": [
    "response_matrix = copy.deepcopy(response_matrix1)\n",
    "response_matrix[response_matrix == 2] = -1"
   ]
  },
  {
   "cell_type": "markdown",
   "id": "7c2ec6a8",
   "metadata": {},
   "source": [
    "# Open the gold result"
   ]
  },
  {
   "cell_type": "code",
   "execution_count": 4,
   "id": "3fb0ab0d",
   "metadata": {
    "scrolled": true
   },
   "outputs": [
    {
     "name": "stdout",
     "output_type": "stream",
     "text": [
      "   Unnamed: 0  Question_id  Question_Reduced_Id  Gold_level\n",
      "0           0        23647                23646           1\n",
      "1           1        10756                10755           1\n",
      "2           2        40638                40637           1\n",
      "3           3        22855                22854           1\n",
      "4           4        13988                13987           1\n"
     ]
    }
   ],
   "source": [
    "train = pd.read_csv('D:\\\\decertation\\\\data\\\\Fact evolution dataset\\\\new code\\\\new_gold_without_skip.csv')\n",
    "print(train.head())"
   ]
  },
  {
   "cell_type": "code",
   "execution_count": null,
   "id": "e9421ca9",
   "metadata": {},
   "outputs": [],
   "source": []
  },
  {
   "cell_type": "markdown",
   "id": "bf80d5e9",
   "metadata": {},
   "source": [
    "# No of 0 and 1 in data set"
   ]
  },
  {
   "cell_type": "code",
   "execution_count": 5,
   "id": "cad84fd6",
   "metadata": {},
   "outputs": [
    {
     "name": "stdout",
     "output_type": "stream",
     "text": [
      "Positive : 531, Negetive : 19\n"
     ]
    }
   ],
   "source": [
    "judgement_counts = np.bincount(train['Gold_level'])\n",
    "Negetive = judgement_counts[0]\n",
    "Positive = judgement_counts[1]        \n",
    "print(f'Positive : {Positive}, Negetive : {Negetive}')"
   ]
  },
  {
   "cell_type": "code",
   "execution_count": 6,
   "id": "528bf2b7",
   "metadata": {},
   "outputs": [],
   "source": [
    "c, r = len(np.unique(response_matrix))-1, response_matrix.shape[1]\n",
    "p = r * c"
   ]
  },
  {
   "cell_type": "code",
   "execution_count": 7,
   "id": "16901502",
   "metadata": {},
   "outputs": [
    {
     "name": "stdout",
     "output_type": "stream",
     "text": [
      "Total question : 42624\n"
     ]
    }
   ],
   "source": [
    "tot_ques = r\n",
    "print(f'Total question : {tot_ques}')"
   ]
  },
  {
   "cell_type": "markdown",
   "id": "23ef7691",
   "metadata": {},
   "source": [
    "# Work with response matrix"
   ]
  },
  {
   "cell_type": "markdown",
   "id": "be2e2fb5",
   "metadata": {},
   "source": [
    "# Calculating accuracy of annotators using train set"
   ]
  },
  {
   "cell_type": "code",
   "execution_count": 8,
   "id": "a1aa33c3",
   "metadata": {},
   "outputs": [],
   "source": [
    "s1 = int(len(train)* 0.3)\n",
    "train2 = train[:s1]"
   ]
  },
  {
   "cell_type": "code",
   "execution_count": 9,
   "id": "5930f05e",
   "metadata": {},
   "outputs": [
    {
     "name": "stdout",
     "output_type": "stream",
     "text": [
      "[0.         1.         1.         0.95652174 1.        ]\n"
     ]
    }
   ],
   "source": [
    "s1 = int(len(train)* 0.3)\n",
    "train2 = train[ : s1]\n",
    "\n",
    "accuracy = [1 / len(train2)]*response_matrix.shape[0]\n",
    "for i in range (response_matrix.shape[0]):\n",
    "    tot, corr = 0.0, 0.0\n",
    "    for j in range(len(train2)):\n",
    "        if -1 != response_matrix[i][train2[train2.columns[2]][j]]:\n",
    "            tot += 1\n",
    "            if train2[train2.columns[3]][j] == response_matrix[i][train2[train2.columns[2]][j]]:\n",
    "                corr += 1\n",
    "    if tot != 0:\n",
    "        accuracy[i] += corr / tot\n",
    "minacc = np.min(accuracy)\n",
    "maxacc = np.max(accuracy)\n",
    "accuracy = (accuracy - minacc)/ (maxacc-minacc)\n",
    "print(accuracy[ : 5])"
   ]
  },
  {
   "cell_type": "markdown",
   "id": "4d993dc4",
   "metadata": {},
   "source": [
    "# Required Functions"
   ]
  },
  {
   "cell_type": "code",
   "execution_count": 10,
   "id": "e24d50e5",
   "metadata": {},
   "outputs": [],
   "source": [
    "def dist(a,b):\n",
    "    s = 0\n",
    "    for j in range(len(a)):\n",
    "        if a[j] != b[j]:\n",
    "            s += 1\n",
    "    return s"
   ]
  },
  {
   "cell_type": "code",
   "execution_count": 11,
   "id": "3a919dcd",
   "metadata": {},
   "outputs": [],
   "source": [
    "def local_directory(row):\n",
    "    local_dict = {\n",
    "        'vector': row,\n",
    "        'frequency': 1,\n",
    "        'response_number': np.count_nonzero(row != -1)\n",
    "    }\n",
    "    return local_dict"
   ]
  },
  {
   "cell_type": "code",
   "execution_count": null,
   "id": "13ac4474",
   "metadata": {},
   "outputs": [],
   "source": []
  },
  {
   "cell_type": "code",
   "execution_count": 12,
   "id": "e7b3c8ef",
   "metadata": {},
   "outputs": [],
   "source": [
    "#Cluster with distance = hyp\n",
    "def cluster(cluster_dict, block, hyp):\n",
    "    cluster_id = []\n",
    "    distance, i = 0, len(cluster_dict)\n",
    "    for j in range(len(block)):\n",
    "        if len(cluster_dict) == 0:\n",
    "            i += 1\n",
    "            cluster_dict[i] = local_directory(block[j])\n",
    "            cluster_id.append(i)\n",
    "\n",
    "        else:\n",
    "            l, k = 1, i\n",
    "            while l <= k:\n",
    "                d = dist(block[j], cluster_dict[l]['vector'])\n",
    "                if d <= hyp:\n",
    "                    cluster_dict[l]['frequency'] += 1\n",
    "                    cluster_id.append(l)\n",
    "                    distance += d\n",
    "                    break\n",
    "                else:\n",
    "                    l += 1\n",
    "\n",
    "                if l == k+1:\n",
    "                    i += 1\n",
    "                    cluster_dict[i] = local_directory(block[j])\n",
    "                    cluster_id.append(i)\n",
    "\n",
    "    return cluster_dict, cluster_id, distance\n"
   ]
  },
  {
   "cell_type": "code",
   "execution_count": 13,
   "id": "f8b8dbcc",
   "metadata": {},
   "outputs": [],
   "source": [
    "#Clustering with finding the distance\n",
    "def clustering(cluster_dict, block, d):\n",
    "    # Use ELBOW Method to find the threshold of the distance\n",
    "    distance_list = []\n",
    "    \n",
    "    for it in range (1,100):\n",
    "        k = it * 100\n",
    "        cluster_dictionary = copy.deepcopy(cluster_dict)\n",
    "        _, _, distance = cluster(cluster_dictionary, block, k)\n",
    "        distance_list.append(distance)\n",
    "        \n",
    "    ratio = [(distance_list[i] - distance_list[i-1]) * 0.001 for i in range(1, len(distance_list))]\n",
    "    ratio1 = [a for a in ratio if a != 0]\n",
    "    index = [i for i, a in enumerate(ratio) if a != 0]\n",
    "\n",
    "    ind_ch = [(ratio1[i] - ratio1[i-1]) / (index[i] - index[i-1]) for i in range(1, len(index))]\n",
    "\n",
    "    dis = d\n",
    "    index = next((i for i, val in enumerate(ind_ch[1:], start=1) if val >= 1), None)\n",
    "    if index is not None:\n",
    "        a = ind_ch.index(ind_ch[index]) + 1\n",
    "        dis = ratio.index(ratio1[a]) * 100\n",
    "                \n",
    "#     cluster_dict,cluster_id, _ = cluster(cluster_dict, block, dis)   \n",
    "    return cluster_dict, dis"
   ]
  },
  {
   "cell_type": "code",
   "execution_count": null,
   "id": "a4b1a9b8",
   "metadata": {},
   "outputs": [],
   "source": []
  },
  {
   "cell_type": "code",
   "execution_count": 14,
   "id": "890593d1",
   "metadata": {},
   "outputs": [],
   "source": [
    "def judge(J, block, cluster_dict, a, dis):    \n",
    "    cluster_dict, cluster_id, dis = cluster(cluster_dict, block, dis)\n",
    "    weight = []\n",
    "\n",
    "    for k in range(block.shape[0]):\n",
    "        w = accuracy[a + k] + const * cluster_dict[cluster_id[k]]['response_number']/cluster_dict[cluster_id[k]]['frequency']\n",
    "        weight.append(w)\n",
    "    \n",
    "    for j in range(block.shape[1]):\n",
    "        for k in range(block.shape[0]):\n",
    "            if block[k][j] != -1:\n",
    "                J[j][block[k][j]] += weight[k]\n",
    "    return J, cluster_dict"
   ]
  },
  {
   "cell_type": "code",
   "execution_count": null,
   "id": "361408e2",
   "metadata": {},
   "outputs": [],
   "source": []
  },
  {
   "cell_type": "markdown",
   "id": "f6191817",
   "metadata": {},
   "source": [
    "# main function"
   ]
  },
  {
   "cell_type": "code",
   "execution_count": 15,
   "id": "7a46b4d3",
   "metadata": {},
   "outputs": [],
   "source": [
    "const = 0.001\n",
    "dis = 1000\n",
    "cluster_dict = {}\n",
    "J = np.array([0.]*p).reshape(r, c)\n",
    "Result = np.array([-1]*r)"
   ]
  },
  {
   "cell_type": "code",
   "execution_count": 16,
   "id": "c6e0ae93",
   "metadata": {},
   "outputs": [
    {
     "name": "stdout",
     "output_type": "stream",
     "text": [
      "Accuracy after 19 annotators' response is 87.8182 %\n",
      "Accuracy after 38 annotators' response is 95.4545 %\n",
      "Accuracy after 57 annotators' response is 94.3636 %\n"
     ]
    }
   ],
   "source": [
    "a, b = 0, 19\n",
    "\n",
    "A = response_matrix[a : b]\n",
    "_, dis = clustering(cluster_dict, A, dis)\n",
    "\n",
    "\n",
    "# step = 1\n",
    "while b <= response_matrix.shape[0]:\n",
    "#     print(f'step = {step}')\n",
    "#     step += 1\n",
    "    A = response_matrix[a : b]\n",
    "    J, cluster_dict = judge(J, A, cluster_dict, a, dis)\n",
    "    \n",
    "    # Calculate final result\n",
    "    Result = np.argmax(J, axis=1)\n",
    "    \n",
    "    #Calculate accuracy\n",
    "    right = np.sum(train[train.columns[3]].values == Result[train[train.columns[2]].values])\n",
    "           \n",
    "    print(f'Accuracy after {b} annotators\\' response is {right / len(train) * 100 :.4f} %')\n",
    "    \n",
    "    a = b\n",
    "    b += 19"
   ]
  },
  {
   "cell_type": "markdown",
   "id": "7742b5c3",
   "metadata": {},
   "source": [
    "# Confusion matrix"
   ]
  },
  {
   "cell_type": "code",
   "execution_count": 17,
   "id": "ffa60911",
   "metadata": {},
   "outputs": [],
   "source": [
    "Conf = np.zeros((2,2), dtype = 'int64')"
   ]
  },
  {
   "cell_type": "code",
   "execution_count": 18,
   "id": "33b903c9",
   "metadata": {},
   "outputs": [
    {
     "name": "stdout",
     "output_type": "stream",
     "text": [
      "[[500   0]\n",
      " [ 31  19]]\n"
     ]
    }
   ],
   "source": [
    "for j in range(len(train)):\n",
    "    if train[train.columns[3]][j] == 1:\n",
    "        if train[train.columns[3]][j] == Result[train[train.columns[2]][j]]:\n",
    "            Conf[0][0] += 1\n",
    "        else:\n",
    "            Conf[1][0] += 1\n",
    "    if train[train.columns[3]][j] == 0:\n",
    "        if train[train.columns[3]][j] == Result[train[train.columns[2]][j]]:\n",
    "            Conf[1][1] += 1\n",
    "        else:\n",
    "            Conf[0][1] += 1\n",
    "print(Conf)"
   ]
  },
  {
   "cell_type": "code",
   "execution_count": 19,
   "id": "5a002844",
   "metadata": {},
   "outputs": [
    {
     "data": {
      "image/png": "[encoded data removed]",
      "text/plain": [
       "<Figure size 432x288 with 2 Axes>"
      ]
     },
     "metadata": {
      "needs_background": "light"
     },
     "output_type": "display_data"
    }
   ],
   "source": [
    "ax = sns.heatmap(Conf, annot=True, cmap = plt.cm.magma)\n",
    "\n",
    "ax.set_title('Confusion Matrix\\n');\n",
    "ax.set_xlabel('\\nPredicted Values')\n",
    "ax.set_ylabel('Actual Values ');\n",
    "\n",
    "ax.xaxis.set_ticklabels(i for i in ('positive', 'negetive'))\n",
    "ax.yaxis.set_ticklabels(i for i in ('positive', 'negetive'))\n",
    "plt.show()"
   ]
  },
  {
   "cell_type": "markdown",
   "id": "9a365c5c",
   "metadata": {},
   "source": [
    "# Majority voting"
   ]
  },
  {
   "cell_type": "code",
   "execution_count": 20,
   "id": "07470869",
   "metadata": {},
   "outputs": [],
   "source": [
    "def majority(J, block, a):\n",
    "    for j in range(block.shape[1]):\n",
    "        for k in range(block.shape[0]):\n",
    "            if response_matrix[a + k][j] != -1:\n",
    "                J[j][response_matrix[a + k][j]] += 1  \n",
    "        \n",
    "    return J"
   ]
  },
  {
   "cell_type": "markdown",
   "id": "d7b07377",
   "metadata": {},
   "source": [
    "Main function for Majority voting"
   ]
  },
  {
   "cell_type": "code",
   "execution_count": 21,
   "id": "a3a2fb9d",
   "metadata": {},
   "outputs": [
    {
     "name": "stdout",
     "output_type": "stream",
     "text": [
      "Accuracy after 19 annotators' response is 86.7273 %\n",
      "Accuracy after 38 annotators' response is 94.5455 %\n",
      "Accuracy after 57 annotators' response is 94.3636 %\n"
     ]
    }
   ],
   "source": [
    "a, b = 0, 19\n",
    "\n",
    "M = np.array([-1]*p).reshape(r, c)\n",
    "Majority_Result = np.array([-1]*r)\n",
    "\n",
    "while b <= response_matrix.shape[0]:\n",
    "    A = response_matrix[a : b]\n",
    "    M = majority(M, A, a)\n",
    "    \n",
    "    Majority_Result = np.argmax(M, axis=1)\n",
    "    \n",
    "    right = np.sum(train[train.columns[3]].values == Majority_Result[train[train.columns[2]].values])\n",
    "\n",
    "    print(f'Accuracy after {b} annotators\\' response is {right / len(train) * 100 :.4f} %')\n",
    "    \n",
    "    a = b\n",
    "    b += 19"
   ]
  },
  {
   "cell_type": "markdown",
   "id": "c1a7abc1",
   "metadata": {},
   "source": [
    "Confusion matrix"
   ]
  },
  {
   "cell_type": "code",
   "execution_count": 22,
   "id": "97364c79",
   "metadata": {},
   "outputs": [
    {
     "name": "stdout",
     "output_type": "stream",
     "text": [
      "[[500  31]\n",
      " [  0  19]]\n"
     ]
    }
   ],
   "source": [
    "Confusion_matrix = np.zeros((2, 2), dtype = 'int64')\n",
    "for j in range(len(train)):\n",
    "    if train[train.columns[3]][j] == 1:\n",
    "        if train[train.columns[3]][j] == Majority_Result[train[train.columns[2]][j]]:\n",
    "            Confusion_matrix[0][0] += 1\n",
    "        elif Majority_Result[train[train.columns[2]][j]] == 0:\n",
    "            Confusion_matrix[0][1] += 1\n",
    "            \n",
    "    elif train[train.columns[3]][j] == 0:\n",
    "        if train[train.columns[3]][j] == Majority_Result[train[train.columns[2]][j]]:\n",
    "            Confusion_matrix[1][1] += 1\n",
    "        elif Majority_Result[train[train.columns[2]][j]] == 1:\n",
    "            Confusion_matrix[1][0] += 1\n",
    "print(Confusion_matrix)"
   ]
  },
  {
   "cell_type": "code",
   "execution_count": 23,
   "id": "c3ca86d0",
   "metadata": {},
   "outputs": [
    {
     "data": {
      "image/png": "[encoded data removed]",
      "text/plain": [
       "<Figure size 432x288 with 2 Axes>"
      ]
     },
     "metadata": {
      "needs_background": "light"
     },
     "output_type": "display_data"
    }
   ],
   "source": [
    "ax = sns.heatmap(Confusion_matrix, annot=True, cmap = plt.cm.magma)\n",
    "\n",
    "ax.set_title('Confusion Matrix\\n');\n",
    "ax.set_xlabel('\\nPredicted Values')\n",
    "ax.set_ylabel('Actual Values ');\n",
    "\n",
    "ax.xaxis.set_ticklabels(i for i in ('Positive', 'Negetive'))\n",
    "ax.yaxis.set_ticklabels(i for i in ('Positive', 'Negetive'))\n",
    "plt.show()"
   ]
  },
  {
   "cell_type": "markdown",
   "id": "19f0822d",
   "metadata": {},
   "source": [
    "# Report of Crowdscale Shared Task Challenge 2013 by Liu, Peng, Ihler(Without Streaming)"
   ]
  },
  {
   "cell_type": "markdown",
   "id": "b36cf6d3",
   "metadata": {},
   "source": [
    "This algorithm is effective only for Fact evolution dataset"
   ]
  },
  {
   "cell_type": "code",
   "execution_count": 24,
   "id": "c5d364a7",
   "metadata": {},
   "outputs": [],
   "source": [
    "result = [-1]*(response_matrix.shape[1])\n",
    "\n",
    "for j in range(response_matrix.shape[1]):\n",
    "    a, b, ans = 0, 0, 0\n",
    "    for i in range(response_matrix.shape[0]):\n",
    "        if response_matrix[i][j] == 0:\n",
    "            a += 1\n",
    "            ans += 1\n",
    "        elif response_matrix[i][j] == 1:\n",
    "            b += 1\n",
    "            ans += 1\n",
    "            \n",
    "    if (a / ans > 0.8):\n",
    "        result[j] = 0\n",
    "    elif (b / ans > 0.4):\n",
    "        result[j] = 1"
   ]
  },
  {
   "cell_type": "code",
   "execution_count": 25,
   "id": "8a9f08e3",
   "metadata": {},
   "outputs": [
    {
     "name": "stdout",
     "output_type": "stream",
     "text": [
      "Accuracy after 57 annotators' response is 94.1818 %\n"
     ]
    }
   ],
   "source": [
    "right = 0\n",
    "for j in range(len(train)):\n",
    "    if train[train.columns[3]][j] != 2:\n",
    "        if train[train.columns[3]][j] == result[train[train.columns[2]][j]]:\n",
    "            right += 1\n",
    "print(f'Accuracy after {response_matrix.shape[0]} annotators\\' response is {right / len(train) * 100 :.4f} %')"
   ]
  },
  {
   "cell_type": "code",
   "execution_count": 26,
   "id": "6806f77d",
   "metadata": {},
   "outputs": [
    {
     "name": "stdout",
     "output_type": "stream",
     "text": [
      "[[501   4]\n",
      " [  0  17]]\n"
     ]
    }
   ],
   "source": [
    "Confusion_matrix = np.zeros((2, 2), dtype = 'int64')\n",
    "for j in range(len(train)):\n",
    "    if train[train.columns[3]][j] == 1:\n",
    "        if train[train.columns[3]][j] == result[train[train.columns[2]][j]]:\n",
    "            Confusion_matrix[0][0] += 1\n",
    "        elif result[train[train.columns[2]][j]] == 0:\n",
    "            Confusion_matrix[0][1] += 1\n",
    "    elif train[train.columns[3]][j] == 0:\n",
    "        if train[train.columns[3]][j] == result[train[train.columns[2]][j]]:\n",
    "            Confusion_matrix[1][1] += 1\n",
    "        elif result[train[train.columns[2]][j]] == 1:\n",
    "            Confusion_matrix[1][0] += 1\n",
    "print(Confusion_matrix)"
   ]
  },
  {
   "cell_type": "code",
   "execution_count": 27,
   "id": "fb036837",
   "metadata": {},
   "outputs": [
    {
     "data": {
      "image/png": "[encoded data removed]",
      "text/plain": [
       "<Figure size 432x288 with 2 Axes>"
      ]
     },
     "metadata": {
      "needs_background": "light"
     },
     "output_type": "display_data"
    }
   ],
   "source": [
    "ax = sns.heatmap(Confusion_matrix, annot=True, cmap = plt.cm.magma)\n",
    "\n",
    "ax.set_title('Confusion Matrix\\n');\n",
    "ax.set_xlabel('\\nPredicted Values')\n",
    "ax.set_ylabel('Actual Values ');\n",
    "\n",
    "ax.xaxis.set_ticklabels(i for i in ('Positive', 'Negetive'))\n",
    "ax.yaxis.set_ticklabels(i for i in ('Positive', 'Negetive'))\n",
    "plt.show()"
   ]
  },
  {
   "cell_type": "code",
   "execution_count": null,
   "id": "cfd7cd10",
   "metadata": {},
   "outputs": [],
   "source": []
  },
  {
   "cell_type": "markdown",
   "id": "ad3b9aa0",
   "metadata": {},
   "source": [
    "# Weighted Majority Voting"
   ]
  },
  {
   "cell_type": "code",
   "execution_count": 28,
   "id": "9d249568",
   "metadata": {},
   "outputs": [],
   "source": [
    "def weighted_majority(J, block, a):\n",
    "    for j in range(block.shape[1]):\n",
    "        for k in range(block.shape[0]):\n",
    "            if response_matrix[a + k][j] != -1:\n",
    "                J[j][response_matrix[a + k][j]] += accuracy[a + k]\n",
    "        \n",
    "    return J"
   ]
  },
  {
   "cell_type": "code",
   "execution_count": 29,
   "id": "defd3e7c",
   "metadata": {},
   "outputs": [
    {
     "name": "stdout",
     "output_type": "stream",
     "text": [
      "Accuracy after 19 annotators' response is 88.5455 %\n",
      "Accuracy after 38 annotators' response is 96.0000 %\n",
      "Accuracy after 57 annotators' response is 94.3636 %\n"
     ]
    }
   ],
   "source": [
    "a, b = 0, 19\n",
    "\n",
    "M = np.array([-1.]*p).reshape(r, c)\n",
    "Weighted_Majority_Result = np.array([-1]*r)\n",
    "\n",
    "while b <= response_matrix.shape[0]:\n",
    "    A = response_matrix[a : b]\n",
    "    M = weighted_majority(M, A, a)\n",
    "    \n",
    "    Weighted_Majority_Result = np.argmax(M, axis=1)\n",
    "    \n",
    "    right = np.sum(train[train.columns[3]].values == Weighted_Majority_Result[train[train.columns[2]].values])\n",
    "\n",
    "    print(f'Accuracy after {b} annotators\\' response is {right / len(train) * 100 :.4f} %')\n",
    "    \n",
    "    a = b\n",
    "    b += 19"
   ]
  },
  {
   "cell_type": "code",
   "execution_count": 30,
   "id": "c9638910",
   "metadata": {},
   "outputs": [
    {
     "name": "stdout",
     "output_type": "stream",
     "text": [
      "[[500  31]\n",
      " [  0  19]]\n"
     ]
    }
   ],
   "source": [
    "Confusion_matrix = np.zeros((2, 2), dtype = 'int64')\n",
    "for j in range(len(train)):\n",
    "    if train[train.columns[3]][j] == 1:\n",
    "        if train[train.columns[3]][j] == Weighted_Majority_Result[train[train.columns[2]][j]]:\n",
    "            Confusion_matrix[0][0] += 1\n",
    "        elif Weighted_Majority_Result[train[train.columns[2]][j]] == 0:\n",
    "            Confusion_matrix[0][1] += 1\n",
    "            \n",
    "    elif train[train.columns[3]][j] == 0:\n",
    "        if train[train.columns[3]][j] == Weighted_Majority_Result[train[train.columns[2]][j]]:\n",
    "            Confusion_matrix[1][1] += 1\n",
    "        elif Weighted_Majority_Result[train[train.columns[2]][j]] == 1:\n",
    "            Confusion_matrix[1][0] += 1\n",
    "print(Confusion_matrix)"
   ]
  },
  {
   "cell_type": "code",
   "execution_count": 31,
   "id": "dd92fd8c",
   "metadata": {},
   "outputs": [
    {
     "data": {
      "image/png": "[encoded data removed]",
      "text/plain": [
       "<Figure size 432x288 with 2 Axes>"
      ]
     },
     "metadata": {
      "needs_background": "light"
     },
     "output_type": "display_data"
    }
   ],
   "source": [
    "ax = sns.heatmap(Confusion_matrix, annot=True, cmap = plt.cm.magma)\n",
    "\n",
    "ax.set_title('Confusion Matrix\\n');\n",
    "ax.set_xlabel('\\nPredicted Values')\n",
    "ax.set_ylabel('Actual Values ');\n",
    "\n",
    "ax.xaxis.set_ticklabels(i for i in ('Positive', 'Negetive'))\n",
    "ax.yaxis.set_ticklabels(i for i in ('Positive', 'Negetive'))\n",
    "plt.show()"
   ]
  },
  {
   "cell_type": "code",
   "execution_count": null,
   "id": "78437120",
   "metadata": {},
   "outputs": [],
   "source": []
  }
 ],
 "metadata": {
  "kernelspec": {
   "display_name": "Python 3 (ipykernel)",
   "language": "python",
   "name": "python3"
  },
  "language_info": {
   "codemirror_mode": {
    "name": "ipython",
    "version": 3
   },
   "file_extension": ".py",
   "mimetype": "text/x-python",
   "name": "python",
   "nbconvert_exporter": "python",
   "pygments_lexer": "ipython3",
   "version": "3.9.7"
  }
 },
 "nbformat": 4,
 "nbformat_minor": 5
}
