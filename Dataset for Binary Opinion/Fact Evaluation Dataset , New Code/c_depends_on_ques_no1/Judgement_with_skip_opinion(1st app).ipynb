{
 "cells": [
  {
   "cell_type": "code",
   "execution_count": 1,
   "id": "fef4da90",
   "metadata": {},
   "outputs": [],
   "source": [
    "import numpy as np\n",
    "import pandas as pd\n",
    "import copy #Use for Deep copy\n",
    "\n",
    "import seaborn as sns\n",
    "import matplotlib.pyplot as plt"
   ]
  },
  {
   "cell_type": "markdown",
   "id": "616f603c",
   "metadata": {},
   "source": [
    "# Open the response matrix saved previously"
   ]
  },
  {
   "cell_type": "code",
   "execution_count": 2,
   "id": "43a2e5de",
   "metadata": {},
   "outputs": [
    {
     "name": "stdout",
     "output_type": "stream",
     "text": [
      "[[-1 -1 -1 ... -1 -1 -1]\n",
      " [-1 -1 -1 ... -1 -1 -1]\n",
      " [-1 -1 -1 ... -1 -1 -1]\n",
      " ...\n",
      " [-1 -1 -1 ... -1 -1 -1]\n",
      " [-1 -1 -1 ... -1 -1 -1]\n",
      " [-1 -1 -1 ... -1 -1 -1]]\n"
     ]
    }
   ],
   "source": [
    "with open('D:\\\\decertation\\\\data\\\\Fact evolution dataset\\\\new code\\\\response_matrix.npy', 'rb') as f:\n",
    "    response_matrix = np.load(f)\n",
    "print(response_matrix)"
   ]
  },
  {
   "cell_type": "markdown",
   "id": "aecf72d7",
   "metadata": {},
   "source": [
    "# Open the gold result"
   ]
  },
  {
   "cell_type": "code",
   "execution_count": 3,
   "id": "44364d0e",
   "metadata": {},
   "outputs": [
    {
     "name": "stdout",
     "output_type": "stream",
     "text": [
      "   Unnamed: 0  Question_id  Question_Reduced_Id  Gold_level\n",
      "0           0        23647                23646           1\n",
      "1           1        10756                10755           1\n",
      "2           2        40638                40637           1\n",
      "3           3        22855                22854           1\n",
      "4           4        13988                13987           1\n"
     ]
    }
   ],
   "source": [
    "train = pd.read_csv('D:\\\\decertation\\\\data\\\\Fact evolution dataset\\\\new code\\\\new_gold.csv')\n",
    "print(train.head())"
   ]
  },
  {
   "cell_type": "markdown",
   "id": "bf41f152",
   "metadata": {},
   "source": [
    "# No of 0 and 1 in gold data"
   ]
  },
  {
   "cell_type": "code",
   "execution_count": 4,
   "id": "04e133ca",
   "metadata": {},
   "outputs": [
    {
     "name": "stdout",
     "output_type": "stream",
     "text": [
      "Positive : 531, Negetive : 19, Skip: 26\n"
     ]
    }
   ],
   "source": [
    "judgement_counts = np.bincount(train['Gold_level'])\n",
    "Negetive = judgement_counts[0]\n",
    "Positive = judgement_counts[1]\n",
    "Skip = judgement_counts[2]\n",
    "print(f'Positive : {Positive}, Negetive : {Negetive}, Skip: {Skip}')"
   ]
  },
  {
   "cell_type": "markdown",
   "id": "a99f810b",
   "metadata": {},
   "source": [
    "# Judgement"
   ]
  },
  {
   "cell_type": "code",
   "execution_count": 5,
   "id": "de532ed8",
   "metadata": {},
   "outputs": [],
   "source": [
    "c, r = len(np.unique(response_matrix))-1, response_matrix.shape[1]\n",
    "p = r * c"
   ]
  },
  {
   "cell_type": "code",
   "execution_count": 6,
   "id": "298fc7cc",
   "metadata": {},
   "outputs": [
    {
     "name": "stdout",
     "output_type": "stream",
     "text": [
      "Total question : 42624\n"
     ]
    }
   ],
   "source": [
    "tot_ques = r\n",
    "print(f'Total question : {tot_ques}')"
   ]
  },
  {
   "cell_type": "markdown",
   "id": "cb051491",
   "metadata": {},
   "source": [
    "# Majority voting"
   ]
  },
  {
   "cell_type": "code",
   "execution_count": 7,
   "id": "2b3f9714",
   "metadata": {},
   "outputs": [],
   "source": [
    "def majority(J, block, a):\n",
    "    for j in range(block.shape[1]):\n",
    "        for k in range(block.shape[0]):\n",
    "            if response_matrix[a + k][j] != -1:\n",
    "                J[j][response_matrix[a + k][j]] += 1  \n",
    "        \n",
    "    return J"
   ]
  },
  {
   "cell_type": "markdown",
   "id": "59f96e32",
   "metadata": {},
   "source": [
    "Main function for Majority voting"
   ]
  },
  {
   "cell_type": "code",
   "execution_count": 8,
   "id": "034af525",
   "metadata": {},
   "outputs": [
    {
     "name": "stdout",
     "output_type": "stream",
     "text": [
      "Accuracy after 19 annotators' response is 82.8125 %\n",
      "Accuracy after 38 annotators' response is 90.2778 %\n",
      "Accuracy after 57 annotators' response is 90.1042 %\n"
     ]
    }
   ],
   "source": [
    "a, b = 0, 19\n",
    "\n",
    "M = np.array([0.]*p).reshape(r, c)\n",
    "Majority_Result = np.array([-1]*r)\n",
    "\n",
    "while b <= response_matrix.shape[0]:\n",
    "    A = response_matrix[a : b]\n",
    "    M = majority(M, A, a)\n",
    "    \n",
    "    Majority_Result = np.argmax(M, axis=1)\n",
    "    \n",
    "    right = np.sum(train[train.columns[3]].values == Majority_Result[train[train.columns[2]].values])\n",
    "\n",
    "    print(f'Accuracy after {b} annotators\\' response is {right / len(train) * 100 :.4f} %')\n",
    "    \n",
    "    a = b\n",
    "    b += 19"
   ]
  },
  {
   "cell_type": "markdown",
   "id": "0cbd5e57",
   "metadata": {},
   "source": [
    "Confusion matrix"
   ]
  },
  {
   "cell_type": "code",
   "execution_count": 9,
   "id": "8fcaea07",
   "metadata": {},
   "outputs": [
    {
     "name": "stdout",
     "output_type": "stream",
     "text": [
      "[[500  31   0]\n",
      " [  0  19   0]\n",
      " [  0  26   0]]\n"
     ]
    }
   ],
   "source": [
    "Confusion_matrix = np.zeros((3,3), dtype = 'int64')\n",
    "for j in range(len(train)):\n",
    "    if train[train.columns[3]][j] == 1:\n",
    "        if train[train.columns[3]][j] == Majority_Result[train[train.columns[2]][j]]:\n",
    "            Confusion_matrix[0][0] += 1\n",
    "        elif Majority_Result[train[train.columns[2]][j]] == 0:\n",
    "            Confusion_matrix[0][1] += 1\n",
    "        elif Majority_Result[train[train.columns[2]][j]] == 2:\n",
    "            Confusion_matrix[0][2] += 1\n",
    "    elif train[train.columns[3]][j] == 0:\n",
    "        if train[train.columns[3]][j] == Majority_Result[train[train.columns[2]][j]]:\n",
    "            Confusion_matrix[1][1] += 1\n",
    "        elif Majority_Result[train[train.columns[2]][j]] == 1:\n",
    "            Confusion_matrix[1][0] += 1\n",
    "        elif Majority_Result[train[train.columns[2]][j]] == 2:\n",
    "            Confusion_matrix[1][2] += 1\n",
    "    elif train[train.columns[3]][j] == 2:\n",
    "        if train[train.columns[3]][j] == Majority_Result[train[train.columns[2]][j]]:\n",
    "            Confusion_matrix[2][2] += 1\n",
    "        elif Majority_Result[train[train.columns[2]][j]] == 1:\n",
    "            Confusion_matrix[2][0] += 1\n",
    "        elif Majority_Result[train[train.columns[2]][j]] == 0:\n",
    "            Confusion_matrix[2][1] += 1\n",
    "print(Confusion_matrix)"
   ]
  },
  {
   "cell_type": "code",
   "execution_count": 10,
   "id": "3bc02f4c",
   "metadata": {},
   "outputs": [
    {
     "data": {
      "image/png": "[encoded data removed]",
      "text/plain": [
       "<Figure size 432x288 with 2 Axes>"
      ]
     },
     "metadata": {
      "needs_background": "light"
     },
     "output_type": "display_data"
    }
   ],
   "source": [
    "ax = sns.heatmap(Confusion_matrix, annot=True, cmap = plt.cm.magma)\n",
    "\n",
    "ax.set_title('Confusion Matrix\\n');\n",
    "ax.set_xlabel('\\nPredicted Values')\n",
    "ax.set_ylabel('Actual Values ');\n",
    "\n",
    "ax.xaxis.set_ticklabels(i for i in ('Positive', 'Negetive', 'Skip'))\n",
    "ax.yaxis.set_ticklabels(i for i in ('Positive', 'Negetive', 'Skip'))\n",
    "plt.show()"
   ]
  },
  {
   "cell_type": "code",
   "execution_count": null,
   "id": "2fbfb34a",
   "metadata": {},
   "outputs": [],
   "source": []
  },
  {
   "cell_type": "markdown",
   "id": "3c039128",
   "metadata": {},
   "source": [
    "# Report of Crowdscale Shared Task Challenge 2013 by Liu, Peng, Ihler(Without Streaming)"
   ]
  },
  {
   "cell_type": "markdown",
   "id": "a972fc0d",
   "metadata": {},
   "source": [
    "This algorithm is effective only for Fact evolution dataset"
   ]
  },
  {
   "cell_type": "code",
   "execution_count": 11,
   "id": "b4518f42",
   "metadata": {},
   "outputs": [],
   "source": [
    "result = [-1]*(response_matrix.shape[1])\n",
    "\n",
    "for j in range(response_matrix.shape[1]):\n",
    "    a, b, ans = 0, 0, 0\n",
    "    for i in range(response_matrix.shape[0]):\n",
    "        if response_matrix[i][j] == 0:\n",
    "            a += 1\n",
    "            ans += 1\n",
    "        elif response_matrix[i][j] == 1:\n",
    "            b += 1\n",
    "            ans += 1\n",
    "        elif response_matrix[i][j] == 2:\n",
    "            ans += 1\n",
    "    if (a / ans > 0.8):\n",
    "        result[j] = 0\n",
    "    elif (b / ans > 0.4):\n",
    "        result[j] = 1\n",
    "    else:\n",
    "        result[j] = 2"
   ]
  },
  {
   "cell_type": "code",
   "execution_count": 12,
   "id": "b68d7063",
   "metadata": {},
   "outputs": [
    {
     "name": "stdout",
     "output_type": "stream",
     "text": [
      "Accuracy after 57 annotators' response is 91.8403 %\n"
     ]
    }
   ],
   "source": [
    "right = 0\n",
    "for j in range(len(train)):\n",
    "    if train[train.columns[3]][j] == result[train[train.columns[2]][j]]:\n",
    "            right += 1\n",
    "print(f'Accuracy after {response_matrix.shape[0]} annotators\\' response is {right / len(train) * 100 :.4f} %')"
   ]
  },
  {
   "cell_type": "code",
   "execution_count": 13,
   "id": "f54cfbe2",
   "metadata": {},
   "outputs": [
    {
     "name": "stdout",
     "output_type": "stream",
     "text": [
      "[[501   4  26]\n",
      " [  0  17   2]\n",
      " [  0  15  11]]\n"
     ]
    }
   ],
   "source": [
    "Confusion_matrix = np.zeros((3,3), dtype = 'int64')\n",
    "for j in range(len(train)):\n",
    "    if train[train.columns[3]][j] == 1:\n",
    "        if train[train.columns[3]][j] == result[train[train.columns[2]][j]]:\n",
    "            Confusion_matrix[0][0] += 1\n",
    "        elif result[train[train.columns[2]][j]] == 0:\n",
    "            Confusion_matrix[0][1] += 1\n",
    "        elif result[train[train.columns[2]][j]] == 2:\n",
    "            Confusion_matrix[0][2] += 1\n",
    "    elif train[train.columns[3]][j] == 0:\n",
    "        if train[train.columns[3]][j] == result[train[train.columns[2]][j]]:\n",
    "            Confusion_matrix[1][1] += 1\n",
    "        elif result[train[train.columns[2]][j]] == 1:\n",
    "            Confusion_matrix[1][0] += 1\n",
    "        elif result[train[train.columns[2]][j]] == 2:\n",
    "            Confusion_matrix[1][2] += 1\n",
    "    elif train[train.columns[3]][j] == 2:\n",
    "        if train[train.columns[3]][j] == result[train[train.columns[2]][j]]:\n",
    "            Confusion_matrix[2][2] += 1\n",
    "        elif result[train[train.columns[2]][j]] == 1:\n",
    "            Confusion_matrix[2][0] += 1\n",
    "        elif result[train[train.columns[2]][j]] == 0:\n",
    "            Confusion_matrix[2][1] += 1\n",
    "print(Confusion_matrix)"
   ]
  },
  {
   "cell_type": "code",
   "execution_count": 14,
   "id": "178cbbef",
   "metadata": {},
   "outputs": [
    {
     "data": {
      "image/png": "[encoded data removed]",
      "text/plain": [
       "<Figure size 432x288 with 2 Axes>"
      ]
     },
     "metadata": {
      "needs_background": "light"
     },
     "output_type": "display_data"
    }
   ],
   "source": [
    "ax = sns.heatmap(Confusion_matrix, annot=True, cmap = plt.cm.magma)\n",
    "\n",
    "ax.set_title('Confusion Matrix\\n');\n",
    "ax.set_xlabel('\\nPredicted Values')\n",
    "ax.set_ylabel('Actual Values ');\n",
    "\n",
    "ax.xaxis.set_ticklabels(i for i in ('Positive', 'Negetive', 'Skip'))\n",
    "ax.yaxis.set_ticklabels(i for i in ('Positive', 'Negetive', 'Skip'))\n",
    "plt.show()"
   ]
  },
  {
   "cell_type": "markdown",
   "id": "8e7805f2",
   "metadata": {},
   "source": [
    "# Proposed approach for streaming data"
   ]
  },
  {
   "cell_type": "markdown",
   "id": "dda0584e",
   "metadata": {},
   "source": [
    "Calculating initial accuracy of annotators"
   ]
  },
  {
   "cell_type": "code",
   "execution_count": 15,
   "id": "a4ee1ee3",
   "metadata": {},
   "outputs": [
    {
     "name": "stdout",
     "output_type": "stream",
     "text": [
      "[0.         0.96428571 0.975      0.91304348 1.        ]\n"
     ]
    }
   ],
   "source": [
    "s1 = int(len(train)* 0.3)\n",
    "train2 = train[ : s1]\n",
    "\n",
    "accuracy = [1 / len(train2)]*response_matrix.shape[0]\n",
    "for i in range (response_matrix.shape[0]):\n",
    "    tot, corr = 0.0, 0.0\n",
    "    for j in range(len(train2)):\n",
    "        if -1 != response_matrix[i][train2[train2.columns[2]][j]]:\n",
    "            tot += 1\n",
    "            if train2[train2.columns[3]][j] == response_matrix[i][train2[train2.columns[2]][j]]:\n",
    "                corr += 1\n",
    "    if tot != 0:\n",
    "        accuracy[i] += corr / tot\n",
    "minacc = np.min(accuracy)\n",
    "maxacc = np.max(accuracy)\n",
    "accuracy = (accuracy - minacc)/ (maxacc-minacc)\n",
    "print(accuracy[ : 5])"
   ]
  },
  {
   "cell_type": "markdown",
   "id": "29200f7e",
   "metadata": {},
   "source": [
    "Required Functions"
   ]
  },
  {
   "cell_type": "code",
   "execution_count": 16,
   "id": "3562bfae",
   "metadata": {},
   "outputs": [],
   "source": [
    "def dist(a,b):\n",
    "    s = 0\n",
    "    for j in range(len(a)):\n",
    "        if a[j] != b[j]:\n",
    "            s += 1\n",
    "    return s"
   ]
  },
  {
   "cell_type": "code",
   "execution_count": 17,
   "id": "1ba28538",
   "metadata": {},
   "outputs": [],
   "source": [
    "def difficulty(block, difficulty_list, total):\n",
    "    total += block.shape[0]\n",
    "    for j in range(block.shape[1]):\n",
    "        for i in range(block.shape[0]):\n",
    "            if block[i][j] == 2:  #block[i][j] == 2 means corresponding response is \"Skip\"\n",
    "                difficulty_list[j] += 1\n",
    "    return difficulty_list, total"
   ]
  },
  {
   "cell_type": "code",
   "execution_count": 18,
   "id": "455e7afa",
   "metadata": {},
   "outputs": [],
   "source": [
    "def local_directory(row):\n",
    "    local_dict = {\n",
    "        'vector': row,\n",
    "        'frequency': 1,\n",
    "        'response_number': np.count_nonzero(row != -1)\n",
    "    }\n",
    "    return local_dict"
   ]
  },
  {
   "cell_type": "code",
   "execution_count": 19,
   "id": "093301ab",
   "metadata": {},
   "outputs": [],
   "source": [
    "#Cluster with distance = hyp\n",
    "def cluster(cluster_dict, block, hyp):\n",
    "    cluster_id = []\n",
    "    distance, i = 0, len(cluster_dict)\n",
    "    for j in range(len(block)):\n",
    "        if len(cluster_dict) == 0:\n",
    "            i += 1\n",
    "            cluster_dict[i] = local_directory(block[j])\n",
    "            cluster_id.append(i)\n",
    "\n",
    "        else:\n",
    "            l, k = 1, i\n",
    "            while l <= k:\n",
    "                d = dist(block[j], cluster_dict[l]['vector'])\n",
    "                if d <= hyp:\n",
    "                    cluster_dict[l]['frequency'] += 1\n",
    "                    cluster_id.append(l)\n",
    "                    distance += d\n",
    "\n",
    "                    break\n",
    "                else:\n",
    "                    l += 1\n",
    "                if l == k+1:\n",
    "                    i += 1\n",
    "                    cluster_dict[i] = local_directory(block[j])\n",
    "                    cluster_id.append(i)\n",
    "\n",
    "    return cluster_dict, cluster_id, distance"
   ]
  },
  {
   "cell_type": "code",
   "execution_count": 20,
   "id": "c238cf26",
   "metadata": {},
   "outputs": [],
   "source": [
    "#Clustering with finding the distance\n",
    "def clustering(cluster_dict, block, d):\n",
    "    # Use ELBOW Method to find the threshold of the distance\n",
    "    distance_list = []\n",
    "    \n",
    "    for it in range (1,100):\n",
    "        k = it * 100\n",
    "        cluster_dictionary = copy.deepcopy(cluster_dict)\n",
    "        _, _, distance = cluster(cluster_dictionary, block, k)\n",
    "        distance_list.append(distance)\n",
    "        \n",
    "    ratio = [(distance_list[i] - distance_list[i-1]) * 0.001 for i in range(1, len(distance_list))]\n",
    "    ratio1 = [a for a in ratio if a != 0]\n",
    "    index = [i for i, a in enumerate(ratio) if a != 0]\n",
    "\n",
    "    ind_ch = [(ratio1[i] - ratio1[i-1]) / (index[i] - index[i-1]) for i in range(1, len(index))]\n",
    "\n",
    "    dis = d\n",
    "    index = next((i for i, val in enumerate(ind_ch[1:], start=1) if val >= 1), None)\n",
    "    if index is not None:\n",
    "        a = ind_ch.index(ind_ch[index]) + 1\n",
    "        dis = ratio.index(ratio1[a]) * 100\n",
    "                \n",
    "#     cluster_dict,cluster_id, _ = cluster(cluster_dict, block, dis)   \n",
    "    return cluster_dict, dis"
   ]
  },
  {
   "cell_type": "code",
   "execution_count": 21,
   "id": "0fc59d21",
   "metadata": {},
   "outputs": [],
   "source": [
    "def judge(J, block, cluster_dict, a, dis, accuracy_list):    \n",
    "    cluster_dict, cluster_id, dis = cluster(cluster_dict, block, dis)\n",
    "    \n",
    "    weight = []\n",
    "    for k in range(block.shape[0]):\n",
    "        w = accuracy_list[a + k] + const * cluster_dict[cluster_id[k]]['response_number']/cluster_dict[cluster_id[k]]['frequency']\n",
    "        weight.append(w)\n",
    "    \n",
    "    for j in range(block.shape[1]):\n",
    "        for k in range(block.shape[0]):\n",
    "            if block[k][j] != -1:\n",
    "                J[j][block[k][j]] += weight[k]\n",
    "    return J, cluster_dict"
   ]
  },
  {
   "cell_type": "markdown",
   "id": "8f517ae7",
   "metadata": {},
   "source": [
    "Main function for Proposed approach"
   ]
  },
  {
   "cell_type": "code",
   "execution_count": 22,
   "id": "5a10285f",
   "metadata": {},
   "outputs": [],
   "source": [
    "const = 1 / tot_ques\n",
    "dis = 1000\n",
    "cluster_dict = {}\n",
    "J = np.array([0.]*p).reshape(r, c)\n",
    "Result = np.array([-1]*r)\n",
    "difficulty_list = [0]*response_matrix.shape[1]\n",
    "total = 0"
   ]
  },
  {
   "cell_type": "code",
   "execution_count": 23,
   "id": "4d9ca212",
   "metadata": {},
   "outputs": [
    {
     "name": "stdout",
     "output_type": "stream",
     "text": [
      "Accuracy after 19 annotators' response is 83.6806 % \n",
      "Accuracy after 38 annotators' response is 90.4514 % \n",
      "Accuracy after 57 annotators' response is 89.9306 % \n"
     ]
    }
   ],
   "source": [
    "a, b = 0, 19\n",
    "\n",
    "A = response_matrix[a : b]\n",
    "_, dis = clustering(cluster_dict, A, dis)\n",
    "\n",
    "\n",
    "# step = 1\n",
    "while b <= response_matrix.shape[0]:\n",
    "    \n",
    "    A = response_matrix[a : b]\n",
    "    \n",
    "    #Update the accuracy of the annotators\n",
    "    difficulty_list, total = difficulty(A, difficulty_list, total)\n",
    "    \n",
    "    accuracy_list = copy.deepcopy(accuracy)\n",
    "    for i in range(A.shape[0]):\n",
    "        for j in range(A.shape[1]):\n",
    "            if response_matrix[i][j] == 0:\n",
    "                accuracy_list[a + i] +=  difficulty_list[j] / total \n",
    "                \n",
    "            elif response_matrix[i][j] == 1:\n",
    "                accuracy_list[a + i] += difficulty_list[j] / total \n",
    "        \n",
    "    \n",
    "    #Judgement\n",
    "    J, cluster_dict = judge(J, A, cluster_dict, a, dis, accuracy_list)\n",
    "    \n",
    "    # Calculate final result\n",
    "    Result = np.argmax(J, axis=1)\n",
    "    \n",
    "    #Calculate accuracy\n",
    "    right = np.sum(train[train.columns[3]].values == Result[train[train.columns[2]].values])\n",
    "            \n",
    "    print(f'Accuracy after {b} annotators\\' response is {right / len(train) * 100 :.4f} % ')\n",
    "    \n",
    "    a = b\n",
    "    b += 19"
   ]
  },
  {
   "cell_type": "markdown",
   "id": "cc4da08d",
   "metadata": {},
   "source": [
    "Confusion matrix"
   ]
  },
  {
   "cell_type": "code",
   "execution_count": 24,
   "id": "f6c71e3e",
   "metadata": {},
   "outputs": [
    {
     "name": "stdout",
     "output_type": "stream",
     "text": [
      "[[499  32   0]\n",
      " [  0  19   0]\n",
      " [  0  26   0]]\n"
     ]
    }
   ],
   "source": [
    "Confusion_matrix = np.zeros((3, 3), dtype = 'int64')\n",
    "for j in range(len(train)):\n",
    "    if train[train.columns[3]][j] == 1:\n",
    "        if train[train.columns[3]][j] == Result[train[train.columns[2]][j]]:\n",
    "            Confusion_matrix[0][0] += 1\n",
    "        elif Result[train[train.columns[2]][j]] == 0:\n",
    "            Confusion_matrix[0][1] += 1\n",
    "        elif Result[train[train.columns[2]][j]] == 2:\n",
    "            Confusion_matrix[0][2] += 1\n",
    "    elif train[train.columns[3]][j] == 0:\n",
    "        if train[train.columns[3]][j] == Result[train[train.columns[2]][j]]:\n",
    "            Confusion_matrix[1][1] += 1\n",
    "        elif Result[train[train.columns[2]][j]] == 1:\n",
    "            Confusion_matrix[1][0] += 1\n",
    "        elif Result[train[train.columns[2]][j]] == 2:\n",
    "            Confusion_matrix[1][2] += 1\n",
    "    elif train[train.columns[3]][j] == 2:\n",
    "        if train[train.columns[3]][j] == Result[train[train.columns[2]][j]]:\n",
    "            Confusion_matrix[2][2] += 1\n",
    "        elif Result[train[train.columns[2]][j]] == 1:\n",
    "            Confusion_matrix[2][0] += 1\n",
    "        elif Result[train[train.columns[2]][j]] == 0:\n",
    "            Confusion_matrix[2][1] += 1\n",
    "print(Confusion_matrix)"
   ]
  },
  {
   "cell_type": "code",
   "execution_count": 25,
   "id": "e86daf66",
   "metadata": {},
   "outputs": [
    {
     "data": {
      "image/png": "[encoded data removed]",
      "text/plain": [
       "<Figure size 432x288 with 2 Axes>"
      ]
     },
     "metadata": {
      "needs_background": "light"
     },
     "output_type": "display_data"
    }
   ],
   "source": [
    "ax = sns.heatmap(Confusion_matrix, annot=True, cmap = plt.cm.magma)\n",
    "\n",
    "ax.set_title('Confusion Matrix\\n');\n",
    "ax.set_xlabel('\\nPredicted Values')\n",
    "ax.set_ylabel('Actual Values ');\n",
    "\n",
    "ax.xaxis.set_ticklabels(i for i in ('Positive', 'Negetive', 'Skip'))\n",
    "ax.yaxis.set_ticklabels(i for i in ('Positive', 'Negetive', 'Skip'))\n",
    "plt.show()"
   ]
  },
  {
   "cell_type": "code",
   "execution_count": null,
   "id": "19b5d502",
   "metadata": {},
   "outputs": [],
   "source": []
  }
 ],
 "metadata": {
  "kernelspec": {
   "display_name": "Python 3 (ipykernel)",
   "language": "python",
   "name": "python3"
  },
  "language_info": {
   "codemirror_mode": {
    "name": "ipython",
    "version": 3
   },
   "file_extension": ".py",
   "mimetype": "text/x-python",
   "name": "python",
   "nbconvert_exporter": "python",
   "pygments_lexer": "ipython3",
   "version": "3.9.7"
  }
 },
 "nbformat": 4,
 "nbformat_minor": 5
}
