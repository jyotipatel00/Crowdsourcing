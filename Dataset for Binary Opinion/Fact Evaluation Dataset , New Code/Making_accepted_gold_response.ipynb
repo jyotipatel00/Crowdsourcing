{
 "cells": [
  {
   "cell_type": "code",
   "execution_count": 1,
   "id": "f2535775",
   "metadata": {},
   "outputs": [],
   "source": [
    "import numpy as np\n",
    "import pandas as pd\n",
    "\n",
    "import json  #For convert string to dictionary"
   ]
  },
  {
   "cell_type": "code",
   "execution_count": null,
   "id": "0fcd4438",
   "metadata": {},
   "outputs": [],
   "source": []
  },
  {
   "cell_type": "markdown",
   "id": "a603be64",
   "metadata": {},
   "source": [
    "# Make response sheet"
   ]
  },
  {
   "cell_type": "code",
   "execution_count": 2,
   "id": "7499c4f3",
   "metadata": {},
   "outputs": [],
   "source": [
    "data = pd.read_csv('D:\\\\decertation\\\\data\\\\Fact evolution dataset\\\\Google_KG_institution_CrowdScale_v3_question_full_data.csv')"
   ]
  },
  {
   "cell_type": "code",
   "execution_count": 3,
   "id": "b6c9548d",
   "metadata": {},
   "outputs": [
    {
     "data": {
      "text/plain": [
       "Index(['question', 'metadata'], dtype='object')"
      ]
     },
     "execution_count": 3,
     "metadata": {},
     "output_type": "execute_result"
    }
   ],
   "source": [
    "data.columns"
   ]
  },
  {
   "cell_type": "code",
   "execution_count": 4,
   "id": "893b72b2",
   "metadata": {},
   "outputs": [
    {
     "data": {
      "text/html": [
       "<div>\n",
       "<style scoped>\n",
       "    .dataframe tbody tr th:only-of-type {\n",
       "        vertical-align: middle;\n",
       "    }\n",
       "\n",
       "    .dataframe tbody tr th {\n",
       "        vertical-align: top;\n",
       "    }\n",
       "\n",
       "    .dataframe thead th {\n",
       "        text-align: right;\n",
       "    }\n",
       "</style>\n",
       "<table border=\"1\" class=\"dataframe\">\n",
       "  <thead>\n",
       "    <tr style=\"text-align: right;\">\n",
       "      <th></th>\n",
       "      <th>question</th>\n",
       "      <th>metadata</th>\n",
       "    </tr>\n",
       "  </thead>\n",
       "  <tbody>\n",
       "    <tr>\n",
       "      <th>0</th>\n",
       "      <td>1</td>\n",
       "      <td>{\"obj\": \"/m/0lk0l\", \"sub\": \"/m/056h7f\", \"judgm...</td>\n",
       "    </tr>\n",
       "    <tr>\n",
       "      <th>1</th>\n",
       "      <td>2</td>\n",
       "      <td>{\"obj\": \"/m/09c_lw\", \"sub\": \"/m/02v_brk\", \"jud...</td>\n",
       "    </tr>\n",
       "    <tr>\n",
       "      <th>2</th>\n",
       "      <td>3</td>\n",
       "      <td>{\"obj\": \"/m/0g2ngm\", \"sub\": \"/m/0ph77\", \"judgm...</td>\n",
       "    </tr>\n",
       "    <tr>\n",
       "      <th>3</th>\n",
       "      <td>4</td>\n",
       "      <td>{\"obj\": \"/m/0ckrjh\", \"sub\": \"/m/0g9zjv3\", \"jud...</td>\n",
       "    </tr>\n",
       "    <tr>\n",
       "      <th>4</th>\n",
       "      <td>5</td>\n",
       "      <td>{\"obj\": \"/m/06w8bv\", \"sub\": \"/m/03p42t\", \"judg...</td>\n",
       "    </tr>\n",
       "    <tr>\n",
       "      <th>...</th>\n",
       "      <td>...</td>\n",
       "      <td>...</td>\n",
       "    </tr>\n",
       "    <tr>\n",
       "      <th>42619</th>\n",
       "      <td>42620</td>\n",
       "      <td>{\"obj\": \"/m/01p7x7\", \"sub\": \"/m/09v8kh4\", \"jud...</td>\n",
       "    </tr>\n",
       "    <tr>\n",
       "      <th>42620</th>\n",
       "      <td>42621</td>\n",
       "      <td>{\"obj\": \"/m/0187nd\", \"sub\": \"/m/05f5lyk\", \"jud...</td>\n",
       "    </tr>\n",
       "    <tr>\n",
       "      <th>42621</th>\n",
       "      <td>42622</td>\n",
       "      <td>{\"obj\": \"/m/06zdw0\", \"sub\": \"/m/0hhq23_\", \"jud...</td>\n",
       "    </tr>\n",
       "    <tr>\n",
       "      <th>42622</th>\n",
       "      <td>42623</td>\n",
       "      <td>{\"obj\": \"/m/0fpphm\", \"sub\": \"/m/05pb5k7\", \"jud...</td>\n",
       "    </tr>\n",
       "    <tr>\n",
       "      <th>42623</th>\n",
       "      <td>42624</td>\n",
       "      <td>{\"obj\": \"/m/04ldy17\", \"sub\": \"/m/03hgykw\", \"ju...</td>\n",
       "    </tr>\n",
       "  </tbody>\n",
       "</table>\n",
       "<p>42624 rows × 2 columns</p>\n",
       "</div>"
      ],
      "text/plain": [
       "       question                                           metadata\n",
       "0             1  {\"obj\": \"/m/0lk0l\", \"sub\": \"/m/056h7f\", \"judgm...\n",
       "1             2  {\"obj\": \"/m/09c_lw\", \"sub\": \"/m/02v_brk\", \"jud...\n",
       "2             3  {\"obj\": \"/m/0g2ngm\", \"sub\": \"/m/0ph77\", \"judgm...\n",
       "3             4  {\"obj\": \"/m/0ckrjh\", \"sub\": \"/m/0g9zjv3\", \"jud...\n",
       "4             5  {\"obj\": \"/m/06w8bv\", \"sub\": \"/m/03p42t\", \"judg...\n",
       "...         ...                                                ...\n",
       "42619     42620  {\"obj\": \"/m/01p7x7\", \"sub\": \"/m/09v8kh4\", \"jud...\n",
       "42620     42621  {\"obj\": \"/m/0187nd\", \"sub\": \"/m/05f5lyk\", \"jud...\n",
       "42621     42622  {\"obj\": \"/m/06zdw0\", \"sub\": \"/m/0hhq23_\", \"jud...\n",
       "42622     42623  {\"obj\": \"/m/0fpphm\", \"sub\": \"/m/05pb5k7\", \"jud...\n",
       "42623     42624  {\"obj\": \"/m/04ldy17\", \"sub\": \"/m/03hgykw\", \"ju...\n",
       "\n",
       "[42624 rows x 2 columns]"
      ]
     },
     "execution_count": 4,
     "metadata": {},
     "output_type": "execute_result"
    }
   ],
   "source": [
    "data"
   ]
  },
  {
   "cell_type": "code",
   "execution_count": 5,
   "id": "6240e523",
   "metadata": {},
   "outputs": [
    {
     "data": {
      "text/plain": [
       "'{\"obj\": \"/m/09c_lw\", \"sub\": \"/m/02v_brk\", \"judgments\": [{\"judgment\": 1, \"rater\": \"12075143618468024163\"}, {\"judgment\": 1, \"rater\": \"14447675271069668697\"}, {\"judgment\": 1, \"rater\": \"1264223381988340244\"}, {\"judgment\": 1, \"rater\": \"16671464637895630418\"}, {\"judgment\": 1, \"rater\": \"15062272711075499926\"}], \"pred\": \"/people/person/education./education/education/institution\", \"question\": 2, \"evidences\": [{\"url\": \"http://en.wikipedia.org/wiki/Harry_Brooks_(politician)\", \"snippet\": \"Harry was born September 4, 1946. He graduated from Maryville High School, competed his undergraduate work as a Speech and Communication major at Carson Newman College, and got his graduate degree from the University of Tennessee, Knoxville. He is married to Mary and has two children. He retired from law enforcement and was a business employer before pursuing politics.\"}]}'"
      ]
     },
     "execution_count": 5,
     "metadata": {},
     "output_type": "execute_result"
    }
   ],
   "source": [
    "data['metadata'][1]"
   ]
  },
  {
   "cell_type": "code",
   "execution_count": null,
   "id": "5577027e",
   "metadata": {},
   "outputs": [],
   "source": []
  },
  {
   "cell_type": "code",
   "execution_count": 6,
   "id": "50b77571",
   "metadata": {},
   "outputs": [],
   "source": [
    "question_id, rater, response = [],[],[]\n",
    "for k in range(len(data)):\n",
    "    \n",
    "    res = json.loads(data['metadata'][k])  #Transfer string to dictionary\n",
    "    A = res['judgments']  #A is a list of judgment and rater\n",
    "    \n",
    "    for i in range(len(A)):\n",
    "        response.append(A[i]['judgment'])\n",
    "        rater.append(A[i]['rater'])\n",
    "        question_id.append(res['question'])"
   ]
  },
  {
   "cell_type": "code",
   "execution_count": null,
   "id": "2949e786",
   "metadata": {},
   "outputs": [],
   "source": []
  },
  {
   "cell_type": "code",
   "execution_count": 7,
   "id": "d6747b0d",
   "metadata": {},
   "outputs": [],
   "source": [
    "reduced_rater = []\n",
    "reduced_question = []\n",
    "A = np.unique(rater)\n",
    "B = np.unique(question_id)\n",
    "for i in range(len(response)):\n",
    "    reduced_rater.append(np.where(A == rater[i])[0][0])\n",
    "    reduced_question.append(np.where(B == question_id[i])[0][0])"
   ]
  },
  {
   "cell_type": "code",
   "execution_count": null,
   "id": "18c39891",
   "metadata": {},
   "outputs": [],
   "source": []
  },
  {
   "cell_type": "code",
   "execution_count": 8,
   "id": "5991d940",
   "metadata": {},
   "outputs": [
    {
     "data": {
      "text/html": [
       "<div>\n",
       "<style scoped>\n",
       "    .dataframe tbody tr th:only-of-type {\n",
       "        vertical-align: middle;\n",
       "    }\n",
       "\n",
       "    .dataframe tbody tr th {\n",
       "        vertical-align: top;\n",
       "    }\n",
       "\n",
       "    .dataframe thead th {\n",
       "        text-align: right;\n",
       "    }\n",
       "</style>\n",
       "<table border=\"1\" class=\"dataframe\">\n",
       "  <thead>\n",
       "    <tr style=\"text-align: right;\">\n",
       "      <th></th>\n",
       "      <th>Question_Id</th>\n",
       "      <th>Rater</th>\n",
       "      <th>Question_Reduced_Id</th>\n",
       "      <th>Rater_Reduced_Id</th>\n",
       "      <th>Response</th>\n",
       "    </tr>\n",
       "  </thead>\n",
       "  <tbody>\n",
       "    <tr>\n",
       "      <th>0</th>\n",
       "      <td>1</td>\n",
       "      <td>16671464637895630418</td>\n",
       "      <td>0</td>\n",
       "      <td>25</td>\n",
       "      <td>1</td>\n",
       "    </tr>\n",
       "    <tr>\n",
       "      <th>1</th>\n",
       "      <td>1</td>\n",
       "      <td>18153321702395861849</td>\n",
       "      <td>0</td>\n",
       "      <td>28</td>\n",
       "      <td>1</td>\n",
       "    </tr>\n",
       "    <tr>\n",
       "      <th>2</th>\n",
       "      <td>1</td>\n",
       "      <td>6570687721363324718</td>\n",
       "      <td>0</td>\n",
       "      <td>42</td>\n",
       "      <td>1</td>\n",
       "    </tr>\n",
       "    <tr>\n",
       "      <th>3</th>\n",
       "      <td>1</td>\n",
       "      <td>1295059937994543754</td>\n",
       "      <td>0</td>\n",
       "      <td>13</td>\n",
       "      <td>1</td>\n",
       "    </tr>\n",
       "    <tr>\n",
       "      <th>4</th>\n",
       "      <td>1</td>\n",
       "      <td>12022408018620867151</td>\n",
       "      <td>0</td>\n",
       "      <td>8</td>\n",
       "      <td>1</td>\n",
       "    </tr>\n",
       "    <tr>\n",
       "      <th>...</th>\n",
       "      <td>...</td>\n",
       "      <td>...</td>\n",
       "      <td>...</td>\n",
       "      <td>...</td>\n",
       "      <td>...</td>\n",
       "    </tr>\n",
       "    <tr>\n",
       "      <th>216720</th>\n",
       "      <td>42624</td>\n",
       "      <td>12022408018620867151</td>\n",
       "      <td>42623</td>\n",
       "      <td>8</td>\n",
       "      <td>0</td>\n",
       "    </tr>\n",
       "    <tr>\n",
       "      <th>216721</th>\n",
       "      <td>42624</td>\n",
       "      <td>13754604161689255068</td>\n",
       "      <td>42623</td>\n",
       "      <td>16</td>\n",
       "      <td>0</td>\n",
       "    </tr>\n",
       "    <tr>\n",
       "      <th>216722</th>\n",
       "      <td>42624</td>\n",
       "      <td>6968726908160095830</td>\n",
       "      <td>42623</td>\n",
       "      <td>47</td>\n",
       "      <td>1</td>\n",
       "    </tr>\n",
       "    <tr>\n",
       "      <th>216723</th>\n",
       "      <td>42624</td>\n",
       "      <td>16959325387609365299</td>\n",
       "      <td>42623</td>\n",
       "      <td>26</td>\n",
       "      <td>0</td>\n",
       "    </tr>\n",
       "    <tr>\n",
       "      <th>216724</th>\n",
       "      <td>42624</td>\n",
       "      <td>1295059937994543754</td>\n",
       "      <td>42623</td>\n",
       "      <td>13</td>\n",
       "      <td>0</td>\n",
       "    </tr>\n",
       "  </tbody>\n",
       "</table>\n",
       "<p>216725 rows × 5 columns</p>\n",
       "</div>"
      ],
      "text/plain": [
       "        Question_Id                 Rater  Question_Reduced_Id  \\\n",
       "0                 1  16671464637895630418                    0   \n",
       "1                 1  18153321702395861849                    0   \n",
       "2                 1   6570687721363324718                    0   \n",
       "3                 1   1295059937994543754                    0   \n",
       "4                 1  12022408018620867151                    0   \n",
       "...             ...                   ...                  ...   \n",
       "216720        42624  12022408018620867151                42623   \n",
       "216721        42624  13754604161689255068                42623   \n",
       "216722        42624   6968726908160095830                42623   \n",
       "216723        42624  16959325387609365299                42623   \n",
       "216724        42624   1295059937994543754                42623   \n",
       "\n",
       "        Rater_Reduced_Id  Response  \n",
       "0                     25         1  \n",
       "1                     28         1  \n",
       "2                     42         1  \n",
       "3                     13         1  \n",
       "4                      8         1  \n",
       "...                  ...       ...  \n",
       "216720                 8         0  \n",
       "216721                16         0  \n",
       "216722                47         1  \n",
       "216723                26         0  \n",
       "216724                13         0  \n",
       "\n",
       "[216725 rows x 5 columns]"
      ]
     },
     "execution_count": 8,
     "metadata": {},
     "output_type": "execute_result"
    }
   ],
   "source": [
    "df = {'Question_Id' : question_id, 'Rater' : rater, 'Question_Reduced_Id' : reduced_question, 'Rater_Reduced_Id' : reduced_rater, 'Response' : response}     \n",
    "df = pd.DataFrame(df)\n",
    "df"
   ]
  },
  {
   "cell_type": "markdown",
   "id": "f3d4224c",
   "metadata": {},
   "source": [
    "# Save response as Response_sheet.csv"
   ]
  },
  {
   "cell_type": "code",
   "execution_count": 9,
   "id": "8da8f9e5",
   "metadata": {},
   "outputs": [],
   "source": [
    "df.to_csv('Response_sheet.csv')"
   ]
  },
  {
   "cell_type": "code",
   "execution_count": null,
   "id": "9344cc50",
   "metadata": {},
   "outputs": [],
   "source": []
  },
  {
   "cell_type": "markdown",
   "id": "c29a0709",
   "metadata": {},
   "source": [
    "# Make New Gold Result"
   ]
  },
  {
   "cell_type": "code",
   "execution_count": 10,
   "id": "4b1b931f",
   "metadata": {},
   "outputs": [],
   "source": [
    "gold = pd.read_csv('D:\\\\decertation\\\\data\\\\Fact evolution dataset\\\\gold\\\\gold.csv')"
   ]
  },
  {
   "cell_type": "code",
   "execution_count": 11,
   "id": "9109982e",
   "metadata": {},
   "outputs": [
    {
     "data": {
      "text/html": [
       "<div>\n",
       "<style scoped>\n",
       "    .dataframe tbody tr th:only-of-type {\n",
       "        vertical-align: middle;\n",
       "    }\n",
       "\n",
       "    .dataframe tbody tr th {\n",
       "        vertical-align: top;\n",
       "    }\n",
       "\n",
       "    .dataframe thead th {\n",
       "        text-align: right;\n",
       "    }\n",
       "</style>\n",
       "<table border=\"1\" class=\"dataframe\">\n",
       "  <thead>\n",
       "    <tr style=\"text-align: right;\">\n",
       "      <th></th>\n",
       "      <th>question</th>\n",
       "      <th>answer</th>\n",
       "    </tr>\n",
       "  </thead>\n",
       "  <tbody>\n",
       "    <tr>\n",
       "      <th>0</th>\n",
       "      <td>23647</td>\n",
       "      <td>1</td>\n",
       "    </tr>\n",
       "    <tr>\n",
       "      <th>1</th>\n",
       "      <td>10756</td>\n",
       "      <td>1</td>\n",
       "    </tr>\n",
       "    <tr>\n",
       "      <th>2</th>\n",
       "      <td>40638</td>\n",
       "      <td>1</td>\n",
       "    </tr>\n",
       "    <tr>\n",
       "      <th>3</th>\n",
       "      <td>22855</td>\n",
       "      <td>1</td>\n",
       "    </tr>\n",
       "    <tr>\n",
       "      <th>4</th>\n",
       "      <td>13988</td>\n",
       "      <td>1</td>\n",
       "    </tr>\n",
       "    <tr>\n",
       "      <th>...</th>\n",
       "      <td>...</td>\n",
       "      <td>...</td>\n",
       "    </tr>\n",
       "    <tr>\n",
       "      <th>571</th>\n",
       "      <td>31275</td>\n",
       "      <td>1</td>\n",
       "    </tr>\n",
       "    <tr>\n",
       "      <th>572</th>\n",
       "      <td>10516</td>\n",
       "      <td>1</td>\n",
       "    </tr>\n",
       "    <tr>\n",
       "      <th>573</th>\n",
       "      <td>9787</td>\n",
       "      <td>1</td>\n",
       "    </tr>\n",
       "    <tr>\n",
       "      <th>574</th>\n",
       "      <td>13362</td>\n",
       "      <td>1</td>\n",
       "    </tr>\n",
       "    <tr>\n",
       "      <th>575</th>\n",
       "      <td>24301</td>\n",
       "      <td>2</td>\n",
       "    </tr>\n",
       "  </tbody>\n",
       "</table>\n",
       "<p>576 rows × 2 columns</p>\n",
       "</div>"
      ],
      "text/plain": [
       "     question  answer\n",
       "0       23647       1\n",
       "1       10756       1\n",
       "2       40638       1\n",
       "3       22855       1\n",
       "4       13988       1\n",
       "..        ...     ...\n",
       "571     31275       1\n",
       "572     10516       1\n",
       "573      9787       1\n",
       "574     13362       1\n",
       "575     24301       2\n",
       "\n",
       "[576 rows x 2 columns]"
      ]
     },
     "execution_count": 11,
     "metadata": {},
     "output_type": "execute_result"
    }
   ],
   "source": [
    "gold"
   ]
  },
  {
   "cell_type": "code",
   "execution_count": 12,
   "id": "08c4e7c2",
   "metadata": {},
   "outputs": [
    {
     "data": {
      "text/plain": [
       "Index(['question', 'answer'], dtype='object')"
      ]
     },
     "execution_count": 12,
     "metadata": {},
     "output_type": "execute_result"
    }
   ],
   "source": [
    "gold.columns"
   ]
  },
  {
   "cell_type": "code",
   "execution_count": 13,
   "id": "b0debe15",
   "metadata": {},
   "outputs": [],
   "source": [
    "Question_id, Gold_level, Question_Reduced_Id = [], [], []\n",
    "\n",
    "for i in range(len(gold)):\n",
    "    Question_id.append(gold[gold.columns[0]][i])\n",
    "    Question_Reduced_Id.append(np.where(B == gold[gold.columns[0]][i])[0][0])\n",
    "    Gold_level.append(gold[gold.columns[1]][i])\n"
   ]
  },
  {
   "cell_type": "code",
   "execution_count": null,
   "id": "576c2e6e",
   "metadata": {},
   "outputs": [],
   "source": []
  },
  {
   "cell_type": "code",
   "execution_count": 14,
   "id": "9e9cae4b",
   "metadata": {},
   "outputs": [
    {
     "data": {
      "text/html": [
       "<div>\n",
       "<style scoped>\n",
       "    .dataframe tbody tr th:only-of-type {\n",
       "        vertical-align: middle;\n",
       "    }\n",
       "\n",
       "    .dataframe tbody tr th {\n",
       "        vertical-align: top;\n",
       "    }\n",
       "\n",
       "    .dataframe thead th {\n",
       "        text-align: right;\n",
       "    }\n",
       "</style>\n",
       "<table border=\"1\" class=\"dataframe\">\n",
       "  <thead>\n",
       "    <tr style=\"text-align: right;\">\n",
       "      <th></th>\n",
       "      <th>Question_id</th>\n",
       "      <th>Question_Reduced_Id</th>\n",
       "      <th>Gold_level</th>\n",
       "    </tr>\n",
       "  </thead>\n",
       "  <tbody>\n",
       "    <tr>\n",
       "      <th>0</th>\n",
       "      <td>23647</td>\n",
       "      <td>23646</td>\n",
       "      <td>1</td>\n",
       "    </tr>\n",
       "    <tr>\n",
       "      <th>1</th>\n",
       "      <td>10756</td>\n",
       "      <td>10755</td>\n",
       "      <td>1</td>\n",
       "    </tr>\n",
       "    <tr>\n",
       "      <th>2</th>\n",
       "      <td>40638</td>\n",
       "      <td>40637</td>\n",
       "      <td>1</td>\n",
       "    </tr>\n",
       "    <tr>\n",
       "      <th>3</th>\n",
       "      <td>22855</td>\n",
       "      <td>22854</td>\n",
       "      <td>1</td>\n",
       "    </tr>\n",
       "    <tr>\n",
       "      <th>4</th>\n",
       "      <td>13988</td>\n",
       "      <td>13987</td>\n",
       "      <td>1</td>\n",
       "    </tr>\n",
       "    <tr>\n",
       "      <th>...</th>\n",
       "      <td>...</td>\n",
       "      <td>...</td>\n",
       "      <td>...</td>\n",
       "    </tr>\n",
       "    <tr>\n",
       "      <th>571</th>\n",
       "      <td>31275</td>\n",
       "      <td>31274</td>\n",
       "      <td>1</td>\n",
       "    </tr>\n",
       "    <tr>\n",
       "      <th>572</th>\n",
       "      <td>10516</td>\n",
       "      <td>10515</td>\n",
       "      <td>1</td>\n",
       "    </tr>\n",
       "    <tr>\n",
       "      <th>573</th>\n",
       "      <td>9787</td>\n",
       "      <td>9786</td>\n",
       "      <td>1</td>\n",
       "    </tr>\n",
       "    <tr>\n",
       "      <th>574</th>\n",
       "      <td>13362</td>\n",
       "      <td>13361</td>\n",
       "      <td>1</td>\n",
       "    </tr>\n",
       "    <tr>\n",
       "      <th>575</th>\n",
       "      <td>24301</td>\n",
       "      <td>24300</td>\n",
       "      <td>2</td>\n",
       "    </tr>\n",
       "  </tbody>\n",
       "</table>\n",
       "<p>576 rows × 3 columns</p>\n",
       "</div>"
      ],
      "text/plain": [
       "     Question_id  Question_Reduced_Id  Gold_level\n",
       "0          23647                23646           1\n",
       "1          10756                10755           1\n",
       "2          40638                40637           1\n",
       "3          22855                22854           1\n",
       "4          13988                13987           1\n",
       "..           ...                  ...         ...\n",
       "571        31275                31274           1\n",
       "572        10516                10515           1\n",
       "573         9787                 9786           1\n",
       "574        13362                13361           1\n",
       "575        24301                24300           2\n",
       "\n",
       "[576 rows x 3 columns]"
      ]
     },
     "execution_count": 14,
     "metadata": {},
     "output_type": "execute_result"
    }
   ],
   "source": [
    "df1 = {'Question_id' : Question_id,'Question_Reduced_Id': Question_Reduced_Id, 'Gold_level' : Gold_level}     \n",
    "df1 = pd.DataFrame(df1)\n",
    "df1"
   ]
  },
  {
   "cell_type": "code",
   "execution_count": null,
   "id": "c4aa23dd",
   "metadata": {},
   "outputs": [],
   "source": []
  },
  {
   "cell_type": "code",
   "execution_count": null,
   "id": "6e77f150",
   "metadata": {},
   "outputs": [],
   "source": []
  },
  {
   "cell_type": "markdown",
   "id": "112bca42",
   "metadata": {},
   "source": [
    "# Save the new gold result as new_gold.csv"
   ]
  },
  {
   "cell_type": "code",
   "execution_count": 15,
   "id": "32a02d4f",
   "metadata": {},
   "outputs": [],
   "source": [
    "df1.to_csv('new_gold.csv')"
   ]
  },
  {
   "cell_type": "markdown",
   "id": "3fd5c4ed",
   "metadata": {},
   "source": [
    "# Make New Gold Result with no skip"
   ]
  },
  {
   "cell_type": "code",
   "execution_count": 16,
   "id": "febb0eee",
   "metadata": {},
   "outputs": [],
   "source": [
    "Question_id1, Gold_level1, Question_Reduced_Id1 = [], [], []\n",
    "\n",
    "for i in range(len(gold)):\n",
    "    if gold[gold.columns[1]][i] != 2:\n",
    "        Question_id1.append(gold[gold.columns[0]][i])\n",
    "        Question_Reduced_Id1.append(np.where(B == gold[gold.columns[0]][i])[0][0])\n",
    "        Gold_level1.append(gold[gold.columns[1]][i])"
   ]
  },
  {
   "cell_type": "code",
   "execution_count": 17,
   "id": "71abd841",
   "metadata": {},
   "outputs": [],
   "source": [
    "df2 = {'Question_id' : Question_id1,'Question_Reduced_Id': Question_Reduced_Id1, 'Gold_level' : Gold_level1}     \n",
    "df2 = pd.DataFrame(df2)"
   ]
  },
  {
   "cell_type": "markdown",
   "id": "3d7e836e",
   "metadata": {},
   "source": [
    "# Save the new gold result without skip as new_gold_without_skip.csv"
   ]
  },
  {
   "cell_type": "code",
   "execution_count": 18,
   "id": "5bbeeaa9",
   "metadata": {},
   "outputs": [],
   "source": [
    "df2.to_csv('new_gold_without_skip.csv')"
   ]
  },
  {
   "cell_type": "code",
   "execution_count": null,
   "id": "cc7dad33",
   "metadata": {},
   "outputs": [],
   "source": []
  }
 ],
 "metadata": {
  "kernelspec": {
   "display_name": "Python 3 (ipykernel)",
   "language": "python",
   "name": "python3"
  },
  "language_info": {
   "codemirror_mode": {
    "name": "ipython",
    "version": 3
   },
   "file_extension": ".py",
   "mimetype": "text/x-python",
   "name": "python",
   "nbconvert_exporter": "python",
   "pygments_lexer": "ipython3",
   "version": "3.9.7"
  }
 },
 "nbformat": 4,
 "nbformat_minor": 5
}
