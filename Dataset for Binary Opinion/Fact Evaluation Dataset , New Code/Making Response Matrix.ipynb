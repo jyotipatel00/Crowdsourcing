{
 "cells": [
  {
   "cell_type": "code",
   "execution_count": 1,
   "id": "b8d7b84d",
   "metadata": {},
   "outputs": [],
   "source": [
    "import numpy as np\n",
    "import pandas as pd"
   ]
  },
  {
   "cell_type": "code",
   "execution_count": 2,
   "id": "5c79a609",
   "metadata": {},
   "outputs": [],
   "source": [
    "data = pd.read_csv('D:\\\\decertation\\\\data\\\\Fact evolution dataset\\\\new code\\\\Response_sheet.csv')"
   ]
  },
  {
   "cell_type": "code",
   "execution_count": 3,
   "id": "dd4f2674",
   "metadata": {},
   "outputs": [
    {
     "data": {
      "text/html": [
       "<div>\n",
       "<style scoped>\n",
       "    .dataframe tbody tr th:only-of-type {\n",
       "        vertical-align: middle;\n",
       "    }\n",
       "\n",
       "    .dataframe tbody tr th {\n",
       "        vertical-align: top;\n",
       "    }\n",
       "\n",
       "    .dataframe thead th {\n",
       "        text-align: right;\n",
       "    }\n",
       "</style>\n",
       "<table border=\"1\" class=\"dataframe\">\n",
       "  <thead>\n",
       "    <tr style=\"text-align: right;\">\n",
       "      <th></th>\n",
       "      <th>Unnamed: 0</th>\n",
       "      <th>Question_Id</th>\n",
       "      <th>Rater</th>\n",
       "      <th>Question_Reduced_Id</th>\n",
       "      <th>Rater_Reduced_Id</th>\n",
       "      <th>Response</th>\n",
       "    </tr>\n",
       "  </thead>\n",
       "  <tbody>\n",
       "    <tr>\n",
       "      <th>0</th>\n",
       "      <td>0</td>\n",
       "      <td>1</td>\n",
       "      <td>16671464637895630418</td>\n",
       "      <td>0</td>\n",
       "      <td>25</td>\n",
       "      <td>1</td>\n",
       "    </tr>\n",
       "    <tr>\n",
       "      <th>1</th>\n",
       "      <td>1</td>\n",
       "      <td>1</td>\n",
       "      <td>18153321702395861849</td>\n",
       "      <td>0</td>\n",
       "      <td>28</td>\n",
       "      <td>1</td>\n",
       "    </tr>\n",
       "    <tr>\n",
       "      <th>2</th>\n",
       "      <td>2</td>\n",
       "      <td>1</td>\n",
       "      <td>6570687721363324718</td>\n",
       "      <td>0</td>\n",
       "      <td>42</td>\n",
       "      <td>1</td>\n",
       "    </tr>\n",
       "    <tr>\n",
       "      <th>3</th>\n",
       "      <td>3</td>\n",
       "      <td>1</td>\n",
       "      <td>1295059937994543754</td>\n",
       "      <td>0</td>\n",
       "      <td>13</td>\n",
       "      <td>1</td>\n",
       "    </tr>\n",
       "    <tr>\n",
       "      <th>4</th>\n",
       "      <td>4</td>\n",
       "      <td>1</td>\n",
       "      <td>12022408018620867151</td>\n",
       "      <td>0</td>\n",
       "      <td>8</td>\n",
       "      <td>1</td>\n",
       "    </tr>\n",
       "    <tr>\n",
       "      <th>...</th>\n",
       "      <td>...</td>\n",
       "      <td>...</td>\n",
       "      <td>...</td>\n",
       "      <td>...</td>\n",
       "      <td>...</td>\n",
       "      <td>...</td>\n",
       "    </tr>\n",
       "    <tr>\n",
       "      <th>216720</th>\n",
       "      <td>216720</td>\n",
       "      <td>42624</td>\n",
       "      <td>12022408018620867151</td>\n",
       "      <td>42623</td>\n",
       "      <td>8</td>\n",
       "      <td>0</td>\n",
       "    </tr>\n",
       "    <tr>\n",
       "      <th>216721</th>\n",
       "      <td>216721</td>\n",
       "      <td>42624</td>\n",
       "      <td>13754604161689255068</td>\n",
       "      <td>42623</td>\n",
       "      <td>16</td>\n",
       "      <td>0</td>\n",
       "    </tr>\n",
       "    <tr>\n",
       "      <th>216722</th>\n",
       "      <td>216722</td>\n",
       "      <td>42624</td>\n",
       "      <td>6968726908160095830</td>\n",
       "      <td>42623</td>\n",
       "      <td>47</td>\n",
       "      <td>1</td>\n",
       "    </tr>\n",
       "    <tr>\n",
       "      <th>216723</th>\n",
       "      <td>216723</td>\n",
       "      <td>42624</td>\n",
       "      <td>16959325387609365299</td>\n",
       "      <td>42623</td>\n",
       "      <td>26</td>\n",
       "      <td>0</td>\n",
       "    </tr>\n",
       "    <tr>\n",
       "      <th>216724</th>\n",
       "      <td>216724</td>\n",
       "      <td>42624</td>\n",
       "      <td>1295059937994543754</td>\n",
       "      <td>42623</td>\n",
       "      <td>13</td>\n",
       "      <td>0</td>\n",
       "    </tr>\n",
       "  </tbody>\n",
       "</table>\n",
       "<p>216725 rows × 6 columns</p>\n",
       "</div>"
      ],
      "text/plain": [
       "        Unnamed: 0  Question_Id                 Rater  Question_Reduced_Id  \\\n",
       "0                0            1  16671464637895630418                    0   \n",
       "1                1            1  18153321702395861849                    0   \n",
       "2                2            1   6570687721363324718                    0   \n",
       "3                3            1   1295059937994543754                    0   \n",
       "4                4            1  12022408018620867151                    0   \n",
       "...            ...          ...                   ...                  ...   \n",
       "216720      216720        42624  12022408018620867151                42623   \n",
       "216721      216721        42624  13754604161689255068                42623   \n",
       "216722      216722        42624   6968726908160095830                42623   \n",
       "216723      216723        42624  16959325387609365299                42623   \n",
       "216724      216724        42624   1295059937994543754                42623   \n",
       "\n",
       "        Rater_Reduced_Id  Response  \n",
       "0                     25         1  \n",
       "1                     28         1  \n",
       "2                     42         1  \n",
       "3                     13         1  \n",
       "4                      8         1  \n",
       "...                  ...       ...  \n",
       "216720                 8         0  \n",
       "216721                16         0  \n",
       "216722                47         1  \n",
       "216723                26         0  \n",
       "216724                13         0  \n",
       "\n",
       "[216725 rows x 6 columns]"
      ]
     },
     "execution_count": 3,
     "metadata": {},
     "output_type": "execute_result"
    }
   ],
   "source": [
    "data"
   ]
  },
  {
   "cell_type": "code",
   "execution_count": 4,
   "id": "f04daabf",
   "metadata": {},
   "outputs": [
    {
     "data": {
      "text/plain": [
       "Index(['Unnamed: 0', 'Question_Id', 'Rater', 'Question_Reduced_Id',\n",
       "       'Rater_Reduced_Id', 'Response'],\n",
       "      dtype='object')"
      ]
     },
     "execution_count": 4,
     "metadata": {},
     "output_type": "execute_result"
    }
   ],
   "source": [
    "data.columns"
   ]
  },
  {
   "cell_type": "code",
   "execution_count": 5,
   "id": "3202070a",
   "metadata": {},
   "outputs": [
    {
     "name": "stdout",
     "output_type": "stream",
     "text": [
      "No of Question_Id is 42624\n",
      "No of Rater is 57\n",
      "No of Question_Reduced_Id is 42624\n",
      "No of Rater_Reduced_Id is 57\n"
     ]
    }
   ],
   "source": [
    "print(f'No of {data.columns[1]} is {len(pd.unique(data[data.columns[1]]))}')\n",
    "print(f'No of {data.columns[2]} is {len(pd.unique(data[data.columns[2]]))}')\n",
    "print(f'No of {data.columns[3]} is {len(pd.unique(data[data.columns[3]]))}')\n",
    "print(f'No of {data.columns[4]} is {len(pd.unique(data[data.columns[4]]))}')"
   ]
  },
  {
   "cell_type": "code",
   "execution_count": null,
   "id": "446455b8",
   "metadata": {},
   "outputs": [],
   "source": []
  },
  {
   "cell_type": "code",
   "execution_count": 6,
   "id": "2470eb62",
   "metadata": {},
   "outputs": [],
   "source": [
    "row = len(pd.unique(data[data.columns[4]]))\n",
    "column = len(pd.unique(data[data.columns[3]]))\n",
    "\n",
    "response = -np.ones((row,column), dtype = 'int')"
   ]
  },
  {
   "cell_type": "code",
   "execution_count": 7,
   "id": "69edc94c",
   "metadata": {},
   "outputs": [
    {
     "data": {
      "text/plain": [
       "(57, 42624)"
      ]
     },
     "execution_count": 7,
     "metadata": {},
     "output_type": "execute_result"
    }
   ],
   "source": [
    "response.shape"
   ]
  },
  {
   "cell_type": "code",
   "execution_count": 8,
   "id": "dd4d004c",
   "metadata": {},
   "outputs": [
    {
     "data": {
      "text/plain": [
       "array([[-1, -1, -1, ..., -1, -1, -1],\n",
       "       [-1, -1, -1, ..., -1, -1, -1],\n",
       "       [-1, -1, -1, ..., -1, -1, -1],\n",
       "       ...,\n",
       "       [-1, -1, -1, ..., -1, -1, -1],\n",
       "       [-1, -1, -1, ..., -1, -1, -1],\n",
       "       [-1, -1, -1, ..., -1, -1, -1]])"
      ]
     },
     "execution_count": 8,
     "metadata": {},
     "output_type": "execute_result"
    }
   ],
   "source": [
    "response"
   ]
  },
  {
   "cell_type": "code",
   "execution_count": null,
   "id": "8176c0f4",
   "metadata": {},
   "outputs": [],
   "source": []
  },
  {
   "cell_type": "code",
   "execution_count": 9,
   "id": "5f0e5d26",
   "metadata": {},
   "outputs": [],
   "source": [
    "for i in range(len(data[data.columns[0]])):\n",
    "    response[data[data.columns[4]][i]][data[data.columns[3]][i]] = data[data.columns[5]][i]"
   ]
  },
  {
   "cell_type": "markdown",
   "id": "c94af41d",
   "metadata": {},
   "source": [
    "0/1/2 : no/yes/skip"
   ]
  },
  {
   "cell_type": "code",
   "execution_count": 10,
   "id": "ef0c8c45",
   "metadata": {},
   "outputs": [
    {
     "name": "stdout",
     "output_type": "stream",
     "text": [
      "The response matrix is :\n"
     ]
    },
    {
     "data": {
      "text/plain": [
       "array([[-1, -1, -1, ..., -1, -1, -1],\n",
       "       [-1, -1, -1, ..., -1, -1, -1],\n",
       "       [-1, -1, -1, ..., -1, -1, -1],\n",
       "       ...,\n",
       "       [-1, -1, -1, ..., -1, -1, -1],\n",
       "       [-1, -1, -1, ..., -1, -1, -1],\n",
       "       [-1, -1, -1, ..., -1, -1, -1]])"
      ]
     },
     "execution_count": 10,
     "metadata": {},
     "output_type": "execute_result"
    }
   ],
   "source": [
    "print(\"The response matrix is :\")\n",
    "response"
   ]
  },
  {
   "cell_type": "code",
   "execution_count": null,
   "id": "94645fb0",
   "metadata": {},
   "outputs": [],
   "source": []
  },
  {
   "cell_type": "code",
   "execution_count": 11,
   "id": "7fb5e388",
   "metadata": {},
   "outputs": [],
   "source": [
    "with open('response_matrix.npy', 'wb') as f:\n",
    "    np.save(f, response)"
   ]
  },
  {
   "cell_type": "code",
   "execution_count": null,
   "id": "30ea7f27",
   "metadata": {},
   "outputs": [],
   "source": []
  }
 ],
 "metadata": {
  "kernelspec": {
   "display_name": "Python 3 (ipykernel)",
   "language": "python",
   "name": "python3"
  },
  "language_info": {
   "codemirror_mode": {
    "name": "ipython",
    "version": 3
   },
   "file_extension": ".py",
   "mimetype": "text/x-python",
   "name": "python",
   "nbconvert_exporter": "python",
   "pygments_lexer": "ipython3",
   "version": "3.9.7"
  }
 },
 "nbformat": 4,
 "nbformat_minor": 5
}
