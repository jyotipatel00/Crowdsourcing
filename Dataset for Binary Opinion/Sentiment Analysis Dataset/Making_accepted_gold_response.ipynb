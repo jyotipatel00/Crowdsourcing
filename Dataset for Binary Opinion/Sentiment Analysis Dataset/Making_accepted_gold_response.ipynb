{
 "cells": [
  {
   "cell_type": "code",
   "execution_count": 1,
   "id": "29fe99c3",
   "metadata": {},
   "outputs": [],
   "source": [
    "import numpy as np\n",
    "import pandas as pd"
   ]
  },
  {
   "cell_type": "code",
   "execution_count": 2,
   "id": "24f6650c",
   "metadata": {},
   "outputs": [],
   "source": [
    "data = pd.read_csv('D:\\\\decertation\\\\data\\sentiment analysis dataset\\\\new_code\\\\original_data\\\\cf-sentiment-basic.csv')"
   ]
  },
  {
   "cell_type": "code",
   "execution_count": 3,
   "id": "cfdf5754",
   "metadata": {},
   "outputs": [],
   "source": [
    "B = list(pd.unique(data[data.columns[0]]))"
   ]
  },
  {
   "cell_type": "code",
   "execution_count": 4,
   "id": "7527e08c",
   "metadata": {},
   "outputs": [],
   "source": [
    "gold = pd.read_csv('D:\\\\decertation\\\\data\\sentiment analysis dataset\\\\new_code\\\\original_data\\\\reference_100.csv')"
   ]
  },
  {
   "cell_type": "code",
   "execution_count": 5,
   "id": "8618fa21",
   "metadata": {},
   "outputs": [],
   "source": [
    "ques, ques1, original_question, original_question1, new_judgement, new_judgement1 = [], [], [], [], [], []\n",
    "for row in range(len(gold)):\n",
    "    if gold[gold.columns[1]][row] == 0:\n",
    "        new_judgement.append(0)\n",
    "        new_judgement1.append(0)\n",
    "        ques.append(B.index(gold[gold.columns[0]][row]))\n",
    "        ques1.append(B.index(gold[gold.columns[0]][row]))\n",
    "        original_question.append(gold[gold.columns[0]][row])\n",
    "        original_question1.append(gold[gold.columns[0]][row])\n",
    "        \n",
    "    elif gold[gold.columns[1]][row] == 2:\n",
    "        new_judgement.append(1)\n",
    "        new_judgement1.append(1)\n",
    "        ques.append(B.index(gold[gold.columns[0]][row]))\n",
    "        ques1.append(B.index(gold[gold.columns[0]][row]))\n",
    "        original_question.append(gold[gold.columns[0]][row])\n",
    "        original_question1.append(gold[gold.columns[0]][row])\n",
    "    \n",
    "    elif gold[gold.columns[1]][row] == 4:\n",
    "        new_judgement.append(2)      \n",
    "        ques.append(B.index(gold[gold.columns[0]][row]))\n",
    "        original_question.append(gold[gold.columns[0]][row])"
   ]
  },
  {
   "cell_type": "markdown",
   "id": "84363163",
   "metadata": {},
   "source": [
    "# Save gold with skip option"
   ]
  },
  {
   "cell_type": "code",
   "execution_count": 6,
   "id": "1e522d3d",
   "metadata": {},
   "outputs": [],
   "source": [
    "df = {'original_question' : original_question, 'ques' : ques, 'new_judgement' : new_judgement}     \n",
    "df = pd.DataFrame(df)"
   ]
  },
  {
   "cell_type": "code",
   "execution_count": 7,
   "id": "09d30f70",
   "metadata": {},
   "outputs": [],
   "source": [
    "df.to_csv('new_gold.csv')"
   ]
  },
  {
   "cell_type": "markdown",
   "id": "67c238ac",
   "metadata": {},
   "source": [
    "# Save gold without skip option"
   ]
  },
  {
   "cell_type": "code",
   "execution_count": 8,
   "id": "b233adb4",
   "metadata": {},
   "outputs": [],
   "source": [
    "df1 = {'original_question' : original_question1, 'ques' : ques1, 'new_judgement' : new_judgement1}     \n",
    "df1 = pd.DataFrame(df)"
   ]
  },
  {
   "cell_type": "code",
   "execution_count": 9,
   "id": "7d998768",
   "metadata": {},
   "outputs": [],
   "source": [
    "df1.to_csv('new_gold_without_skip.csv')"
   ]
  }
 ],
 "metadata": {
  "kernelspec": {
   "display_name": "Python 3 (ipykernel)",
   "language": "python",
   "name": "python3"
  },
  "language_info": {
   "codemirror_mode": {
    "name": "ipython",
    "version": 3
   },
   "file_extension": ".py",
   "mimetype": "text/x-python",
   "name": "python",
   "nbconvert_exporter": "python",
   "pygments_lexer": "ipython3",
   "version": "3.9.7"
  }
 },
 "nbformat": 4,
 "nbformat_minor": 5
}
