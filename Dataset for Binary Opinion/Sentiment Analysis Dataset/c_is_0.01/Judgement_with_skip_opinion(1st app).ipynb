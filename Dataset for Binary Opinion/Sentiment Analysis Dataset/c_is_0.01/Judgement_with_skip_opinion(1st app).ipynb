{
 "cells": [
  {
   "cell_type": "markdown",
   "id": "2e10809b",
   "metadata": {},
   "source": [
    "Working skip option as an opinion and include the effect of skip in our approach"
   ]
  },
  {
   "cell_type": "code",
   "execution_count": 1,
   "id": "9f67f9fb",
   "metadata": {},
   "outputs": [],
   "source": [
    "import numpy as np\n",
    "import pandas as pd\n",
    "import copy #Use for Deep copy\n",
    "\n",
    "import seaborn as sns\n",
    "import matplotlib.pyplot as plt"
   ]
  },
  {
   "cell_type": "code",
   "execution_count": 2,
   "id": "7869d904",
   "metadata": {},
   "outputs": [
    {
     "name": "stdout",
     "output_type": "stream",
     "text": [
      "[[-1 -1 -1 ... -1 -1 -1]\n",
      " [-1 -1 -1 ... -1 -1 -1]\n",
      " [-1 -1 -1 ... -1 -1  1]\n",
      " ...\n",
      " [-1 -1 -1 ... -1 -1 -1]\n",
      " [-1 -1 -1 ... -1 -1 -1]\n",
      " [-1 -1 -1 ... -1 -1 -1]]\n"
     ]
    }
   ],
   "source": [
    "with open('D:\\\\decertation\\\\data\\sentiment analysis dataset\\\\new_code\\\\response_matrix.npy', 'rb') as f:\n",
    "    response_matrix = np.load(f)\n",
    "print(response_matrix)"
   ]
  },
  {
   "cell_type": "code",
   "execution_count": null,
   "id": "ab4d86c1",
   "metadata": {},
   "outputs": [],
   "source": []
  },
  {
   "cell_type": "code",
   "execution_count": 3,
   "id": "80d68416",
   "metadata": {},
   "outputs": [
    {
     "name": "stdout",
     "output_type": "stream",
     "text": [
      "   Unnamed: 0  original_question   ques  new_judgement\n",
      "0           0           79186190  73151              1\n",
      "1           1           79186569  73515              1\n",
      "2           2           79186651  73592              0\n",
      "3           3           79186726  73659              1\n",
      "4           4           79186749  73681              1\n"
     ]
    }
   ],
   "source": [
    "train = pd.read_csv('D:\\\\decertation\\\\data\\sentiment analysis dataset\\\\new_code\\\\new_gold.csv')\n",
    "print(train.head())"
   ]
  },
  {
   "cell_type": "code",
   "execution_count": 4,
   "id": "8e4cce4d",
   "metadata": {},
   "outputs": [
    {
     "name": "stdout",
     "output_type": "stream",
     "text": [
      "Positive : 190, Negetive : 228, Skip: 25\n"
     ]
    }
   ],
   "source": [
    "judgement_counts = np.bincount(train['new_judgement'])\n",
    "Negetive = judgement_counts[0]\n",
    "Positive = judgement_counts[1]\n",
    "Skip = judgement_counts[2]\n",
    "print(f'Positive : {Positive}, Negetive : {Negetive}, Skip: {Skip}')"
   ]
  },
  {
   "cell_type": "code",
   "execution_count": 5,
   "id": "9a579c4f",
   "metadata": {},
   "outputs": [],
   "source": [
    "c, r = len(np.unique(response_matrix))-1, response_matrix.shape[1]\n",
    "p = r * c"
   ]
  },
  {
   "cell_type": "code",
   "execution_count": 6,
   "id": "e1d45b31",
   "metadata": {},
   "outputs": [
    {
     "name": "stdout",
     "output_type": "stream",
     "text": [
      "Total question 98980\n"
     ]
    }
   ],
   "source": [
    "tot_ques = r\n",
    "print(f'Total question {tot_ques}')"
   ]
  },
  {
   "cell_type": "markdown",
   "id": "b3daa346",
   "metadata": {},
   "source": [
    "# Proposed approach for streaming data"
   ]
  },
  {
   "cell_type": "markdown",
   "id": "b5abd779",
   "metadata": {},
   "source": [
    "Calculating initial accuracy of annotators"
   ]
  },
  {
   "cell_type": "code",
   "execution_count": 7,
   "id": "30210074",
   "metadata": {},
   "outputs": [
    {
     "name": "stdout",
     "output_type": "stream",
     "text": [
      "[0.  1.  1.  0.8 0. ]\n"
     ]
    }
   ],
   "source": [
    "s1 = int(len(train)* 0.3)\n",
    "train2 = train[ : s1]\n",
    "\n",
    "accuracy = [1 / len(train2)]*response_matrix.shape[0]\n",
    "for i in range (response_matrix.shape[0]):\n",
    "    tot, corr = 0.0, 0.0\n",
    "    for j in range(len(train2)):\n",
    "        if -1 != response_matrix[i][train2[train2.columns[2]][j]]:\n",
    "            tot += 1\n",
    "            if train2[train2.columns[3]][j] == response_matrix[i][train2[train2.columns[2]][j]]:\n",
    "                corr += 1\n",
    "    if tot != 0:\n",
    "        accuracy[i] += corr / tot\n",
    "minacc = np.min(accuracy)\n",
    "maxacc = np.max(accuracy)\n",
    "accuracy = (accuracy - minacc)/ (maxacc-minacc)\n",
    "print(accuracy[ : 5])"
   ]
  },
  {
   "cell_type": "markdown",
   "id": "8050c87a",
   "metadata": {},
   "source": [
    "Required function"
   ]
  },
  {
   "cell_type": "code",
   "execution_count": 8,
   "id": "e54bfcfb",
   "metadata": {},
   "outputs": [],
   "source": [
    "def dist(a,b):\n",
    "    s = 0\n",
    "    for j in range(len(a)):\n",
    "        if a[j] != b[j]:\n",
    "            s += 1\n",
    "    return s"
   ]
  },
  {
   "cell_type": "code",
   "execution_count": 9,
   "id": "f71629a4",
   "metadata": {},
   "outputs": [],
   "source": [
    "def difficulty(block, difficulty_list, total):\n",
    "    total += block.shape[0]\n",
    "    for j in range(block.shape[1]):\n",
    "        for i in range(block.shape[0]):\n",
    "            if block[i][j] == 2:  #block[i][j] == 2 means corresponding response is \"Skip\"\n",
    "                difficulty_list[j] += 1\n",
    "    return difficulty_list, total"
   ]
  },
  {
   "cell_type": "code",
   "execution_count": 10,
   "id": "dc7ecc04",
   "metadata": {},
   "outputs": [],
   "source": [
    "def local_directory(row):\n",
    "    local_dict = {\n",
    "        'vector': row,\n",
    "        'frequency': 1,\n",
    "        'response_number': np.count_nonzero(row != -1)\n",
    "    }\n",
    "    return local_dict"
   ]
  },
  {
   "cell_type": "code",
   "execution_count": 11,
   "id": "5c078e50",
   "metadata": {},
   "outputs": [],
   "source": [
    "#Cluster with distance = hyp\n",
    "def cluster(cluster_dict, block, hyp):\n",
    "    cluster_id = []\n",
    "    distance, i = 0, len(cluster_dict)\n",
    "    for j in range(len(block)):\n",
    "        if len(cluster_dict) == 0:\n",
    "            i += 1\n",
    "            cluster_dict[i] = local_directory(block[j])\n",
    "            cluster_id.append(i)\n",
    "\n",
    "        else:\n",
    "            l, k = 1, i\n",
    "            while l <= k:\n",
    "                d = dist(block[j], cluster_dict[l]['vector'])\n",
    "                if d <= hyp:\n",
    "                    cluster_dict[l]['frequency'] += 1\n",
    "                    cluster_id.append(l)\n",
    "                    distance += d\n",
    "\n",
    "                    break\n",
    "                else:\n",
    "                    l += 1\n",
    "                if l == k+1:\n",
    "                    i += 1\n",
    "                    cluster_dict[i] = local_directory(block[j])\n",
    "                    cluster_id.append(i)\n",
    "\n",
    "    return cluster_dict, cluster_id, distance"
   ]
  },
  {
   "cell_type": "code",
   "execution_count": 12,
   "id": "76a58286",
   "metadata": {},
   "outputs": [],
   "source": [
    "#Clustering with finding the distance\n",
    "def clustering(cluster_dict, block, d):\n",
    "    # Use ELBOW Method to find the threshold of the distance\n",
    "    distance_list = []\n",
    "    \n",
    "    for it in range (1,100):\n",
    "        k = it * 100\n",
    "        cluster_dictionary = copy.deepcopy(cluster_dict)\n",
    "        _, _, distance = cluster(cluster_dictionary, block, k)\n",
    "        distance_list.append(distance)\n",
    "\n",
    "\n",
    "    ratio = [(distance_list[i] - distance_list[i-1]) * 0.001 for i in range(1, len(distance_list))]\n",
    "    ratio1 = [a for a in ratio if a != 0]\n",
    "    index = [i for i, a in enumerate(ratio) if a != 0]\n",
    "\n",
    "    ind_ch = [(ratio1[i] - ratio1[i-1]) / (index[i] - index[i-1]) for i in range(1, len(index))]\n",
    "\n",
    "    dis = d\n",
    "    index = next((i for i, val in enumerate(ind_ch[1:], start=1) if val >= 1), None)\n",
    "    if index is not None:\n",
    "        a = ind_ch.index(ind_ch[index]) + 1\n",
    "        dis = ratio.index(ratio1[a]) * 100\n",
    "                \n",
    "\n",
    "#     cluster_dict,cluster_id, _ = cluster(cluster_dict, block, dis)   \n",
    "    return cluster_dict, dis"
   ]
  },
  {
   "cell_type": "code",
   "execution_count": 13,
   "id": "935da581",
   "metadata": {},
   "outputs": [],
   "source": [
    "def judge(J, block, cluster_dict, a, dis, accuracy_list):    \n",
    "    cluster_dict, cluster_id, _ = cluster(cluster_dict, block, dis)\n",
    "    \n",
    "    weight = []\n",
    "    for k in range(block.shape[0]):\n",
    "        w = accuracy_list[a + k] + const * cluster_dict[cluster_id[k]]['response_number']/cluster_dict[cluster_id[k]]['frequency']\n",
    "        weight.append(w)\n",
    "    \n",
    "    for j in range(block.shape[1]):\n",
    "        for k in range(block.shape[0]):\n",
    "            if block[k][j] != -1:\n",
    "                J[j][block[k][j]] += weight[k]\n",
    "\n",
    "    return J, cluster_dict"
   ]
  },
  {
   "cell_type": "markdown",
   "id": "b5796fd8",
   "metadata": {},
   "source": [
    "Main function for Proposed approach"
   ]
  },
  {
   "cell_type": "code",
   "execution_count": 14,
   "id": "f90d48cf",
   "metadata": {},
   "outputs": [],
   "source": [
    "const = 0.001\n",
    "dis = 1000\n",
    "cluster_dict = {}\n",
    "J = np.array([0.]*p).reshape(r, c)\n",
    "Result = np.array([-1]*r)\n",
    "difficulty_list = [0]*response_matrix.shape[1]\n",
    "total = 0"
   ]
  },
  {
   "cell_type": "code",
   "execution_count": 15,
   "id": "f6845267",
   "metadata": {},
   "outputs": [
    {
     "name": "stdout",
     "output_type": "stream",
     "text": [
      "Accuracy after 50 annotators' response is 71.5576 % \n",
      "Accuracy after 100 annotators' response is 80.8126 % \n",
      "Accuracy after 150 annotators' response is 84.4244 % \n",
      "Accuracy after 200 annotators' response is 86.9074 % \n",
      "Accuracy after 250 annotators' response is 88.9391 % \n",
      "Accuracy after 300 annotators' response is 89.8420 % \n",
      "Accuracy after 350 annotators' response is 90.2935 % \n",
      "Accuracy after 400 annotators' response is 90.0677 % \n",
      "Accuracy after 450 annotators' response is 90.2935 % \n",
      "Accuracy after 500 annotators' response is 90.2935 % \n",
      "Accuracy after 550 annotators' response is 90.5192 % \n",
      "Accuracy after 600 annotators' response is 90.5192 % \n",
      "Accuracy after 650 annotators' response is 90.5192 % \n",
      "Accuracy after 700 annotators' response is 90.5192 % \n",
      "Accuracy after 750 annotators' response is 90.5192 % \n",
      "Accuracy after 800 annotators' response is 90.7449 % \n",
      "Accuracy after 850 annotators' response is 90.7449 % \n",
      "Accuracy after 900 annotators' response is 90.7449 % \n",
      "Accuracy after 950 annotators' response is 90.7449 % \n",
      "Accuracy after 1000 annotators' response is 90.9707 % \n",
      "Accuracy after 1050 annotators' response is 90.9707 % \n",
      "Accuracy after 1100 annotators' response is 90.9707 % \n",
      "Accuracy after 1150 annotators' response is 90.7449 % \n",
      "Accuracy after 1200 annotators' response is 90.9707 % \n",
      "Accuracy after 1250 annotators' response is 90.9707 % \n",
      "Accuracy after 1300 annotators' response is 90.9707 % \n",
      "Accuracy after 1350 annotators' response is 90.9707 % \n",
      "Accuracy after 1400 annotators' response is 90.9707 % \n",
      "Accuracy after 1450 annotators' response is 90.9707 % \n",
      "Accuracy after 1500 annotators' response is 90.9707 % \n",
      "Accuracy after 1550 annotators' response is 91.6479 % \n",
      "Accuracy after 1600 annotators' response is 91.6479 % \n",
      "Accuracy after 1650 annotators' response is 91.6479 % \n",
      "Accuracy after 1700 annotators' response is 91.6479 % \n",
      "Accuracy after 1750 annotators' response is 91.6479 % \n",
      "Accuracy after 1800 annotators' response is 91.6479 % \n",
      "Accuracy after 1850 annotators' response is 91.6479 % \n",
      "Accuracy after 1900 annotators' response is 91.6479 % \n",
      "Accuracy after 1950 annotators' response is 91.6479 % \n"
     ]
    }
   ],
   "source": [
    "a, b = 0, 50\n",
    "\n",
    "A = response_matrix[a : b]\n",
    "_, dis = clustering(cluster_dict, A, dis)\n",
    "\n",
    "while b <= response_matrix.shape[0]:\n",
    "    \n",
    "    A = response_matrix[a : b]\n",
    "    \n",
    "    #Update the accuracy of the annotators\n",
    "    difficulty_list, total = difficulty(A, difficulty_list, total)\n",
    "    \n",
    "    accuracy_list = copy.deepcopy(accuracy)\n",
    "    for i in range(A.shape[0]):\n",
    "        for j in range(A.shape[1]):\n",
    "            if response_matrix[i][j] == 0:\n",
    "                accuracy_list[a + i] +=  difficulty_list[j] / total \n",
    "                \n",
    "            elif response_matrix[i][j] == 1:\n",
    "                accuracy_list[a + i] += difficulty_list[j] / total \n",
    "        \n",
    "    \n",
    "    #Judgement\n",
    "    J, cluster_dict = judge(J, A, cluster_dict, a, dis, accuracy_list)\n",
    "    \n",
    "    # Calculate final result\n",
    "    Result = np.argmax(J, axis=1)\n",
    "    \n",
    "    #Calculate accuracy\n",
    "    right = np.sum(train[train.columns[3]].values == Result[train[train.columns[2]].values])\n",
    "            \n",
    "    print(f'Accuracy after {b} annotators\\' response is {right / len(train) * 100 :.4f} % ')\n",
    "    \n",
    "    a = b\n",
    "    b += 50"
   ]
  },
  {
   "cell_type": "markdown",
   "id": "41bb368d",
   "metadata": {},
   "source": [
    "Confusion matrix"
   ]
  },
  {
   "cell_type": "code",
   "execution_count": 16,
   "id": "128565f9",
   "metadata": {},
   "outputs": [
    {
     "name": "stdout",
     "output_type": "stream",
     "text": [
      "[[184   4   2]\n",
      " [  4 213  11]\n",
      " [  5  11   9]]\n"
     ]
    }
   ],
   "source": [
    "Confusion_matrix = np.zeros((3, 3), dtype = 'int64')\n",
    "for j in range(len(train)):\n",
    "    if train[train.columns[3]][j] == 1:\n",
    "        if train[train.columns[3]][j] == Result[train[train.columns[2]][j]]:\n",
    "            Confusion_matrix[0][0] += 1\n",
    "        elif Result[train[train.columns[2]][j]] == 0:\n",
    "            Confusion_matrix[0][1] += 1\n",
    "        elif Result[train[train.columns[2]][j]] == 2:\n",
    "            Confusion_matrix[0][2] += 1\n",
    "            \n",
    "    elif train[train.columns[3]][j] == 0:\n",
    "        if train[train.columns[3]][j] == Result[train[train.columns[2]][j]]:\n",
    "            Confusion_matrix[1][1] += 1\n",
    "        elif Result[train[train.columns[2]][j]] == 1:\n",
    "            Confusion_matrix[1][0] += 1\n",
    "        elif Result[train[train.columns[2]][j]] == 2:\n",
    "            Confusion_matrix[1][2] += 1\n",
    "            \n",
    "    elif train[train.columns[3]][j] == 2:\n",
    "        if train[train.columns[3]][j] == Result[train[train.columns[2]][j]]:\n",
    "            Confusion_matrix[2][2] += 1\n",
    "        elif Result[train[train.columns[2]][j]] == 1:\n",
    "            Confusion_matrix[2][0] += 1\n",
    "        elif Result[train[train.columns[2]][j]] == 0:\n",
    "            Confusion_matrix[2][1] += 1\n",
    "print(Confusion_matrix)"
   ]
  },
  {
   "cell_type": "code",
   "execution_count": 17,
   "id": "35824136",
   "metadata": {},
   "outputs": [
    {
     "data": {
      "image/png": "[encoded data removed]",
      "text/plain": [
       "<Figure size 432x288 with 2 Axes>"
      ]
     },
     "metadata": {
      "needs_background": "light"
     },
     "output_type": "display_data"
    }
   ],
   "source": [
    "ax = sns.heatmap(Confusion_matrix, annot=True, cmap = plt.cm.magma)\n",
    "\n",
    "ax.set_title('Confusion Matrix\\n');\n",
    "ax.set_xlabel('\\nPredicted Values')\n",
    "ax.set_ylabel('Actual Values ');\n",
    "\n",
    "ax.xaxis.set_ticklabels(i for i in ('Positive', 'Negetive', 'Skip'))\n",
    "ax.yaxis.set_ticklabels(i for i in ('Positive', 'Negetive', 'Skip'))\n",
    "plt.show()"
   ]
  },
  {
   "cell_type": "code",
   "execution_count": null,
   "id": "b3b5436f",
   "metadata": {},
   "outputs": [],
   "source": []
  },
  {
   "cell_type": "markdown",
   "id": "056bcb0e",
   "metadata": {},
   "source": [
    "# Majority voting"
   ]
  },
  {
   "cell_type": "code",
   "execution_count": 18,
   "id": "1462b98b",
   "metadata": {},
   "outputs": [],
   "source": [
    "def majority(J, block, a):\n",
    "    for j in range(block.shape[1]):\n",
    "        for k in range(block.shape[0]):\n",
    "            if response_matrix[a + k][j] != -1:\n",
    "                J[j][response_matrix[a + k][j]] += 1  \n",
    "        \n",
    "    return J"
   ]
  },
  {
   "cell_type": "code",
   "execution_count": 19,
   "id": "1476c5cd",
   "metadata": {},
   "outputs": [
    {
     "name": "stdout",
     "output_type": "stream",
     "text": [
      "Accuracy after 50 annotators' response is 91.6479 %\n",
      "Accuracy after 100 annotators' response is 91.6479 %\n",
      "Accuracy after 150 annotators' response is 91.6479 %\n",
      "Accuracy after 200 annotators' response is 91.6479 %\n",
      "Accuracy after 250 annotators' response is 91.6479 %\n",
      "Accuracy after 300 annotators' response is 91.6479 %\n",
      "Accuracy after 350 annotators' response is 91.6479 %\n",
      "Accuracy after 400 annotators' response is 91.6479 %\n",
      "Accuracy after 450 annotators' response is 91.6479 %\n",
      "Accuracy after 500 annotators' response is 91.6479 %\n",
      "Accuracy after 550 annotators' response is 91.6479 %\n",
      "Accuracy after 600 annotators' response is 91.6479 %\n",
      "Accuracy after 650 annotators' response is 91.6479 %\n",
      "Accuracy after 700 annotators' response is 91.6479 %\n",
      "Accuracy after 750 annotators' response is 91.6479 %\n",
      "Accuracy after 800 annotators' response is 91.6479 %\n",
      "Accuracy after 850 annotators' response is 91.6479 %\n",
      "Accuracy after 900 annotators' response is 91.6479 %\n",
      "Accuracy after 950 annotators' response is 91.6479 %\n",
      "Accuracy after 1000 annotators' response is 91.6479 %\n",
      "Accuracy after 1050 annotators' response is 91.6479 %\n",
      "Accuracy after 1100 annotators' response is 91.6479 %\n",
      "Accuracy after 1150 annotators' response is 91.6479 %\n",
      "Accuracy after 1200 annotators' response is 91.6479 %\n",
      "Accuracy after 1250 annotators' response is 91.6479 %\n",
      "Accuracy after 1300 annotators' response is 91.6479 %\n",
      "Accuracy after 1350 annotators' response is 91.6479 %\n",
      "Accuracy after 1400 annotators' response is 91.6479 %\n",
      "Accuracy after 1450 annotators' response is 91.6479 %\n",
      "Accuracy after 1500 annotators' response is 91.6479 %\n",
      "Accuracy after 1550 annotators' response is 91.6479 %\n",
      "Accuracy after 1600 annotators' response is 91.6479 %\n",
      "Accuracy after 1650 annotators' response is 91.6479 %\n",
      "Accuracy after 1700 annotators' response is 91.6479 %\n",
      "Accuracy after 1750 annotators' response is 91.6479 %\n",
      "Accuracy after 1800 annotators' response is 91.6479 %\n",
      "Accuracy after 1850 annotators' response is 91.6479 %\n",
      "Accuracy after 1900 annotators' response is 91.6479 %\n",
      "Accuracy after 1950 annotators' response is 91.6479 %\n"
     ]
    }
   ],
   "source": [
    "a, b = 0, 50\n",
    "\n",
    "M = np.array([-1]*p).reshape(r, c)\n",
    "Majority_Result = np.array([-1]*r)\n",
    "\n",
    "while b <= response_matrix.shape[0]:\n",
    "    A = response_matrix[a : b]\n",
    "    M = majority(M, A, a)\n",
    "    \n",
    "    Majority_Result = np.argmax(J, axis=1)\n",
    "    \n",
    "    right = np.sum(train[train.columns[3]].values == Majority_Result[train[train.columns[2]].values])\n",
    "\n",
    "    print(f'Accuracy after {b} annotators\\' response is {right / len(train) * 100 :.4f} %')\n",
    "    \n",
    "    a = b\n",
    "    b += 50"
   ]
  },
  {
   "cell_type": "markdown",
   "id": "2a4b7275",
   "metadata": {},
   "source": [
    "Confusion matrix"
   ]
  },
  {
   "cell_type": "code",
   "execution_count": 20,
   "id": "8777a21c",
   "metadata": {},
   "outputs": [
    {
     "name": "stdout",
     "output_type": "stream",
     "text": [
      "[[184   4   2]\n",
      " [  4 213  11]\n",
      " [  5  11   9]]\n"
     ]
    }
   ],
   "source": [
    "Confusion_matrix = np.zeros((3, 3), dtype = 'int64')\n",
    "for j in range(len(train)):\n",
    "    if train[train.columns[3]][j] == 1:\n",
    "        if train[train.columns[3]][j] == Majority_Result[train[train.columns[2]][j]]:\n",
    "            Confusion_matrix[0][0] += 1\n",
    "        elif Majority_Result[train[train.columns[2]][j]] == 0:\n",
    "            Confusion_matrix[0][1] += 1\n",
    "        elif Majority_Result[train[train.columns[2]][j]] == 2:\n",
    "            Confusion_matrix[0][2] += 1\n",
    "            \n",
    "    elif train[train.columns[3]][j] == 0:\n",
    "        if train[train.columns[3]][j] == Majority_Result[train[train.columns[2]][j]]:\n",
    "            Confusion_matrix[1][1] += 1\n",
    "        elif Majority_Result[train[train.columns[2]][j]] == 1:\n",
    "            Confusion_matrix[1][0] += 1\n",
    "        elif Majority_Result[train[train.columns[2]][j]] == 2:\n",
    "            Confusion_matrix[1][2] += 1\n",
    "            \n",
    "    elif train[train.columns[3]][j] == 2:\n",
    "        if train[train.columns[3]][j] == Majority_Result[train[train.columns[2]][j]]:\n",
    "            Confusion_matrix[2][2] += 1\n",
    "        elif Majority_Result[train[train.columns[2]][j]] == 1:\n",
    "            Confusion_matrix[2][0] += 1\n",
    "        elif Majority_Result[train[train.columns[2]][j]] == 0:\n",
    "            Confusion_matrix[2][1] += 1\n",
    "print(Confusion_matrix)"
   ]
  },
  {
   "cell_type": "code",
   "execution_count": 21,
   "id": "aacc2d74",
   "metadata": {},
   "outputs": [
    {
     "data": {
      "image/png": "[encoded data removed]",
      "text/plain": [
       "<Figure size 432x288 with 2 Axes>"
      ]
     },
     "metadata": {
      "needs_background": "light"
     },
     "output_type": "display_data"
    }
   ],
   "source": [
    "ax = sns.heatmap(Confusion_matrix, annot=True, cmap = plt.cm.magma)\n",
    "\n",
    "ax.set_title('Confusion Matrix\\n');\n",
    "ax.set_xlabel('\\nPredicted Values')\n",
    "ax.set_ylabel('Actual Values ');\n",
    "\n",
    "ax.xaxis.set_ticklabels(i for i in ('Positive', 'Negetive', 'Skip'))\n",
    "ax.yaxis.set_ticklabels(i for i in ('Positive', 'Negetive', 'Skip'))\n",
    "plt.show()"
   ]
  },
  {
   "cell_type": "code",
   "execution_count": null,
   "id": "94ab7c7a",
   "metadata": {},
   "outputs": [],
   "source": []
  },
  {
   "cell_type": "markdown",
   "id": "84341e95",
   "metadata": {},
   "source": [
    "# Weighted Majority Voting"
   ]
  },
  {
   "cell_type": "code",
   "execution_count": 22,
   "id": "06e969f2",
   "metadata": {},
   "outputs": [],
   "source": [
    "def weighted_majority(J, block, a):\n",
    "    for j in range(block.shape[1]):\n",
    "        for k in range(block.shape[0]):\n",
    "            if response_matrix[a + k][j] != -1:\n",
    "                J[j][response_matrix[a + k][j]] += accuracy[a + k]\n",
    "        \n",
    "    return J"
   ]
  },
  {
   "cell_type": "code",
   "execution_count": 23,
   "id": "94e5e1bf",
   "metadata": {},
   "outputs": [
    {
     "data": {
      "text/plain": [
       "array([-1, -1,  2])"
      ]
     },
     "execution_count": 23,
     "metadata": {},
     "output_type": "execute_result"
    }
   ],
   "source": [
    "M[0]"
   ]
  },
  {
   "cell_type": "code",
   "execution_count": 24,
   "id": "de6d7071",
   "metadata": {},
   "outputs": [
    {
     "name": "stdout",
     "output_type": "stream",
     "text": [
      "Accuracy after 50 annotators' response is 91.6479 %\n",
      "Accuracy after 100 annotators' response is 91.6479 %\n",
      "Accuracy after 150 annotators' response is 91.6479 %\n",
      "Accuracy after 200 annotators' response is 91.6479 %\n",
      "Accuracy after 250 annotators' response is 91.6479 %\n",
      "Accuracy after 300 annotators' response is 91.6479 %\n",
      "Accuracy after 350 annotators' response is 91.6479 %\n",
      "Accuracy after 400 annotators' response is 91.6479 %\n",
      "Accuracy after 450 annotators' response is 91.6479 %\n",
      "Accuracy after 500 annotators' response is 91.6479 %\n",
      "Accuracy after 550 annotators' response is 91.6479 %\n",
      "Accuracy after 600 annotators' response is 91.6479 %\n",
      "Accuracy after 650 annotators' response is 91.6479 %\n",
      "Accuracy after 700 annotators' response is 91.6479 %\n",
      "Accuracy after 750 annotators' response is 91.6479 %\n",
      "Accuracy after 800 annotators' response is 91.6479 %\n",
      "Accuracy after 850 annotators' response is 91.6479 %\n",
      "Accuracy after 900 annotators' response is 91.6479 %\n",
      "Accuracy after 950 annotators' response is 91.6479 %\n",
      "Accuracy after 1000 annotators' response is 91.6479 %\n",
      "Accuracy after 1050 annotators' response is 91.6479 %\n",
      "Accuracy after 1100 annotators' response is 91.6479 %\n",
      "Accuracy after 1150 annotators' response is 91.6479 %\n",
      "Accuracy after 1200 annotators' response is 91.6479 %\n",
      "Accuracy after 1250 annotators' response is 91.6479 %\n",
      "Accuracy after 1300 annotators' response is 91.6479 %\n",
      "Accuracy after 1350 annotators' response is 91.6479 %\n",
      "Accuracy after 1400 annotators' response is 91.6479 %\n",
      "Accuracy after 1450 annotators' response is 91.6479 %\n",
      "Accuracy after 1500 annotators' response is 91.6479 %\n",
      "Accuracy after 1550 annotators' response is 91.6479 %\n",
      "Accuracy after 1600 annotators' response is 91.6479 %\n",
      "Accuracy after 1650 annotators' response is 91.6479 %\n",
      "Accuracy after 1700 annotators' response is 91.6479 %\n",
      "Accuracy after 1750 annotators' response is 91.6479 %\n",
      "Accuracy after 1800 annotators' response is 91.6479 %\n",
      "Accuracy after 1850 annotators' response is 91.6479 %\n",
      "Accuracy after 1900 annotators' response is 91.6479 %\n",
      "Accuracy after 1950 annotators' response is 91.6479 %\n"
     ]
    }
   ],
   "source": [
    "a, b = 0, 50\n",
    "\n",
    "M = np.array([-1.]*p).reshape(r, c)\n",
    "Weighted_Majority_Result = np.array([-1.]*r)\n",
    "\n",
    "while b <= response_matrix.shape[0]:\n",
    "    A = response_matrix[a : b]\n",
    "    M = weighted_majority(M, A, a)\n",
    "    \n",
    "    Weighted_Majority_Result = np.argmax(J, axis=1)\n",
    "    \n",
    "    right = np.sum(train[train.columns[3]].values == Weighted_Majority_Result[train[train.columns[2]].values])\n",
    "\n",
    "    print(f'Accuracy after {b} annotators\\' response is {right / len(train) * 100 :.4f} %')\n",
    "    \n",
    "    a = b\n",
    "    b += 50"
   ]
  },
  {
   "cell_type": "code",
   "execution_count": 25,
   "id": "f4420225",
   "metadata": {},
   "outputs": [
    {
     "name": "stdout",
     "output_type": "stream",
     "text": [
      "[[184   4   2]\n",
      " [  4 213  11]\n",
      " [  5  11   9]]\n"
     ]
    }
   ],
   "source": [
    "Confusion_matrix = np.zeros((3, 3), dtype = 'int64')\n",
    "for j in range(len(train)):\n",
    "    if train[train.columns[3]][j] == 1:\n",
    "        if train[train.columns[3]][j] == Weighted_Majority_Result[train[train.columns[2]][j]]:\n",
    "            Confusion_matrix[0][0] += 1\n",
    "        elif Weighted_Majority_Result[train[train.columns[2]][j]] == 0:\n",
    "            Confusion_matrix[0][1] += 1\n",
    "        elif Weighted_Majority_Result[train[train.columns[2]][j]] == 2:\n",
    "            Confusion_matrix[0][2] += 1\n",
    "            \n",
    "    elif train[train.columns[3]][j] == 0:\n",
    "        if train[train.columns[3]][j] == Weighted_Majority_Result[train[train.columns[2]][j]]:\n",
    "            Confusion_matrix[1][1] += 1\n",
    "        elif Weighted_Majority_Result[train[train.columns[2]][j]] == 1:\n",
    "            Confusion_matrix[1][0] += 1\n",
    "        elif Weighted_Majority_Result[train[train.columns[2]][j]] == 2:\n",
    "            Confusion_matrix[1][2] += 1\n",
    "            \n",
    "    elif train[train.columns[3]][j] == 2:\n",
    "        if train[train.columns[3]][j] == Weighted_Majority_Result[train[train.columns[2]][j]]:\n",
    "            Confusion_matrix[2][2] += 1\n",
    "        elif Weighted_Majority_Result[train[train.columns[2]][j]] == 1:\n",
    "            Confusion_matrix[2][0] += 1\n",
    "        elif Weighted_Majority_Result[train[train.columns[2]][j]] == 0:\n",
    "            Confusion_matrix[2][1] += 1\n",
    "print(Confusion_matrix)"
   ]
  },
  {
   "cell_type": "code",
   "execution_count": 26,
   "id": "d554e78c",
   "metadata": {},
   "outputs": [
    {
     "data": {
      "image/png": "[encoded data removed]",
      "text/plain": [
       "<Figure size 432x288 with 2 Axes>"
      ]
     },
     "metadata": {
      "needs_background": "light"
     },
     "output_type": "display_data"
    }
   ],
   "source": [
    "ax = sns.heatmap(Confusion_matrix, annot=True, cmap = plt.cm.magma)\n",
    "\n",
    "ax.set_title('Confusion Matrix\\n');\n",
    "ax.set_xlabel('\\nPredicted Values')\n",
    "ax.set_ylabel('Actual Values ');\n",
    "\n",
    "ax.xaxis.set_ticklabels(i for i in ('Positive', 'Negetive', 'Skip'))\n",
    "ax.yaxis.set_ticklabels(i for i in ('Positive', 'Negetive', 'Skip'))\n",
    "plt.show()"
   ]
  }
 ],
 "metadata": {
  "kernelspec": {
   "display_name": "Python 3 (ipykernel)",
   "language": "python",
   "name": "python3"
  },
  "language_info": {
   "codemirror_mode": {
    "name": "ipython",
    "version": 3
   },
   "file_extension": ".py",
   "mimetype": "text/x-python",
   "name": "python",
   "nbconvert_exporter": "python",
   "pygments_lexer": "ipython3",
   "version": "3.9.7"
  }
 },
 "nbformat": 4,
 "nbformat_minor": 5
}
