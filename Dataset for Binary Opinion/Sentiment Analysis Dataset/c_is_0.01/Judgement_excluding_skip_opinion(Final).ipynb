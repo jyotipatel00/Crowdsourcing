{
 "cells": [
  {
   "cell_type": "markdown",
   "id": "df383c30",
   "metadata": {},
   "source": [
    "Working skip option as -1 and exclude the effect of skip in our approach"
   ]
  },
  {
   "cell_type": "code",
   "execution_count": 1,
   "id": "2b9ca1b9",
   "metadata": {},
   "outputs": [],
   "source": [
    "import numpy as np\n",
    "import pandas as pd\n",
    "import copy #Use for Deep copy\n",
    "\n",
    "import seaborn as sns\n",
    "import matplotlib.pyplot as plt"
   ]
  },
  {
   "cell_type": "code",
   "execution_count": 2,
   "id": "cbe3925a",
   "metadata": {},
   "outputs": [
    {
     "name": "stdout",
     "output_type": "stream",
     "text": [
      "[[-1 -1 -1 ... -1 -1 -1]\n",
      " [-1 -1 -1 ... -1 -1 -1]\n",
      " [-1 -1 -1 ... -1 -1  1]\n",
      " ...\n",
      " [-1 -1 -1 ... -1 -1 -1]\n",
      " [-1 -1 -1 ... -1 -1 -1]\n",
      " [-1 -1 -1 ... -1 -1 -1]]\n"
     ]
    }
   ],
   "source": [
    "with open('D:\\\\decertation\\\\data\\sentiment analysis dataset\\\\new_code\\\\response_matrix.npy', 'rb') as f:\n",
    "    response_matrix1 = np.load(f)\n",
    "print(response_matrix1)"
   ]
  },
  {
   "cell_type": "markdown",
   "id": "1ce2231b",
   "metadata": {},
   "source": [
    "# Make response_matrix without skip opinion"
   ]
  },
  {
   "cell_type": "code",
   "execution_count": 3,
   "id": "ffb1e647",
   "metadata": {},
   "outputs": [],
   "source": [
    "response_matrix = copy.deepcopy(response_matrix1)\n",
    "response_matrix[response_matrix == 2] = -1"
   ]
  },
  {
   "cell_type": "code",
   "execution_count": 4,
   "id": "ee656675",
   "metadata": {},
   "outputs": [
    {
     "name": "stdout",
     "output_type": "stream",
     "text": [
      "   Unnamed: 0  original_question   ques  new_judgement\n",
      "0           0           79186190  73151              1\n",
      "1           1           79186569  73515              1\n",
      "2           2           79186651  73592              0\n",
      "3           3           79186726  73659              1\n",
      "4           4           79186749  73681              1\n"
     ]
    }
   ],
   "source": [
    "train = pd.read_csv('D:\\\\decertation\\\\data\\sentiment analysis dataset\\\\new_code\\\\new_gold_without_skip.csv')\n",
    "print(train.head())"
   ]
  },
  {
   "cell_type": "code",
   "execution_count": 5,
   "id": "99a7a513",
   "metadata": {},
   "outputs": [
    {
     "name": "stdout",
     "output_type": "stream",
     "text": [
      "Positive : 190, Negetive : 228\n"
     ]
    }
   ],
   "source": [
    "judgement_counts = np.bincount(train['new_judgement'])\n",
    "Negetive = judgement_counts[0]\n",
    "Positive = judgement_counts[1]        \n",
    "print(f'Positive : {Positive}, Negetive : {Negetive}')"
   ]
  },
  {
   "cell_type": "code",
   "execution_count": 6,
   "id": "ea76d012",
   "metadata": {},
   "outputs": [],
   "source": [
    "c, r = len(np.unique(response_matrix))-1, response_matrix.shape[1]\n",
    "p = r * c"
   ]
  },
  {
   "cell_type": "code",
   "execution_count": 7,
   "id": "4e9ea2ea",
   "metadata": {},
   "outputs": [
    {
     "name": "stdout",
     "output_type": "stream",
     "text": [
      "Total question 98980\n"
     ]
    }
   ],
   "source": [
    "tot_ques = r\n",
    "print(f'Total question {tot_ques}')"
   ]
  },
  {
   "cell_type": "markdown",
   "id": "a5055984",
   "metadata": {},
   "source": [
    "# Calculating initial accuracy of annotators"
   ]
  },
  {
   "cell_type": "code",
   "execution_count": 8,
   "id": "008eb770",
   "metadata": {},
   "outputs": [
    {
     "name": "stdout",
     "output_type": "stream",
     "text": [
      "[0.  1.  1.  0.8 0. ]\n"
     ]
    }
   ],
   "source": [
    "s1 = int(len(train)* 0.3)\n",
    "train2 = train[ : s1]\n",
    "\n",
    "accuracy = [1 / len(train2)]*response_matrix.shape[0]\n",
    "for i in range (response_matrix.shape[0]):\n",
    "    tot, corr = 0.0, 0.0\n",
    "    for j in range(len(train2)):\n",
    "        if -1 != response_matrix[i][train2[train2.columns[2]][j]]:\n",
    "            tot += 1\n",
    "            if train2[train2.columns[3]][j] == response_matrix[i][train2[train2.columns[2]][j]]:\n",
    "                corr += 1\n",
    "    if tot != 0:\n",
    "        accuracy[i] += corr / tot\n",
    "minacc = np.min(accuracy)\n",
    "maxacc = np.max(accuracy)\n",
    "accuracy = (accuracy - minacc)/ (maxacc-minacc)\n",
    "print(accuracy[ : 5])"
   ]
  },
  {
   "cell_type": "markdown",
   "id": "107ad2c3",
   "metadata": {},
   "source": [
    "# Majority voting"
   ]
  },
  {
   "cell_type": "code",
   "execution_count": 9,
   "id": "db3153eb",
   "metadata": {},
   "outputs": [],
   "source": [
    "def majority(J, block, a):\n",
    "    for j in range(block.shape[1]):\n",
    "        for k in range(block.shape[0]):\n",
    "            if response_matrix[a + k][j] != -1:\n",
    "                J[j][response_matrix[a + k][j]] += 1  \n",
    "        \n",
    "    return J"
   ]
  },
  {
   "cell_type": "code",
   "execution_count": 10,
   "id": "5d41113d",
   "metadata": {},
   "outputs": [
    {
     "name": "stdout",
     "output_type": "stream",
     "text": [
      "Accuracy after 50 annotators' response is 71.7833 %\n",
      "Accuracy after 100 annotators' response is 80.3612 %\n",
      "Accuracy after 150 annotators' response is 84.1986 %\n",
      "Accuracy after 200 annotators' response is 87.1332 %\n",
      "Accuracy after 250 annotators' response is 88.7133 %\n",
      "Accuracy after 300 annotators' response is 89.6163 %\n",
      "Accuracy after 350 annotators' response is 90.2935 %\n",
      "Accuracy after 400 annotators' response is 90.0677 %\n",
      "Accuracy after 450 annotators' response is 90.5192 %\n",
      "Accuracy after 500 annotators' response is 90.5192 %\n",
      "Accuracy after 550 annotators' response is 90.7449 %\n",
      "Accuracy after 600 annotators' response is 90.9707 %\n",
      "Accuracy after 650 annotators' response is 90.9707 %\n",
      "Accuracy after 700 annotators' response is 90.9707 %\n",
      "Accuracy after 750 annotators' response is 90.9707 %\n",
      "Accuracy after 800 annotators' response is 90.7449 %\n",
      "Accuracy after 850 annotators' response is 90.7449 %\n",
      "Accuracy after 900 annotators' response is 90.9707 %\n",
      "Accuracy after 950 annotators' response is 90.9707 %\n",
      "Accuracy after 1000 annotators' response is 91.1964 %\n",
      "Accuracy after 1050 annotators' response is 91.1964 %\n",
      "Accuracy after 1100 annotators' response is 91.1964 %\n",
      "Accuracy after 1150 annotators' response is 91.4221 %\n",
      "Accuracy after 1200 annotators' response is 91.6479 %\n",
      "Accuracy after 1250 annotators' response is 91.6479 %\n",
      "Accuracy after 1300 annotators' response is 91.6479 %\n",
      "Accuracy after 1350 annotators' response is 91.6479 %\n",
      "Accuracy after 1400 annotators' response is 91.6479 %\n",
      "Accuracy after 1450 annotators' response is 91.6479 %\n",
      "Accuracy after 1500 annotators' response is 91.8736 %\n",
      "Accuracy after 1550 annotators' response is 92.3251 %\n",
      "Accuracy after 1600 annotators' response is 92.3251 %\n",
      "Accuracy after 1650 annotators' response is 92.3251 %\n",
      "Accuracy after 1700 annotators' response is 92.3251 %\n",
      "Accuracy after 1750 annotators' response is 92.3251 %\n",
      "Accuracy after 1800 annotators' response is 92.5508 %\n",
      "Accuracy after 1850 annotators' response is 92.5508 %\n",
      "Accuracy after 1900 annotators' response is 92.3251 %\n",
      "Accuracy after 1950 annotators' response is 92.3251 %\n"
     ]
    }
   ],
   "source": [
    "a, b = 0, 50\n",
    "\n",
    "M = np.array([-1]*p).reshape(r, c)\n",
    "Majority_Result = np.array([-1]*r)\n",
    "\n",
    "while b <= response_matrix.shape[0]:\n",
    "    A = response_matrix[a : b]\n",
    "    M = majority(M, A, a)\n",
    "    \n",
    "    Majority_Result = np.argmax(M, axis=1)\n",
    "    \n",
    "    right = np.sum(train[train.columns[3]].values == Majority_Result[train[train.columns[2]].values])\n",
    "\n",
    "    print(f'Accuracy after {b} annotators\\' response is {right / len(train) * 100 :.4f} %')\n",
    "    \n",
    "    a = b\n",
    "    b += 50"
   ]
  },
  {
   "cell_type": "markdown",
   "id": "761cee34",
   "metadata": {},
   "source": [
    "Confusion matrix"
   ]
  },
  {
   "cell_type": "code",
   "execution_count": 11,
   "id": "5a910233",
   "metadata": {},
   "outputs": [
    {
     "name": "stdout",
     "output_type": "stream",
     "text": [
      "[[183   7]\n",
      " [  2 226]]\n"
     ]
    }
   ],
   "source": [
    "Confusion_matrix = np.zeros((2, 2), dtype = 'int64')\n",
    "for j in range(len(train)):\n",
    "    if train[train.columns[3]][j] == 1:\n",
    "        if train[train.columns[3]][j] == Majority_Result[train[train.columns[2]][j]]:\n",
    "            Confusion_matrix[0][0] += 1\n",
    "        elif Majority_Result[train[train.columns[2]][j]] == 0:\n",
    "            Confusion_matrix[0][1] += 1\n",
    "            \n",
    "    elif train[train.columns[3]][j] == 0:\n",
    "        if train[train.columns[3]][j] == Majority_Result[train[train.columns[2]][j]]:\n",
    "            Confusion_matrix[1][1] += 1\n",
    "        elif Majority_Result[train[train.columns[2]][j]] == 1:\n",
    "            Confusion_matrix[1][0] += 1\n",
    "print(Confusion_matrix)"
   ]
  },
  {
   "cell_type": "code",
   "execution_count": 12,
   "id": "29b9f8a0",
   "metadata": {},
   "outputs": [
    {
     "data": {
      "image/png": "[encoded data removed]",
      "text/plain": [
       "<Figure size 432x288 with 2 Axes>"
      ]
     },
     "metadata": {
      "needs_background": "light"
     },
     "output_type": "display_data"
    }
   ],
   "source": [
    "ax = sns.heatmap(Confusion_matrix, annot=True, cmap = plt.cm.magma)\n",
    "\n",
    "ax.set_title('Confusion Matrix\\n');\n",
    "ax.set_xlabel('\\nPredicted Values')\n",
    "ax.set_ylabel('Actual Values ');\n",
    "\n",
    "ax.xaxis.set_ticklabels(i for i in ('Positive', 'Negetive'))\n",
    "ax.yaxis.set_ticklabels(i for i in ('Positive', 'Negetive'))\n",
    "plt.show()"
   ]
  },
  {
   "cell_type": "markdown",
   "id": "a74acb09",
   "metadata": {},
   "source": [
    "# Weighted Majority Voting"
   ]
  },
  {
   "cell_type": "code",
   "execution_count": 13,
   "id": "784665bc",
   "metadata": {},
   "outputs": [],
   "source": [
    "def weighted_majority(J, block, a):\n",
    "    for j in range(block.shape[1]):\n",
    "        for k in range(block.shape[0]):\n",
    "            if response_matrix[a + k][j] != -1:\n",
    "                J[j][response_matrix[a + k][j]] += accuracy[a + k]\n",
    "        \n",
    "    return J"
   ]
  },
  {
   "cell_type": "code",
   "execution_count": 14,
   "id": "6f9c58b7",
   "metadata": {},
   "outputs": [
    {
     "name": "stdout",
     "output_type": "stream",
     "text": [
      "Accuracy after 50 annotators' response is 68.1716 %\n",
      "Accuracy after 100 annotators' response is 78.5553 %\n",
      "Accuracy after 150 annotators' response is 81.9413 %\n",
      "Accuracy after 200 annotators' response is 84.8758 %\n",
      "Accuracy after 250 annotators' response is 86.9074 %\n",
      "Accuracy after 300 annotators' response is 88.0361 %\n",
      "Accuracy after 350 annotators' response is 88.7133 %\n",
      "Accuracy after 400 annotators' response is 89.8420 %\n",
      "Accuracy after 450 annotators' response is 90.0677 %\n",
      "Accuracy after 500 annotators' response is 90.2935 %\n",
      "Accuracy after 550 annotators' response is 90.2935 %\n",
      "Accuracy after 600 annotators' response is 90.2935 %\n",
      "Accuracy after 650 annotators' response is 90.2935 %\n",
      "Accuracy after 700 annotators' response is 90.2935 %\n",
      "Accuracy after 750 annotators' response is 90.2935 %\n",
      "Accuracy after 800 annotators' response is 90.2935 %\n",
      "Accuracy after 850 annotators' response is 90.2935 %\n",
      "Accuracy after 900 annotators' response is 90.2935 %\n",
      "Accuracy after 950 annotators' response is 90.2935 %\n",
      "Accuracy after 1000 annotators' response is 90.2935 %\n",
      "Accuracy after 1050 annotators' response is 90.5192 %\n",
      "Accuracy after 1100 annotators' response is 90.5192 %\n",
      "Accuracy after 1150 annotators' response is 90.5192 %\n",
      "Accuracy after 1200 annotators' response is 90.7449 %\n",
      "Accuracy after 1250 annotators' response is 90.7449 %\n",
      "Accuracy after 1300 annotators' response is 90.7449 %\n",
      "Accuracy after 1350 annotators' response is 90.7449 %\n",
      "Accuracy after 1400 annotators' response is 90.7449 %\n",
      "Accuracy after 1450 annotators' response is 90.7449 %\n",
      "Accuracy after 1500 annotators' response is 90.9707 %\n",
      "Accuracy after 1550 annotators' response is 91.4221 %\n",
      "Accuracy after 1600 annotators' response is 91.4221 %\n",
      "Accuracy after 1650 annotators' response is 91.4221 %\n",
      "Accuracy after 1700 annotators' response is 91.4221 %\n",
      "Accuracy after 1750 annotators' response is 91.4221 %\n",
      "Accuracy after 1800 annotators' response is 91.6479 %\n",
      "Accuracy after 1850 annotators' response is 91.6479 %\n",
      "Accuracy after 1900 annotators' response is 91.6479 %\n",
      "Accuracy after 1950 annotators' response is 91.6479 %\n"
     ]
    }
   ],
   "source": [
    "a, b = 0, 50\n",
    "\n",
    "M = np.array([-1.]*p).reshape(r, c)\n",
    "Weighted_Majority_Result = np.array([-1]*r)\n",
    "\n",
    "while b <= response_matrix.shape[0]:\n",
    "    A = response_matrix[a : b]\n",
    "    M = weighted_majority(M, A, a)\n",
    "    \n",
    "    Weighted_Majority_Result = np.argmax(M, axis=1)\n",
    "    \n",
    "    right = np.sum(train[train.columns[3]].values == Weighted_Majority_Result[train[train.columns[2]].values])\n",
    "\n",
    "    print(f'Accuracy after {b} annotators\\' response is {right / len(train) * 100 :.4f} %')\n",
    "    \n",
    "    a = b\n",
    "    b += 50"
   ]
  },
  {
   "cell_type": "code",
   "execution_count": 15,
   "id": "acd0af19",
   "metadata": {},
   "outputs": [
    {
     "name": "stdout",
     "output_type": "stream",
     "text": [
      "[[180  10]\n",
      " [  2 226]]\n"
     ]
    }
   ],
   "source": [
    "Confusion_matrix = np.zeros((2, 2), dtype = 'int64')\n",
    "for j in range(len(train)):\n",
    "    if train[train.columns[3]][j] == 1:\n",
    "        if train[train.columns[3]][j] == Weighted_Majority_Result[train[train.columns[2]][j]]:\n",
    "            Confusion_matrix[0][0] += 1\n",
    "        elif Weighted_Majority_Result[train[train.columns[2]][j]] == 0:\n",
    "            Confusion_matrix[0][1] += 1\n",
    "            \n",
    "    elif train[train.columns[3]][j] == 0:\n",
    "        if train[train.columns[3]][j] == Weighted_Majority_Result[train[train.columns[2]][j]]:\n",
    "            Confusion_matrix[1][1] += 1\n",
    "        elif Weighted_Majority_Result[train[train.columns[2]][j]] == 1:\n",
    "            Confusion_matrix[1][0] += 1\n",
    "print(Confusion_matrix)"
   ]
  },
  {
   "cell_type": "code",
   "execution_count": 16,
   "id": "073fff2a",
   "metadata": {},
   "outputs": [
    {
     "data": {
      "image/png": "[encoded data removed]",
      "text/plain": [
       "<Figure size 432x288 with 2 Axes>"
      ]
     },
     "metadata": {
      "needs_background": "light"
     },
     "output_type": "display_data"
    }
   ],
   "source": [
    "ax = sns.heatmap(Confusion_matrix, annot=True, cmap = plt.cm.magma)\n",
    "\n",
    "ax.set_title('Confusion Matrix\\n');\n",
    "ax.set_xlabel('\\nPredicted Values')\n",
    "ax.set_ylabel('Actual Values ');\n",
    "\n",
    "ax.xaxis.set_ticklabels(i for i in ('Positive', 'Negetive'))\n",
    "ax.yaxis.set_ticklabels(i for i in ('Positive', 'Negetive'))\n",
    "plt.show()"
   ]
  },
  {
   "cell_type": "code",
   "execution_count": null,
   "id": "47e0cf1f",
   "metadata": {},
   "outputs": [],
   "source": []
  },
  {
   "cell_type": "markdown",
   "id": "6d3346e0",
   "metadata": {},
   "source": [
    "# Proposed approach for streaming data"
   ]
  },
  {
   "cell_type": "markdown",
   "id": "3b40ae47",
   "metadata": {},
   "source": [
    "Required function"
   ]
  },
  {
   "cell_type": "code",
   "execution_count": 17,
   "id": "d3b5a643",
   "metadata": {},
   "outputs": [],
   "source": [
    "def dist(a,b):\n",
    "    s = 0\n",
    "    for j in range(len(a)):\n",
    "        if a[j] != b[j]:\n",
    "            s += 1\n",
    "    return s"
   ]
  },
  {
   "cell_type": "code",
   "execution_count": 18,
   "id": "b968d178",
   "metadata": {},
   "outputs": [],
   "source": [
    "def local_directory(row):\n",
    "    local_dict = {\n",
    "        'vector': row,\n",
    "        'frequency': 1,\n",
    "        'response_number': np.count_nonzero(row != -1)\n",
    "    }\n",
    "    return local_dict"
   ]
  },
  {
   "cell_type": "code",
   "execution_count": 19,
   "id": "53097cc0",
   "metadata": {},
   "outputs": [],
   "source": [
    "#Cluster with distance = hyp\n",
    "def cluster(cluster_dict, block, hyp):\n",
    "    cluster_id = []\n",
    "    distance, i = 0, len(cluster_dict)\n",
    "    for j in range(len(block)):\n",
    "        if not bool(cluster_dict):  #Check if cluster_dict is empty\n",
    "            i += 1\n",
    "            cluster_dict[i] = local_directory(block[j])\n",
    "            cluster_id.append(i)\n",
    "#             distance += 0\n",
    "\n",
    "        else:\n",
    "            l, k = 1, i\n",
    "            while l <= k:\n",
    "                d = dist(block[j], cluster_dict[l]['vector'])\n",
    "                if d <= hyp:\n",
    "                    cluster_dict[l]['frequency'] += 1\n",
    "                    cluster_id.append(l)\n",
    "                    distance += d\n",
    "\n",
    "                    break\n",
    "                else:\n",
    "                    l += 1\n",
    "                if l == k+1:\n",
    "                    i += 1\n",
    "                    cluster_dict[i] = local_directory(block[j])\n",
    "                    cluster_id.append(i)\n",
    "#                     distance += 0\n",
    "\n",
    "    return cluster_dict, cluster_id, distance"
   ]
  },
  {
   "cell_type": "code",
   "execution_count": 20,
   "id": "c3eb1bec",
   "metadata": {},
   "outputs": [],
   "source": [
    "#Clustering with finding the distance\n",
    "def clustering(cluster_dict, block, d):\n",
    "    # Use ELBOW Method to find the threshold of the distance\n",
    "    distance_list = []\n",
    "    \n",
    "    for it in range (1,100):\n",
    "        k = it * 100\n",
    "        cluster_dictionary = copy.deepcopy(cluster_dict)\n",
    "        _, _, distance = cluster(cluster_dictionary, block, k)\n",
    "        distance_list.append(distance)\n",
    "\n",
    "\n",
    "    ratio = [(distance_list[i] - distance_list[i-1]) * 0.001 for i in range(1, len(distance_list))]\n",
    "    ratio1 = [a for a in ratio if a != 0]\n",
    "    index = [i for i, a in enumerate(ratio) if a != 0]\n",
    "\n",
    "    ind_ch = [(ratio1[i] - ratio1[i-1]) / (index[i] - index[i-1]) for i in range(1, len(index))]\n",
    "\n",
    "    dis = d\n",
    "    index = next((i for i, val in enumerate(ind_ch[1:], start=1) if val >= 1), None)\n",
    "    if index is not None:\n",
    "        a = ind_ch.index(ind_ch[index]) + 1\n",
    "        dis = ratio.index(ratio1[a]) * 100\n",
    "                \n",
    "\n",
    "#     cluster_dict,cluster_id, _ = cluster(cluster_dict, block, dis)   \n",
    "    return cluster_dict, dis"
   ]
  },
  {
   "cell_type": "code",
   "execution_count": 21,
   "id": "3bf3075f",
   "metadata": {},
   "outputs": [],
   "source": [
    "def judge(J, block, cluster_dict, a, dis):    \n",
    "    cluster_dict, cluster_id, _ = cluster(cluster_dict, block, dis)\n",
    "    weight = []\n",
    "\n",
    "    for k in range(block.shape[0]):\n",
    "        w = accuracy[a + k] + const * cluster_dict[cluster_id[k]]['response_number']/cluster_dict[cluster_id[k]]['frequency']\n",
    "        weight.append(w)\n",
    "    \n",
    "    for j in range(block.shape[1]):\n",
    "        for k in range(block.shape[0]):\n",
    "            if block[k][j] != -1:\n",
    "                J[j][block[k][j]] += weight[k]\n",
    "    return J, cluster_dict"
   ]
  },
  {
   "cell_type": "markdown",
   "id": "4c22eb1b",
   "metadata": {},
   "source": [
    "Main function for Proposed approach"
   ]
  },
  {
   "cell_type": "code",
   "execution_count": 22,
   "id": "1d6803f0",
   "metadata": {},
   "outputs": [],
   "source": [
    "const = 0.001\n",
    "dis = 1000\n",
    "cluster_dict = {}\n",
    "J = np.array([0.]*p).reshape(r, c)\n",
    "Result = np.array([-1]*r)\n",
    "difficulty_list = [0]*response_matrix.shape[1]\n",
    "total = 0"
   ]
  },
  {
   "cell_type": "code",
   "execution_count": 23,
   "id": "48d9319d",
   "metadata": {},
   "outputs": [
    {
     "name": "stdout",
     "output_type": "stream",
     "text": [
      "Accuracy after 50 annotators' response is 71.7833 %\n",
      "Accuracy after 100 annotators' response is 80.8126 %\n",
      "Accuracy after 150 annotators' response is 83.9729 %\n",
      "Accuracy after 200 annotators' response is 87.1332 %\n",
      "Accuracy after 250 annotators' response is 88.9391 %\n",
      "Accuracy after 300 annotators' response is 89.8420 %\n",
      "Accuracy after 350 annotators' response is 90.2935 %\n",
      "Accuracy after 400 annotators' response is 90.0677 %\n",
      "Accuracy after 450 annotators' response is 90.5192 %\n",
      "Accuracy after 500 annotators' response is 90.5192 %\n",
      "Accuracy after 550 annotators' response is 90.7449 %\n",
      "Accuracy after 600 annotators' response is 90.9707 %\n",
      "Accuracy after 650 annotators' response is 90.9707 %\n",
      "Accuracy after 700 annotators' response is 90.9707 %\n",
      "Accuracy after 750 annotators' response is 90.9707 %\n",
      "Accuracy after 800 annotators' response is 90.9707 %\n",
      "Accuracy after 850 annotators' response is 90.9707 %\n",
      "Accuracy after 900 annotators' response is 91.1964 %\n",
      "Accuracy after 950 annotators' response is 91.1964 %\n",
      "Accuracy after 1000 annotators' response is 91.4221 %\n",
      "Accuracy after 1050 annotators' response is 91.4221 %\n",
      "Accuracy after 1100 annotators' response is 91.4221 %\n",
      "Accuracy after 1150 annotators' response is 91.4221 %\n",
      "Accuracy after 1200 annotators' response is 91.6479 %\n",
      "Accuracy after 1250 annotators' response is 91.6479 %\n",
      "Accuracy after 1300 annotators' response is 91.6479 %\n",
      "Accuracy after 1350 annotators' response is 91.6479 %\n",
      "Accuracy after 1400 annotators' response is 91.6479 %\n",
      "Accuracy after 1450 annotators' response is 91.6479 %\n",
      "Accuracy after 1500 annotators' response is 91.6479 %\n",
      "Accuracy after 1550 annotators' response is 92.0993 %\n",
      "Accuracy after 1600 annotators' response is 92.0993 %\n",
      "Accuracy after 1650 annotators' response is 92.0993 %\n",
      "Accuracy after 1700 annotators' response is 92.0993 %\n",
      "Accuracy after 1750 annotators' response is 92.0993 %\n",
      "Accuracy after 1800 annotators' response is 92.0993 %\n",
      "Accuracy after 1850 annotators' response is 92.0993 %\n",
      "Accuracy after 1900 annotators' response is 92.0993 %\n",
      "Accuracy after 1950 annotators' response is 92.0993 %\n"
     ]
    }
   ],
   "source": [
    "a, b = 0, 50\n",
    "\n",
    "A = response_matrix[a : b]\n",
    "_, dis = clustering(cluster_dict, A, dis)\n",
    "\n",
    "\n",
    "while b <= response_matrix.shape[0]:\n",
    "    A = response_matrix[a : b]\n",
    "    J, cluster_dict = judge(J, A, cluster_dict, a, dis)\n",
    "    \n",
    "    # Calculate final result\n",
    "    Result = np.argmax(J, axis=1)\n",
    "    \n",
    "    #Calculate accuracy\n",
    "    right = np.sum(train[train.columns[3]].values == Result[train[train.columns[2]].values])\n",
    "            \n",
    "    print(f'Accuracy after {b} annotators\\' response is {right / len(train) * 100 :.4f} %')\n",
    "    \n",
    "    a = b\n",
    "    b += 50"
   ]
  },
  {
   "cell_type": "markdown",
   "id": "ea587f14",
   "metadata": {},
   "source": [
    "Confusion matrix"
   ]
  },
  {
   "cell_type": "code",
   "execution_count": 24,
   "id": "0aecffa9",
   "metadata": {},
   "outputs": [
    {
     "name": "stdout",
     "output_type": "stream",
     "text": [
      "[[185   5]\n",
      " [  5 223]]\n"
     ]
    }
   ],
   "source": [
    "Conf = np.zeros((2, 2), dtype = 'int64')\n",
    "for j in range(len(train)):\n",
    "    if train[train.columns[3]][j] == 1:\n",
    "        if train[train.columns[3]][j] == Result[train[train.columns[2]][j]]:\n",
    "            Conf[0][0] += 1\n",
    "        else:\n",
    "            Conf[1][0] += 1\n",
    "    if train[train.columns[3]][j] == 0:\n",
    "        if train[train.columns[3]][j] == Result[train[train.columns[2]][j]]:\n",
    "            Conf[1][1] += 1\n",
    "        else:\n",
    "            Conf[0][1] += 1\n",
    "print(Conf)"
   ]
  },
  {
   "cell_type": "code",
   "execution_count": 25,
   "id": "39354ef2",
   "metadata": {},
   "outputs": [
    {
     "data": {
      "image/png": "[encoded data removed]",
      "text/plain": [
       "<Figure size 432x288 with 2 Axes>"
      ]
     },
     "metadata": {
      "needs_background": "light"
     },
     "output_type": "display_data"
    }
   ],
   "source": [
    "ax = sns.heatmap(Conf, annot=True, cmap = plt.cm.magma)\n",
    "\n",
    "ax.set_title('Confusion Matrix\\n');\n",
    "ax.set_xlabel('\\nPredicted Values')\n",
    "ax.set_ylabel('Actual Values ');\n",
    "\n",
    "ax.xaxis.set_ticklabels(i for i in ('positive', 'negetive'))\n",
    "ax.yaxis.set_ticklabels(i for i in ('positive', 'negetive'))\n",
    "plt.show()"
   ]
  },
  {
   "cell_type": "code",
   "execution_count": null,
   "id": "0f4332a6",
   "metadata": {},
   "outputs": [],
   "source": []
  },
  {
   "cell_type": "code",
   "execution_count": null,
   "id": "e48ddfda",
   "metadata": {},
   "outputs": [],
   "source": []
  }
 ],
 "metadata": {
  "kernelspec": {
   "display_name": "Python 3 (ipykernel)",
   "language": "python",
   "name": "python3"
  },
  "language_info": {
   "codemirror_mode": {
    "name": "ipython",
    "version": 3
   },
   "file_extension": ".py",
   "mimetype": "text/x-python",
   "name": "python",
   "nbconvert_exporter": "python",
   "pygments_lexer": "ipython3",
   "version": "3.9.7"
  }
 },
 "nbformat": 4,
 "nbformat_minor": 5
}
